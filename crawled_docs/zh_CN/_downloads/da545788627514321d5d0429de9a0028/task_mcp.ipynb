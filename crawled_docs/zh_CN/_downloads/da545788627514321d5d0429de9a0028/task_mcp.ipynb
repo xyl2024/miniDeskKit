<!-- Title:  -->
<!-- URL: https://doc.agentscope.io/zh_CN/_downloads/da545788627514321d5d0429de9a0028/task_mcp.ipynb -->
<pre>{
  "cells": [
    {
      "cell_type": "markdown",
      "metadata": {},
      "source": [
        "\n\n# MCP\n\n\u672c\u7ae0\u5c06\u4ecb\u7ecd AgentScope \u5bf9 MCP\uff08Model Context Protocol\uff09\u7684\u4ee5\u4e0b\u652f\u6301\uff1a\n\n- \u652f\u6301 **HTTP** \uff08StreamableHTTP \u548c SSE\uff09\u548c **StdIO** \u7c7b\u578b\u7684 MCP \u670d\u52a1\u5668\n- \u63d0\u4f9b **\u6709\u72b6\u6001** \u548c **\u65e0\u72b6\u6001** \u4e24\u79cd MCP \u5ba2\u6237\u7aef\n- \u63d0\u4f9b **MCP \u7ea7\u522b** \u548c **\u51fd\u6570\u7ea7\u522b** \u7684 MCP \u5de5\u5177\u7ba1\u7406\n\n\u8fd9\u91cc\u7684\u6709\u72b6\u6001/\u65e0\u72b6\u6001\u662f\u6307\u5ba2\u6237\u7aef\u662f\u5426\u4f1a\u7ef4\u6301\u4e0e MCP \u670d\u52a1\u5668\u7684\u4f1a\u8bdd\uff08session\uff09\u3002\n\u65e0\u72b6\u6001\u5ba2\u6237\u7aef\u53ea\u4f1a\u5728\u8c03\u7528\u5de5\u5177\u53d1\u751f\u65f6\u5efa\u7acb\u4f1a\u8bdd\uff0c\u5e76\u5728\u5de5\u5177\u8c03\u7528\u7ed3\u675f\u540e\u7acb\u5373\u9500\u6bc1\u4f1a\u8bdd\uff0c\u662f\u4e00\u79cd\u8f7b\u91cf\u5316\u7684\u4f7f\u7528\u65b9\u5f0f\u3002\n\n\u4e0b\u8868\u603b\u7ed3\u4e86\u652f\u6301\u7684 MCP \u5ba2\u6237\u7aef\u7c7b\u578b\u548c\u534f\u8bae\uff1a\n\n.. list-table:: \u652f\u6301\u7684 MCP \u5ba2\u6237\u7aef\u7c7b\u578b\u548c\u534f\u8bae\n    :header-rows: 1\n\n    * - \u5ba2\u6237\u7aef\u7c7b\u578b\n      - HTTP\uff08StreamableHTTP \u548c SSE\uff09\n      - StdIO\n    * - \u6709\u72b6\u6001\u5ba2\u6237\u7aef\n      - ``HttpStatefulClient``\n      - ``StdIOStatefulClient``\n    * - \u65e0\u72b6\u6001\u5ba2\u6237\u7aef\n      - ``HttpStatelessClient``\n      -\n"
      ]
    },
    {
      "cell_type": "code",
      "execution_count": null,
      "metadata": {
        "collapsed": false
      },
      "outputs": [],
      "source": [
        "import asyncio\nimport json\nimport os\n\nfrom agentscope.mcp import HttpStatefulClient, HttpStatelessClient\nfrom agentscope.tool import Toolkit"
      ]
    },
    {
      "cell_type": "markdown",
      "metadata": {},
      "source": [
        "## MCP \u5ba2\u6237\u7aef\n\n\u5728 AgentScope \u4e2d\uff0cMCP \u5ba2\u6237\u7aef\u8d1f\u8d23\n\n- \u8fde\u63a5\u5230 MCP \u670d\u52a1\u5668\uff0c\n- \u4ece\u670d\u52a1\u5668\u83b7\u53d6\u5de5\u5177\u51fd\u6570\uff0c\u4ee5\u53ca\n- \u8c03\u7528 MCP \u670d\u52a1\u5668\u4e2d\u7684\u5de5\u5177\u51fd\u6570\u3002\n\nAgentScope \u4e2d\u6709\u4e24\u79cd\u7c7b\u578b\u7684 MCP \u5ba2\u6237\u7aef\uff1a**\u6709\u72b6\u6001** \u548c **\u65e0\u72b6\u6001**\u3002\n\u5b83\u4eec\u4ec5\u5728 **\u5982\u4f55\u7ba1\u7406\u4e0e MCP \u670d\u52a1\u5668\u7684\u4f1a\u8bdd** \u65b9\u9762\u6709\u6240\u4e0d\u540c\u3002\n\n- \u6709\u72b6\u6001\u5ba2\u6237\u7aef\uff1a\u6709\u72b6\u6001 MCP \u5ba2\u6237\u7aef\u5728\u5176\u751f\u547d\u5468\u671f\u5185 **\u7ef4\u6301\u4e0e MCP \u670d\u52a1\u5668\u7684\u6301\u4e45\u4f1a\u8bdd**\u3002\u5f00\u53d1\u8005\u5e94\u663e\u5f0f\u8c03\u7528 ``connect()`` \u548c ``close()`` \u65b9\u6cd5\u6765\u7ba1\u7406\u4f1a\u8bdd\u7684\u751f\u547d\u5468\u671f\u3002\n- \u65e0\u72b6\u6001\u5ba2\u6237\u7aef\uff1a\u65e0\u72b6\u6001 MCP \u5ba2\u6237\u7aef\u5728\u8c03\u7528\u5de5\u5177\u51fd\u6570\u65f6\u521b\u5efa\u65b0\u4f1a\u8bdd\uff0c\u5728\u5de5\u5177\u51fd\u6570\u8c03\u7528\u5b8c\u6210\u540e\u7acb\u5373\u9500\u6bc1\u4f1a\u8bdd\uff0c\u66f4\u52a0\u8f7b\u91cf\u5316\u3002\n\n&lt;div class=\"alert alert-info\"&gt;&lt;h4&gt;Note&lt;/h4&gt;&lt;p&gt;- StdIO MCP \u670d\u52a1\u5668\u53ea\u6709\u6709\u72b6\u6001\u5ba2\u6237\u7aef\uff0c\u5f53\u8c03\u7528 ``connect()`` \u65f6\uff0c\u5b83\u5c06\u5728\u672c\u5730\u542f\u52a8 MCP \u670d\u52a1\u5668\u7136\u540e\u8fde\u63a5\u5230\u5b83\u3002&lt;/p&gt;&lt;/div&gt;\n - \u5bf9\u4e8e\u6709\u72b6\u6001\u5ba2\u6237\u7aef\uff0c\u5f00\u53d1\u8005\u5fc5\u987b\u786e\u4fdd\u5728\u8c03\u7528\u5de5\u5177\u51fd\u6570\u65f6\u5ba2\u6237\u7aef\u5df2\u8fde\u63a5\u3002\n - \u5f53\u6709\u591a\u4e2a `HttpStatefulClient` \u6216 `StdIOStatefulClient` \u5efa\u7acb\u8fde\u63a5\u65f6\uff0c\u5e94\u6309\u7167\u540e\u8fdb\u5148\u51fa (LIFO) \u7684\u987a\u5e8f\u5173\u95ed\u5b83\u4eec\u4ee5\u907f\u514d\u5f15\u53d1\u9519\u8bef\u3002\n\n\u4ee5\u9ad8\u5fb7\u5730\u56fe MCP \u670d\u52a1\u5668\u4e3a\u4f8b\uff0c\u6709\u72b6\u6001\u548c\u65e0\u72b6\u6001\u5ba2\u6237\u7aef\u7684\u521b\u5efa\u975e\u5e38\u76f8\u4f3c\uff1a\n\n\n"
      ]
    },
    {
      "cell_type": "code",
      "execution_count": null,
      "metadata": {
        "collapsed": false
      },
      "outputs": [],
      "source": [
        "stateful_client = HttpStatefulClient(\n    # \u7528\u4e8e\u6807\u8bc6 MCP \u7684\u540d\u79f0\n    name=\"mcp_services_stateful\",\n    transport=\"streamable_http\",\n    url=f\"https://mcp.amap.com/mcp?key={os.environ['GAODE_API_KEY']}\",\n)\n\nstateless_client = HttpStatelessClient(\n    # \u7528\u4e8e\u6807\u8bc6 MCP \u7684\u540d\u79f0\n    name=\"mcp_services_stateless\",\n    transport=\"streamable_http\",\n    url=f\"https://mcp.amap.com/mcp?key={os.environ['GAODE_API_KEY']}\",\n)"
      ]
    },
    {
      "cell_type": "markdown",
      "metadata": {},
      "source": [
        "\u6709\u72b6\u6001\u548c\u65e0\u72b6\u6001\u5ba2\u6237\u7aef\u90fd\u63d0\u4f9b\u4ee5\u4e0b\u65b9\u6cd5\uff1a\n\n.. list-table:: MCP \u5ba2\u6237\u7aef\u65b9\u6cd5\n   :header-rows: 1\n\n   * - \u65b9\u6cd5\n     - \u63cf\u8ff0\n   * - ``list_tools``\n     - \u5217\u51fa MCP \u670d\u52a1\u5668\u4e2d\u6240\u6709\u53ef\u7528\u7684\u5de5\u5177\u3002\n   * - ``get_callable_function``\n     - \u901a\u8fc7\u540d\u79f0\u4ece MCP \u670d\u52a1\u5668\u83b7\u53d6\u53ef\u8c03\u7528\u7684\u51fd\u6570\u5bf9\u8c61\u3002\n\n## MCP \u4f5c\u4e3a\u5de5\u5177\nAgentScope \u63d0\u4f9b\u4e86\u5bf9 MCP \u5de5\u5177\u7684\u7ec6\u7c92\u5ea6\u7ba1\u7406\uff0c\u5305\u62ec MCP \u7ea7\u522b\u548c\u51fd\u6570\u7ea7\u522b\u7684\u7ba1\u7406\u3002\n\n### MCP \u7ea7\u522b\u7ba1\u7406\n\u60a8\u53ef\u4ee5\u5c06 MCP \u670d\u52a1\u5668\u7684\u6240\u6709\u5de5\u5177\u4e00\u6b21\u6027\u6ce8\u518c\u5230 ``Toolkit`` \u4e2d\uff0c\u5982\u4e0b\u6240\u793a\u3002\n\n.. tip:: \u53ef\u9009\u5730\uff0c\u5f00\u53d1\u8005\u53ef\u4ee5\u901a\u8fc7\u6307\u5b9a\u7ec4\u540d\u6765\u7ba1\u7406\u5de5\u5177\u3002\u6709\u5173\u5206\u7ec4\u5de5\u5177\u7ba1\u7406\uff0c\u8bf7\u53c2\u8003 `tool` \u90e8\u5206\u3002\n\n\n"
      ]
    },
    {
      "cell_type": "code",
      "execution_count": null,
      "metadata": {
        "collapsed": false
      },
      "outputs": [],
      "source": [
        "toolkit = Toolkit()\n\n\nasync def example_register_stateless_mcp() -&gt; None:\n    \"\"\"\u6ce8\u518c\u65e0\u72b6\u6001\u5ba2\u6237\u7aef MCP \u5de5\u5177\u7684\u793a\u4f8b\u3002\"\"\"\n    # \u4ece MCP \u670d\u52a1\u5668\u6ce8\u518c\u6240\u6709\u5de5\u5177\n    await toolkit.register_mcp_client(\n        stateless_client,\n        # group_name=\"map_services\",  # \u53ef\u9009\u7684\u7ec4\u540d\n    )\n\n    print(\"\u6ce8\u518c\u7684 MCP \u5de5\u5177\u603b\u6570\uff1a\", len(toolkit.get_json_schemas()))\n\n    maps_geo = next(\n        tool\n        for tool in toolkit.get_json_schemas()\n        if tool[\"function\"][\"name\"] == \"maps_geo\"\n    )\n    print(\"\\n\u793a\u4f8b ``maps_geo`` \u51fd\u6570\uff1a\")\n    print(\n        json.dumps(\n            maps_geo,\n            indent=4,\n            ensure_ascii=False,\n        ),\n    )\n\n\nasyncio.run(example_register_stateless_mcp())"
      ]
    },
    {
      "cell_type": "markdown",
      "metadata": {},
      "source": [
        "\u8981\u79fb\u9664\u5df2\u6ce8\u518c\u7684\u5de5\u5177\uff0c\u53ef\u4ee5\u4f7f\u7528 ``remove_tool_function`` \u51fd\u6570\uff0c\u6216\u4f7f\u7528 ``remove_mcp_clients`` \u79fb\u9664\u7279\u5b9a MCP \u7684\u6240\u6709\u5de5\u5177\u3002\n\n\n"
      ]
    },
    {
      "cell_type": "code",
      "execution_count": null,
      "metadata": {
        "collapsed": false
      },
      "outputs": [],
      "source": [
        "async def example_remove_mcp_tools() -&gt; None:\n    \"\"\"\u79fb\u9664 MCP \u5de5\u5177\u7684\u793a\u4f8b\u3002\"\"\"\n    print(\"\u79fb\u9664\u524d\u7684\u5de5\u5177\u603b\u6570\uff1a\", len(toolkit.get_json_schemas()))\n\n    # \u901a\u8fc7\u540d\u79f0\u79fb\u9664\u7279\u5b9a\u7684\u5de5\u5177\u51fd\u6570\n    toolkit.remove_tool_function(\"maps_geo\")\n    print(\"\u5de5\u5177\u6570\u91cf\uff1a\", len(toolkit.get_json_schemas()))\n\n    # \u901a\u8fc7\u540d\u79f0\u79fb\u9664 MCP \u5ba2\u6237\u7aef\u7684\u6240\u6709\u5de5\u5177\n    await toolkit.remove_mcp_clients(client_names=[\"mcp_services_stateless\"])\n    print(\"\u5de5\u5177\u6570\u91cf\uff1a\", len(toolkit.get_json_schemas()))\n\n\nasyncio.run(example_remove_mcp_tools())"
      ]
    },
    {
      "cell_type": "markdown",
      "metadata": {},
      "source": [
        "### \u51fd\u6570\u7ea7\u522b\u7ba1\u7406\n\u6ce8\u610f\u5230\u5f00\u53d1\u8005\u6709\u5bf9 MCP \u5de5\u5177\u8fdb\u884c\u66f4\u7ec6\u7c92\u5ea6\u63a7\u5236\u7684\u9700\u6c42\uff0c\u4f8b\u5982\u5bf9\u5de5\u5177\u7ed3\u679c\u8fdb\u884c\u540e\u5904\u7406\uff0c\u6216\u4f7f\u7528\u5b83\u4eec\u521b\u5efa\u66f4\u590d\u6742\u7684\u5de5\u5177\u51fd\u6570\u3002\n\n\u56e0\u6b64\uff0cAgentScope \u652f\u6301\u901a\u8fc7\u5de5\u5177\u540d\u4ece MCP \u5ba2\u6237\u7aef\u83b7\u53d6\u53ef\u8c03\u7528\u7684\u51fd\u6570\u5bf9\u8c61\uff0c\u8fd9\u6837\u5f00\u53d1\u8005\u53ef\u4ee5\n\n- \u76f4\u63a5\u8c03\u7528\u5b83\uff0c\n- \u5c06\u5176\u5305\u88c5\u5230\u81ea\u5df1\u7684\u51fd\u6570\u4e2d\uff0c\u6216\u4ee5\u4efb\u4f55\u5176\u5b83\u65b9\u5f0f\u8fdb\u884c\u4f7f\u7528\u3002\n\n\u6b64\u5916\uff0c\u5f00\u53d1\u8005\u53ef\u4ee5\u6307\u5b9a\u662f\u5426\u5c06\u5de5\u5177\u51fd\u6570\u6267\u884c\u7ed3\u679c\u5305\u88c5\u6210 ``ToolResponse`` \u5bf9\u8c61\uff0c\u4ee5\u4fbf\u4e0e ``Toolkit`` \u65e0\u7f1d\u4f7f\u7528\u3002\n\u5982\u679c\u8bbe\u7f6e ``wrap_tool_result=False``\uff0c\u5c06\u8fd4\u56de\u539f\u59cb\u7ed3\u679c\u7c7b\u578b ``mcp.types.CallToolResult``\u3002\n\n\u4ee5 ``maps_geo`` \u51fd\u6570\u4e3a\u4f8b\uff0c\u53ef\u4ee5\u5c06\u5176\u83b7\u53d6\u4e3a\u53ef\u8c03\u7528\u7684\u51fd\u6570\u5bf9\u8c61\uff0c\u5982\u4e0b\u6240\u793a\uff1a\n\n\n"
      ]
    },
    {
      "cell_type": "code",
      "execution_count": null,
      "metadata": {
        "collapsed": false
      },
      "outputs": [],
      "source": [
        "async def example_function_level_usage() -&gt; None:\n    \"\"\"\u4f7f\u7528\u51fd\u6570\u7ea7\u522b MCP \u5de5\u5177\u7684\u793a\u4f8b\u3002\"\"\"\n    func_obj = await stateless_client.get_callable_function(\n        func_name=\"maps_geo\",\n        # \u662f\u5426\u5c06\u5de5\u5177\u7ed3\u679c\u5305\u88c5\u5230 AgentScope \u7684 ToolResponse \u4e2d\n        wrap_tool_result=True,\n    )\n\n    # \u60a8\u53ef\u4ee5\u83b7\u53d6\u5176\u540d\u79f0\u3001\u63cf\u8ff0\u548c JSON schema\n    print(\"\u51fd\u6570\u540d\u79f0\uff1a\", func_obj.name)\n    print(\"\u51fd\u6570\u63cf\u8ff0\uff1a\", func_obj.description)\n    print(\n        \"\u51fd\u6570 JSON schema\uff1a\",\n        json.dumps(func_obj.json_schema, indent=4, ensure_ascii=False),\n    )\n\n    # \u76f4\u63a5\u8c03\u7528\u51fd\u6570\u5bf9\u8c61\n    res = await func_obj(\n        address=\"\u5929\u5b89\u95e8\u5e7f\u573a\",\n        city=\"\u5317\u4eac\",\n    )\n    print(\"\\n\u51fd\u6570\u8c03\u7528\u7ed3\u679c\uff1a\")\n    print(res)\n\n\nasyncio.run(example_function_level_usage())"
      ]
    },
    {
      "cell_type": "markdown",
      "metadata": {},
      "source": [
        "## \u8fdb\u4e00\u6b65\u9605\u8bfb\n\n\u6709\u5173\u66f4\u591a\u8be6\u7ec6\u4fe1\u606f\uff0c\u8bf7\u53c2\u89c1\uff1a\n\n- `tool`\n- `agent`\n\n\n"
      ]
    }
  ],
  "metadata": {
    "kernelspec": {
      "display_name": "Python 3",
      "language": "python",
      "name": "python3"
    },
    "language_info": {
      "codemirror_mode": {
        "name": "ipython",
        "version": 3
      },
      "file_extension": ".py",
      "mimetype": "text/x-python",
      "name": "python",
      "nbconvert_exporter": "python",
      "pygments_lexer": "ipython3",
      "version": "3.10.18"
    }
  },
  "nbformat": 4,
  "nbformat_minor": 0
}</pre><div class="json-formatter-container"></div>