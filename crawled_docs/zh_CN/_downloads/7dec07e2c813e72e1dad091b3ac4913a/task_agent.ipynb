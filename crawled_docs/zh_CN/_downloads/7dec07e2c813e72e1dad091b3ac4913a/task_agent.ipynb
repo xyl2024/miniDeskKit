<!-- Title:  -->
<!-- URL: https://doc.agentscope.io/zh_CN/_downloads/7dec07e2c813e72e1dad091b3ac4913a/task_agent.ipynb -->
<pre>{
  "cells": [
    {
      "cell_type": "markdown",
      "metadata": {},
      "source": [
        "\n\n# \u667a\u80fd\u4f53\n\n\u5728\u7ae0\u6211\u4eec\u9996\u5148\u91cd\u70b9\u4ecb\u7ecd AgentScope \u4e2d\u7684 ReAct \u667a\u80fd\u4f53\uff0c\u7136\u540e\u7b80\u8981\u4ecb\u7ecd\u5982\u4f55\u4ece\u96f6\u5f00\u59cb\u81ea\u5b9a\u4e49\u667a\u80fd\u4f53\u3002\n\n## ReAct \u667a\u80fd\u4f53\n\n\u5728 AgentScope \u4e2d\uff0c``ReActAgent`` \u7c7b\u5c06\u5404\u79cd\u529f\u80fd\u96c6\u6210\u5230\u6700\u7ec8\u5b9e\u73b0\u4e2d\uff0c\u5177\u4f53\u5305\u62ec\n\n.. list-table:: ``ReActAgent`` \u7684\u529f\u80fd\u7279\u6027\n    :header-rows: 1\n\n    * - \u529f\u80fd\u7279\u6027\n      - \u53c2\u8003\u6587\u6863\n    * - \u652f\u6301\u5b9e\u65f6\u4ecb\u5165\uff08Realtime Steering\uff09\n      -\n    * - \u652f\u6301\u5e76\u884c\u5de5\u5177\u8c03\u7528\n      -\n    * - \u652f\u6301\u7ed3\u6784\u5316\u8f93\u51fa\n      -\n    * - \u652f\u6301\u667a\u80fd\u4f53\u81ea\u4e3b\u7ba1\u7406\u5de5\u5177\uff08Meta tool\uff09\n      - `tool`\n    * - \u652f\u6301\u51fd\u6570\u7c92\u5ea6\u7684 MCP \u63a7\u5236\n      - `mcp`\n    * - \u652f\u6301\u667a\u80fd\u4f53\u81ea\u4e3b\u63a7\u5236\u957f\u671f\u8bb0\u5fc6\n      - `long-term-memory`\n    * - \u652f\u6301\u81ea\u52a8\u72b6\u6001\u7ba1\u7406\n      - `state`\n\n\n\u7531\u4e8e\u7bc7\u5e45\u9650\u5236\uff0c\u672c\u7ae0\u6211\u4eec\u4ec5\u6f14\u793a ``ReActAgent`` \u7c7b\u7684\u524d\u4e09\u4e2a\u529f\u80fd\u7279\u6027\uff0c\u5176\u5b83\u529f\u80fd\u6211\u4eec\u5728\u5bf9\u5e94\u7684\u7ae0\u8282\u8fdb\u884c\u4ecb\u7ecd\u3002\n"
      ]
    },
    {
      "cell_type": "code",
      "execution_count": null,
      "metadata": {
        "collapsed": false
      },
      "outputs": [],
      "source": [
        "import asyncio\nimport json\nimport os\nfrom datetime import datetime\nimport time\n\nfrom pydantic import BaseModel, Field\n\nfrom agentscope.agent import ReActAgent\nfrom agentscope.formatter import DashScopeChatFormatter\nfrom agentscope.memory import InMemoryMemory\nfrom agentscope.message import TextBlock, Msg\nfrom agentscope.model import DashScopeChatModel\nfrom agentscope.tool import Toolkit, ToolResponse"
      ]
    },
    {
      "cell_type": "markdown",
      "metadata": {},
      "source": [
        "### \u5b9e\u65f6\u63a7\u5236\n\n\u5b9e\u65f6\u63a7\u5236\u6307 **\u5141\u8bb8\u7528\u6237\u968f\u65f6\u4e2d\u65ad\u667a\u80fd\u4f53\u7684\u56de\u590d\uff0c\u4ecb\u5165\u667a\u80fd\u4f53\u7684\u6267\u884c\u8fc7\u7a0b**\uff0cAgentScope \u57fa\u4e8e asyncio \u53d6\u6d88\u673a\u5236\u5b9e\u73b0\u4e86\u8be5\u529f\u80fd\u3002\n\n\u5177\u4f53\u6765\u8bf4\uff0cAgentScope \u4e2d\u667a\u80fd\u4f53\u63d0\u4f9b\u4e86 ``interrupt`` \u65b9\u6cd5\uff0c\u5f53\u8be5\u51fd\u6570\u88ab\u8c03\u7528\u65f6\uff0c\u5b83\u5c06\u53d6\u6d88\u5f53\u524d\u6b63\u5728\u6267\u884c\u7684 `reply` \u51fd\u6570\uff0c\u5e76\u6267\u884c ``handle_interrupt`` \u65b9\u6cd5\u8fdb\u884c\u540e\u5904\u7406\u3002\n\n.. hint:: \u7ed3\u5408 `tool` \u4e2d\u63d0\u5230\u7684 AgentScope \u652f\u6301\u5de5\u5177\u51fd\u6570\u6d41\u5f0f\u8fd4\u56de\u7ed3\u679c\u7684\u529f\u80fd\uff0c\u5de5\u5177\u6267\u884c\u8fc7\u7a0b\u4e2d\u5982\u679c\u6267\u884c\u65f6\u95f4\u8fc7\u957f\u6216\u504f\u79bb\u7528\u6237\u671f\u671b\uff0c\u7528\u6237\u53ef\u4ee5\u901a\u8fc7\u5728\u7ec8\u7aef\u4e2d\u6309 Ctrl+C \u6216\u5728\u4ee3\u7801\u4e2d\u8c03\u7528\u667a\u80fd\u4f53\u7684\n ``interrupt`` \u65b9\u6cd5\u6765\u4e2d\u65ad\u5de5\u5177\u6267\u884c\u3002\n\n.. hint:: ``ReActAgent`` \u4e2d\u63d0\u4f9b\u4e86\u5b8c\u5584\u7684\u4e2d\u65ad\u903b\u8f91\uff0c\u667a\u80fd\u4f53\u7684\u8bb0\u5fc6\u548c\u72b6\u6001\u4f1a\u5728\u4e2d\u65ad\u53d1\u751f\u65f6\u88ab\u6b63\u786e\u7684\u4fdd\u5b58\u3002\n\n\u4e2d\u65ad\u903b\u8f91\u5df2\u5728 ``AgentBase`` \u7c7b\u4e2d\u4f5c\u4e3a\u57fa\u672c\u529f\u80fd\u5b9e\u73b0\uff0c\u5e76\u63d0\u4f9b ``handle_interrupt`` \u62bd\u8c61\u65b9\u6cd5\u4f9b\u7528\u6237\u81ea\u5b9a\u4e49\n\u4e2d\u65ad\u7684\u540e\u5904\u7406\uff0c\u5982\u4e0b\u6240\u793a\uff1a\n\n```python\n# AgentBase \u7684\u4ee3\u7801\u7247\u6bb5\nclass AgentBase:\n    ...\n    async def __call__(self, *args: Any, **kwargs: Any) -&gt; Msg:\n        ...\n        reply_msg: Msg | None = None\n        try:\n            self._reply_task = asyncio.current_task()\n            reply_msg = await self.reply(*args, **kwargs)\n\n        except asyncio.CancelledError:\n            # \u6355\u83b7\u4e2d\u65ad\u5e76\u901a\u8fc7 handle_interrupt \u65b9\u6cd5\u5904\u7406\n            reply_msg = await self.handle_interrupt(*args, **kwargs)\n\n        ...\n\n    @abstractmethod\n    async def handle_interrupt(self, *args: Any, **kwargs: Any) -&gt; Msg:\n        pass\n```\n\u5728 ``ReActAgent`` \u7c7b\u7684\u5b9e\u73b0\u4e2d\uff0c\u6211\u4eec\u8fd4\u56de\u4e00\u4e2a\u56fa\u5b9a\u6d88\u606f\"I noticed that you have interrupted me. What can I do for you?\"\uff0c\u5982\u4e0b\u6240\u793a\uff1a\n\n.. figure:: ../../_static/images/interruption_zh.gif\n    :width: 100%\n    :align: center\n    :class: bordered-image\n    :alt: \u4e2d\u65ad\u793a\u4f8b\n\n    \u4e2d\u65ad\u667a\u80fd\u4f53 ``reply`` \u7684\u6267\u884c\u8fc7\u7a0b\n\n\u5f00\u53d1\u8005\u53ef\u4ee5\u901a\u8fc7\u8986\u76d6 ``handle_interrupt`` \u51fd\u6570\u5b9e\u73b0\u81ea\u5b9a\u4e49\u7684\u4e2d\u65ad\u540e\u5904\u7406\u903b\u8f91\uff0c\u4f8b\u5982\uff0c\u8c03\u7528 LLM \u751f\u6210\u5bf9\u4e2d\u65ad\u7684\u7b80\u5355\u54cd\u5e94\u3002\n\n\n### \u5e76\u884c\u5de5\u5177\u8c03\u7528\n``ReActAgent`` \u901a\u8fc7\u5728\u5176\u6784\u9020\u51fd\u6570\u4e2d\u63d0\u4f9b ``parallel_tool_calls`` \u53c2\u6570\u6765\u652f\u6301\u5e76\u884c\u5de5\u5177\u8c03\u7528\u3002\n\u5f53 LLM \u751f\u6210\u591a\u4e2a\u5de5\u5177\u8c03\u7528\u4e14 ``parallel_tool_calls`` \u8bbe\u7f6e\u4e3a ``True`` \u65f6\uff0c\n\u5b83\u4eec\u5c06\u901a\u8fc7 ``asyncio.gather`` \u51fd\u6570\u5e76\u884c\u6267\u884c\u3002\n\n&lt;div class=\"alert alert-info\"&gt;&lt;h4&gt;Note&lt;/h4&gt;&lt;p&gt;``ReActAgent`` \u4e2d\u7684\u5de5\u5177\u5e76\u884c\u8c03\u7528\u662f\u57fa\u4e8e\u5f02\u6b65 ``asyncio.gather`` \u5b9e\u73b0\u7684\uff0c\u56e0\u6b64\uff0c\u53ea\u6709\u5f53\u5de5\u5177\u51fd\u6570\u662f\u5f02\u6b65\u51fd\u6570\uff0c\u540c\u65f6\u5de5\u5177\u51fd\u6570\u5185\u4e5f\u4e3a\u5f02\u6b65\u903b\u8f91\u65f6\uff0c\u624d\u80fd\u6700\u5927\u7a0b\u5ea6\u53d1\u6325\u5de5\u5177\u5e76\u884c\u6267\u884c\u7684\u6548\u679c&lt;/p&gt;&lt;/div&gt;\n\n&lt;div class=\"alert alert-info\"&gt;&lt;h4&gt;Note&lt;/h4&gt;&lt;p&gt;\u8fd0\u884c\u65f6\u8bf7\u786e\u4fdd\u6a21\u578b\u5c42\u9762\u652f\u6301\u5de5\u5177\u5e76\u884c\u8c03\u7528\uff0c\u5e76\u4e14\u76f8\u5e94\u53c2\u6570\u8bbe\u7f6e\u6b63\u786e\uff08\u53ef\u4ee5\u901a\u8fc7 ``generate_kwargs`` \u4f20\u5165\uff09\uff0c\u4f8b\u5982\u5bf9\u4e8eDashScope API\uff0c\u9700\u8981\u8bbe\u7f6e ``parallel_tool_calls`` \u4e3a ``True``\uff0c\u5426\u5219\u5c06\u65e0\u6cd5\u8fdb\u884c\u5e76\u884c\u5de5\u5177\u8c03\u7528\u3002&lt;/p&gt;&lt;/div&gt;\n\n"
      ]
    },
    {
      "cell_type": "code",
      "execution_count": null,
      "metadata": {
        "collapsed": false
      },
      "outputs": [],
      "source": [
        "# \u51c6\u5907\u4e00\u4e2a\u5de5\u5177\u51fd\u6570\nasync def example_tool_function(tag: str) -&gt; ToolResponse:\n    \"\"\"\u4e00\u4e2a\u793a\u4f8b\u5de5\u5177\u51fd\u6570\"\"\"\n    start_time = datetime.now().strftime(\"%H:%M:%S.%f\")\n\n    # \u4f11\u7720 3 \u79d2\u4ee5\u6a21\u62df\u957f\u65f6\u95f4\u8fd0\u884c\u7684\u4efb\u52a1\n    await asyncio.sleep(3)\n\n    end_time = datetime.now().strftime(\"%H:%M:%S.%f\")\n    return ToolResponse(\n        content=[\n            TextBlock(\n                type=\"text\",\n                text=f\"\u6807\u7b7e {tag} \u5f00\u59cb\u4e8e {start_time}\uff0c\u7ed3\u675f\u4e8e {end_time}\u3002\",\n            ),\n        ],\n    )\n\n\ntoolkit = Toolkit()\ntoolkit.register_tool_function(example_tool_function)\n\n# \u521b\u5efa\u4e00\u4e2a ReAct \u667a\u80fd\u4f53\nagent = ReActAgent(\n    name=\"Jarvis\",\n    sys_prompt=\"\u4f60\u662f\u4e00\u4e2a\u540d\u4e3a Jarvis \u7684\u6709\u7528\u52a9\u624b\u3002\",\n    model=DashScopeChatModel(\n        model_name=\"qwen-max\",\n        api_key=os.environ[\"DASHSCOPE_API_KEY\"],\n        # \u542f\u7528\u5e76\u884c\u5de5\u5177\u8c03\u7528\n        generate_kwargs={\n            \"parallel_tool_calls\": True,\n        },\n    ),\n    memory=InMemoryMemory(),\n    formatter=DashScopeChatFormatter(),\n    toolkit=toolkit,\n    parallel_tool_calls=True,\n)\n\n\nasync def example_parallel_tool_calls() -&gt; None:\n    \"\"\"\u5e76\u884c\u5de5\u5177\u8c03\u7528\u793a\u4f8b\"\"\"\n    # \u63d0\u793a\u667a\u80fd\u4f53\u540c\u65f6\u751f\u6210\u4e24\u4e2a\u5de5\u5177\u8c03\u7528\n    await agent(\n        Msg(\n            \"user\",\n            \"\u540c\u65f6\u751f\u6210\u4e24\u4e2a 'example_tool_function' \u51fd\u6570\u7684\u5de5\u5177\u8c03\u7528\uff0c\u6807\u7b7e\u5206\u522b\u4e3a 'tag1' \u548c 'tag2'\uff0c\u4ee5\u4fbf\u5b83\u4eec\u53ef\u4ee5\u5e76\u884c\u6267\u884c\u3002\",\n            \"user\",\n        ),\n    )\n\n\nasyncio.run(example_parallel_tool_calls())"
      ]
    },
    {
      "cell_type": "markdown",
      "metadata": {},
      "source": [
        "### \u7ed3\u6784\u5316\u8f93\u51fa\nAgentScope \u4e2d\u7684\u7ed3\u6784\u5316\u8f93\u51fa\u662f\u4e0e\u5de5\u5177\u8c03\u7528\u7d27\u5bc6\u7ed3\u5408\u7684\u3002\u5177\u4f53\u6765\u8bf4\uff0c``ReActAgent`` \u7c7b\u5728\u5176 ``__call__`` \u51fd\u6570\u4e2d\u63a5\u6536 ``pydantic.BaseModel`` \u7684\u5b50\u7c7b\u4f5c\u4e3a ``structured_model`` \u53c2\u6570\u3002\n\u4ece\u800c\u63d0\u4f9b\u590d\u6742\u7684\u7ed3\u6784\u5316\u8f93\u51fa\u9650\u5236\u3002\n\u7136\u540e\u6211\u4eec\u53ef\u4ee5\u4ece \u8fd4\u56de\u6d88\u606f\u7684 ``metadata`` \u5b57\u6bb5\u83b7\u53d6\u7ed3\u6784\u5316\u8f93\u51fa\u3002\n\n\u4ee5\u4ecb\u7ecd\u7231\u56e0\u65af\u5766\u4e3a\u4f8b\uff1a\n\n\n"
      ]
    },
    {
      "cell_type": "code",
      "execution_count": null,
      "metadata": {
        "collapsed": false
      },
      "outputs": [],
      "source": [
        "# \u521b\u5efa\u4e00\u4e2a ReAct \u667a\u80fd\u4f53\nagent = ReActAgent(\n    name=\"Jarvis\",\n    sys_prompt=\"\u4f60\u662f\u4e00\u4e2a\u540d\u4e3a Jarvis \u7684\u6709\u7528\u52a9\u624b\u3002\",\n    model=DashScopeChatModel(\n        model_name=\"qwen-max\",\n        api_key=os.environ[\"DASHSCOPE_API_KEY\"],\n    ),\n    formatter=DashScopeChatFormatter(),\n)\n\n\n# \u7ed3\u6784\u5316\u6a21\u578b\nclass Model(BaseModel):\n    name: str = Field(description=\"\u4eba\u7269\u7684\u59d3\u540d\")\n    description: str = Field(description=\"\u4eba\u7269\u7684\u4e00\u53e5\u8bdd\u63cf\u8ff0\")\n    age: int = Field(description=\"\u5e74\u9f84\")\n    honor: list[str] = Field(description=\"\u4eba\u7269\u8363\u8a89\u5217\u8868\")\n\n\nasync def example_structured_output() -&gt; None:\n    \"\"\"\u7ed3\u6784\u5316\u8f93\u51fa\u793a\u4f8b\"\"\"\n    res = await agent(\n        Msg(\n            \"user\",\n            \"\u4ecb\u7ecd\u7231\u56e0\u65af\u5766\",\n            \"user\",\n        ),\n        structured_model=Model,\n    )\n    print(\"\\n\u7ed3\u6784\u5316\u8f93\u51fa\uff1a\")\n    print(json.dumps(res.metadata, indent=4, ensure_ascii=False))\n\n\nasyncio.run(example_structured_output())"
      ]
    },
    {
      "cell_type": "markdown",
      "metadata": {},
      "source": [
        "## \u81ea\u5b9a\u4e49\u667a\u80fd\u4f53\nAgentScope \u63d0\u4f9b\u4e86\u4e24\u4e2a\u57fa\u7c7b\uff1a``AgentBase`` \u548c ``ReActAgentBase``\uff0c\u5b83\u4eec\u5728\u62bd\u8c61\u65b9\u6cd5\u548c\u652f\u6301\u7684\u94a9\u5b50\u51fd\u6570\u65b9\u9762\u6709\u6240\u4e0d\u540c\u3002\n\u5177\u4f53\u6765\u8bf4\uff0c``ReActAgentBase`` \u6269\u5c55\u4e86 ``AgentBase``\uff0c\u589e\u52a0\u4e86\u989d\u5916\u7684 ``_reasoning`` \u548c ``_acting`` \u62bd\u8c61\u65b9\u6cd5\uff0c\u4ee5\u53ca\u5b83\u4eec\u7684\u524d\u7f6e\u548c\u540e\u7f6e\u94a9\u5b50\u51fd\u6570\u3002\n\n\u5f00\u53d1\u8005\u53ef\u4ee5\u6839\u636e\u9700\u8981\u9009\u62e9\u7ee7\u627f\u8fd9\u4e24\u4e2a\u57fa\u7c7b\u4e2d\u7684\u4efb\u4e00\u4e2a\u3002\n\u6211\u4eec\u603b\u7ed3\u4e86 ``agentscope.agent`` \u6a21\u5757\u4e0b\u7684\u667a\u80fd\u4f53\u5982\u4e0b\uff1a\n\n.. list-table:: AgentScope \u4e2d\u7684\u667a\u80fd\u4f53\u7c7b\n    :header-rows: 1\n\n    * - \u7c7b\n      - \u62bd\u8c61\u65b9\u6cd5\n      - \u652f\u6301\u7684\u94a9\u5b50\u51fd\u6570\n      - \u63cf\u8ff0\n    * - ``AgentBase``\n      - | ``reply``\n        | ``observe``\n        | ``print``\n        | ``handle_interrupt``\n      - | pre\\_/post_reply\n        | pre\\_/post_observe\n        | pre\\_/post_print\n      - \u6240\u6709\u667a\u80fd\u4f53\u7684\u57fa\u7c7b\uff0c\u63d0\u4f9b\u57fa\u672c\u63a5\u53e3\u548c\u94a9\u5b50\u3002\n    * - ``ReActAgentBase``\n      - | ``reply``\n        | ``observe``\n        | ``print``\n        | ``handle_interrupt``\n        | ``_reasoning``\n        | ``_acting``\n      - | pre\\_/post_reply\n        | pre\\_/post_observe\n        | pre\\_/post_print\n        | pre\\_/post_reasoning\n        | pre\\_/post_acting\n      - ReAct \u7c7b\u667a\u80fd\u4f53\u7684\u62bd\u8c61\u7c7b\uff0c\u6269\u5c55\u4e86 ``AgentBase``\uff0c\u589e\u52a0\u4e86 ``_reasoning`` \u548c ``_acting`` \u62bd\u8c61\u65b9\u6cd5\u53ca\u5176\u94a9\u5b50\u3002\n    * - ``ReActAgent``\n      - \\-\n      - | pre\\_/post_reply\n        | pre\\_/post_observe\n        | pre\\_/post_print\n        | pre\\_/post_reasoning\n        | pre\\_/post_acting\n      - ``ReActAgentBase`` \u7684\u5b9e\u73b0\n    * - ``UserAgent``\n      -\n      -\n      - \u4ee3\u8868\u7528\u6237\u7684\u7279\u6b8a\u667a\u80fd\u4f53\uff0c\u7528\u4e8e\u4e0e\u667a\u80fd\u4f53\u4ea4\u4e92\n\n\n\n## \u8fdb\u4e00\u6b65\u9605\u8bfb\n- `tool`\n- `hook`\n\n\n"
      ]
    }
  ],
  "metadata": {
    "kernelspec": {
      "display_name": "Python 3",
      "language": "python",
      "name": "python3"
    },
    "language_info": {
      "codemirror_mode": {
        "name": "ipython",
        "version": 3
      },
      "file_extension": ".py",
      "mimetype": "text/x-python",
      "name": "python",
      "nbconvert_exporter": "python",
      "pygments_lexer": "ipython3",
      "version": "3.10.18"
    }
  },
  "nbformat": 4,
  "nbformat_minor": 0
}</pre><div class="json-formatter-container"></div>