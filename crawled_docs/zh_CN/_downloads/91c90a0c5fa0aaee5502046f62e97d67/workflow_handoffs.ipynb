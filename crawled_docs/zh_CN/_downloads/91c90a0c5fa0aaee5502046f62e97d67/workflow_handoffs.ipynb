<!-- Title:  -->
<!-- URL: https://doc.agentscope.io/zh_CN/_downloads/91c90a0c5fa0aaee5502046f62e97d67/workflow_handoffs.ipynb -->
<pre>{
  "cells": [
    {
      "cell_type": "markdown",
      "metadata": {},
      "source": [
        "\n\n# Handoffs\n\nHandoffs \u662f\u7531 OpenAI \u63d0\u51fa\u7684\u5de5\u4f5c\u6d41\u6a21\u5f0f\uff0c\u901a\u8fc7\u8c03\u7528\u5b50\u667a\u80fd\u4f53\u7684\u65b9\u5f0f\u6765\u5b8c\u6210\u76ee\u6807\u4efb\u52a1\u3002\n\u5728 AgentScope \u4e2d\u901a\u8fc7\u5de5\u5177\u8c03\u7528\u7684\u65b9\u5f0f\u5b9e\u73b0 handoffs \u975e\u5e38\u7b80\u5355\u3002\u9996\u5148\uff0c\u6211\u4eec\u521b\u5efa\u4e00\u4e2a\u51fd\u6570\u6765\u5141\u8bb8\u534f\u8c03\u8005\u52a8\u6001\u521b\u5efa\u5b50\u667a\u80fd\u4f53\u3002\n\n.. figure:: ../../_static/images/handoffs.png\n   :width: 80%\n   :align: center\n   :alt: \u534f\u8c03\u8005-\u5b50\u667a\u80fd\u4f53\u5de5\u4f5c\u6d41\n\n   *Handoffs \u793a\u4f8b*\n"
      ]
    },
    {
      "cell_type": "code",
      "execution_count": null,
      "metadata": {
        "collapsed": false
      },
      "outputs": [],
      "source": [
        "import asyncio\nimport os\n\nfrom agentscope.agent import ReActAgent\nfrom agentscope.formatter import DashScopeChatFormatter\nfrom agentscope.memory import InMemoryMemory\nfrom agentscope.message import Msg\nfrom agentscope.model import DashScopeChatModel\nfrom agentscope.tool import (\n    ToolResponse,\n    Toolkit,\n    execute_python_code,\n)\n\n\n# \u521b\u5efa\u5b50\u667a\u80fd\u4f53\u7684\u5de5\u5177\u51fd\u6570\nasync def create_worker(\n    task_description: str,\n) -&gt; ToolResponse:\n    \"\"\"\u521b\u5efa\u4e00\u4e2a\u5b50\u667a\u80fd\u4f53\u6765\u5b8c\u6210\u7ed9\u5b9a\u7684\u4efb\u52a1\u3002\u5b50\u667a\u80fd\u4f53\u914d\u5907\u4e86 Python \u6267\u884c\u5de5\u5177\u3002\n\n    Args:\n        task_description (``str``):\n            \u5b50\u667a\u80fd\u4f53\u8981\u5b8c\u6210\u7684\u4efb\u52a1\u63cf\u8ff0\u3002\n    \"\"\"\n    # \u4e3a\u5b50\u667a\u80fd\u4f53\u667a\u80fd\u4f53\u914d\u5907\u4e00\u4e9b\u5de5\u5177\n    toolkit = Toolkit()\n    toolkit.register_tool_function(execute_python_code)\n\n    # \u521b\u5efa\u5b50\u667a\u80fd\u4f53\u667a\u80fd\u4f53\n    worker = ReActAgent(\n        name=\"Worker\",\n        sys_prompt=\"\u4f60\u662f\u4e00\u4e2a\u667a\u80fd\u4f53\u3002\u4f60\u7684\u76ee\u6807\u662f\u5b8c\u6210\u7ed9\u5b9a\u7684\u4efb\u52a1\u3002\",\n        model=DashScopeChatModel(\n            model_name=\"qwen-max\",\n            api_key=os.environ[\"DASHSCOPE_API_KEY\"],\n            stream=False,\n        ),\n        formatter=DashScopeChatFormatter(),\n        toolkit=toolkit,\n    )\n    # \u8ba9\u5b50\u667a\u80fd\u4f53\u5b8c\u6210\u4efb\u52a1\n    res = await worker(Msg(\"user\", task_description, \"user\"))\n    return ToolResponse(\n        content=res.get_content_blocks(\"text\"),\n    )\n\n\nasync def run_handoffs() -&gt; None:\n    \"\"\"\u4ea4\u63a5\u5de5\u4f5c\u6d41\u793a\u4f8b\u3002\"\"\"\n    # \u521d\u59cb\u5316\u534f\u8c03\u8005\u667a\u80fd\u4f53\n    toolkit = Toolkit()\n    toolkit.register_tool_function(create_worker)\n\n    orchestrator = ReActAgent(\n        name=\"Orchestrator\",\n        sys_prompt=\"\u4f60\u662f\u4e00\u4e2a\u534f\u8c03\u8005\u667a\u80fd\u4f53\u3002\u4f60\u7684\u76ee\u6807\u662f\u901a\u8fc7\u5c06\u4efb\u52a1\u5206\u89e3\u4e3a\u66f4\u5c0f\u7684\u4efb\u52a1\u5e76\u521b\u5efa\u5b50\u667a\u80fd\u4f53\u6765\u5b8c\u6210\u5b83\u4eec\uff0c\u4ece\u800c\u5b8c\u6210\u7ed9\u5b9a\u7684\u4efb\u52a1\u3002\",\n        model=DashScopeChatModel(\n            model_name=\"qwen-max\",\n            api_key=os.environ[\"DASHSCOPE_API_KEY\"],\n            stream=False,\n        ),\n        memory=InMemoryMemory(),\n        formatter=DashScopeChatFormatter(),\n        toolkit=toolkit,\n    )\n\n    # \u4efb\u52a1\u63cf\u8ff0\n    task_description = \"\u5728 Python \u4e2d\u6267\u884c hello world\"\n\n    # \u521b\u5efa\u5b50\u667a\u80fd\u4f53\u6765\u5b8c\u6210\u4efb\u52a1\n    await orchestrator(Msg(\"user\", task_description, \"user\"))\n\n\nasyncio.run(run_handoffs())"
      ]
    }
  ],
  "metadata": {
    "kernelspec": {
      "display_name": "Python 3",
      "language": "python",
      "name": "python3"
    },
    "language_info": {
      "codemirror_mode": {
        "name": "ipython",
        "version": 3
      },
      "file_extension": ".py",
      "mimetype": "text/x-python",
      "name": "python",
      "nbconvert_exporter": "python",
      "pygments_lexer": "ipython3",
      "version": "3.10.18"
    }
  },
  "nbformat": 4,
  "nbformat_minor": 0
}</pre><div class="json-formatter-container"></div>