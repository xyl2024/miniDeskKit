<!-- Title:  -->
<!-- URL: https://doc.agentscope.io/zh_CN/_downloads/7516664176f3c9c48748a734807cea97/task_embedding.ipynb -->
<pre>{
  "cells": [
    {
      "cell_type": "markdown",
      "metadata": {},
      "source": [
        "\n\n# \u5d4c\u5165(Embedding)\n\nAgentScope \u4e2d\uff0c\u5d4c\u5165\u6a21\u5757\u63d0\u4f9b\u4e86\u7528\u4e8e\u5411\u91cf\u751f\u6210\u7684\u7edf\u4e00\u63a5\u53e3\uff0c\u5177\u6709\u4ee5\u4e0b\u7279\u6027\uff1a\n\n- \u652f\u6301 **\u7f13\u5b58 embedding** \u4ee5\u907f\u514d\u5197\u4f59\u7684 API \u8c03\u7528\n- \u652f\u6301 **\u4e0d\u540c embedding API \u63d0\u4f9b\u5546** \u5e76\u63d0\u4f9b\u4e00\u81f4\u7684\u63a5\u53e3\n\nAgentScope \u5185\u7f6e\u652f\u6301\u4ee5\u4e0b API\uff1a\n\n.. list-table::\n    :header-rows: 1\n\n    * - API \u63d0\u4f9b\u5546\n      - \u7c7b\n    * - OpenAI\n      - ``OpenAITextEmbedding``\n    * - Gemini\n      - ``GeminiTextEmbedding``\n    * - DashScope\n      - ``DashScopeTextEmbedding``, ``DashScopeMultiModalEmbedding``\n    * - Ollama\n      - ``OllamaTextEmbedding``\n\n\u6240\u6709\u7c7b\u90fd\u7ee7\u627f\u81ea ``EmbeddingModelBase``\uff0c\u5b9e\u73b0\u4e86 ``__call__`` \u65b9\u6cd5\u5e76\u751f\u6210\u5305\u542b\u5d4c\u5165\u548c\u4f7f\u7528\u4fe1\u606f\u7684 ``EmbeddingResponse`` \u5bf9\u8c61\u3002\n\u5176\u4e2d ``DashScopeMultiModalEmbedding`` \u652f\u6301\u6587\u672c\uff0c\u56fe\u50cf\u548c\u89c6\u9891\u7684\u591a\u6a21\u6001\u5d4c\u5165\u3002\n\n\u4ee5 DashScope \u5d4c\u5165\u7c7b\u4e3a\u4f8b\uff0c\u53ef\u4ee5\u6309\u5982\u4e0b\u65b9\u5f0f\u4f7f\u7528\uff1a\n"
      ]
    },
    {
      "cell_type": "code",
      "execution_count": null,
      "metadata": {
        "collapsed": false
      },
      "outputs": [],
      "source": [
        "import asyncio\nimport os\nimport tempfile\n\nfrom agentscope.embedding import DashScopeTextEmbedding, FileEmbeddingCache\n\n\nasync def example_dashscope_embedding() -&gt; None:\n    \"\"\"DashScope \u6587\u672c\u5d4c\u5165\u7684\u4f7f\u7528\u793a\u4f8b\u3002\"\"\"\n    texts = [\n        \"\u6cd5\u56fd\u7684\u9996\u90fd\u662f\u4ec0\u4e48\uff1f\",\n        \"\u5df4\u9ece\u662f\u6cd5\u56fd\u7684\u9996\u90fd\u57ce\u5e02\u3002\",\n    ]\n\n    # \u521d\u59cb\u5316 DashScope \u6587\u672c\u5d4c\u5165\u5b9e\u4f8b\n    embedding_model = DashScopeTextEmbedding(\n        model_name=\"text-embedding-v2\",\n        api_key=os.getenv(\"DASHSCOPE_API_KEY\"),\n    )\n\n    # \u4ece\u6a21\u578b\u83b7\u53d6\u5d4c\u5165\n    response = await embedding_model(texts)\n\n    print(\"\u5d4c\u5165 ID: \", response.id)\n    print(\"\u5d4c\u5165\u521b\u5efa\u65f6\u95f4: \", response.created_at)\n    print(\"\u5d4c\u5165\u4f7f\u7528\u60c5\u51b5: \", response.usage)\n    print(\"\u5d4c\u5165\u5411\u91cf:\")\n    print(response.embeddings)\n\n\nasyncio.run(example_dashscope_embedding())"
      ]
    },
    {
      "cell_type": "markdown",
      "metadata": {},
      "source": [
        "\u53ef\u4ee5\u901a\u8fc7\u7ee7\u627f ``EmbeddingModelBase`` \u5e76\u5b9e\u73b0 ``__call__`` \u65b9\u6cd5\u6765\u81ea\u5b9a\u4e49 embedding \u6a21\u578b\u3002\n\n## Embedding \u7f13\u5b58\nAgentScope \u63d0\u4f9b\u4e86\u7528\u4e8e\u7f13\u5b58 embedding \u7684\u57fa\u7c7b ``EmbeddingCacheBase``\uff0c\u4ee5\u53ca\u57fa\u4e8e\u6587\u4ef6\u7684\u5b9e\u73b0 ``FileEmbeddingCache``\u3002\n\u5b83\u5728 embedding \u6a21\u5757\u4e2d\u7684\u5de5\u4f5c\u65b9\u5f0f\u5982\u4e0b\uff1a\n\n&lt;img src=\"file://../../_static/images/embedding_cache.png\" align=\"center\" width=\"90%\"&gt;\n\n\u8981\u4f7f\u7528\u7f13\u5b58\uff0c\u53ea\u9700\u5c06 ``FileEmbeddingCache`` \u5b9e\u4f8b\uff08\u6216\u81ea\u5b9a\u4e49\u7f13\u5b58\uff09\u4f20\u7ed9\u6a21\u578b\u7684\u6784\u9020\u51fd\u6570\uff0c\u5982\u4e0b\u6240\u793a\uff1a\n\n\n"
      ]
    },
    {
      "cell_type": "code",
      "execution_count": null,
      "metadata": {
        "collapsed": false
      },
      "outputs": [],
      "source": [
        "async def example_embedding_cache() -&gt; None:\n    \"\"\"\u6f14\u793a\u5e26\u6709\u7f13\u5b58\u529f\u80fd\u7684 embedding\u3002\"\"\"\n    # \u793a\u4f8b\u6587\u672c\n    texts = [\n        \"\u6cd5\u56fd\u7684\u9996\u90fd\u662f\u4ec0\u4e48\uff1f\",\n        \"\u5df4\u9ece\u662f\u6cd5\u56fd\u7684\u9996\u90fd\u57ce\u5e02\u3002\",\n    ]\n\n    # \u4e3a\u7f13\u5b58\u6f14\u793a\u521b\u5efa\u4e34\u65f6\u76ee\u5f55\n    # \u5728\u5b9e\u9645\u5e94\u7528\u4e2d\uff0c\u5efa\u8bae\u4f7f\u7528\u6301\u4e45\u76ee\u5f55\u4ee5\u6700\u5927\u53d1\u6325\u7f13\u5b58\u6548\u679c\n    cache_dir = tempfile.mkdtemp(prefix=\"embedding_cache_\")\n    print(f\"\u4f7f\u7528\u7f13\u5b58\u76ee\u5f55: {cache_dir}\")\n\n    # \u4f7f\u7528\u7f13\u5b58\u521d\u59cb\u5316\u5d4c\u5165\u6a21\u578b\n    # \u4e3a\u6f14\u793a\u76ee\u7684\uff0c\u6211\u4eec\u5c06\u7f13\u5b58\u9650\u5236\u4e3a 100 \u4e2a\u6587\u4ef6\u548c 10MB\n    embedder = DashScopeTextEmbedding(\n        model_name=\"text-embedding-v3\",\n        api_key=os.getenv(\"DASHSCOPE_API_KEY\"),\n        embedding_cache=FileEmbeddingCache(\n            cache_dir=cache_dir,\n            max_file_number=100,\n            max_cache_size=10,  # \u6700\u5927\u7f13\u5b58\u5927\u5c0f\uff08MB\uff09\n        ),\n    )\n\n    # \u7b2c\u4e00\u6b21\u8c03\u7528 - \u5c06\u4ece API \u83b7\u53d6\u5e76\u5b58\u50a8\u5728\u7f13\u5b58\u4e2d\n    print(\"\\n=== \u7b2c\u4e00\u6b21 API \u8c03\u7528\uff08\u65e0\u7f13\u5b58\u547d\u4e2d\uff09===\")\n    start_time = asyncio.get_event_loop().time()\n    response1 = await embedder(texts)\n    elapsed_time1 = asyncio.get_event_loop().time() - start_time\n    print(f\"\u6765\u6e90: {response1.source}\")  # \u5e94\u8be5\u662f 'api'\n    print(f\"\u8017\u65f6: {elapsed_time1:.4f} \u79d2\")\n    print(f\"\u4f7f\u7528\u7684 token: {response1.usage.tokens}\")\n\n    # \u4f7f\u7528\u76f8\u540c\u6587\u672c\u7684\u7b2c\u4e8c\u6b21\u8c03\u7528 - \u5e94\u8be5\u4f7f\u7528\u7f13\u5b58\n    print(\"\\n=== \u7b2c\u4e8c\u6b21 API \u8c03\u7528\uff08\u9884\u671f\u7f13\u5b58\u547d\u4e2d\uff09===\")\n    start_time = asyncio.get_event_loop().time()\n    response2 = await embedder(texts)\n    elapsed_time2 = asyncio.get_event_loop().time() - start_time\n    print(f\"\u6765\u6e90: {response2.source}\")  # \u5e94\u8be5\u662f 'cache'\n    print(f\"\u8017\u65f6: {elapsed_time2:.4f} \u79d2\")\n    print(\n        f\"\u4f7f\u7528\u7684 token: {response2.usage.tokens}\",\n    )  # \u7f13\u5b58\u7ed3\u679c\u5e94\u8be5\u4e3a 0\n    print(\n        f\"\u901f\u5ea6\u63d0\u5347: \u4f7f\u7528\u7f13\u5b58\u5feb {elapsed_time1 / elapsed_time2:.1f} \u500d\",\n    )\n\n\nasyncio.run(example_embedding_cache())"
      ]
    }
  ],
  "metadata": {
    "kernelspec": {
      "display_name": "Python 3",
      "language": "python",
      "name": "python3"
    },
    "language_info": {
      "codemirror_mode": {
        "name": "ipython",
        "version": 3
      },
      "file_extension": ".py",
      "mimetype": "text/x-python",
      "name": "python",
      "nbconvert_exporter": "python",
      "pygments_lexer": "ipython3",
      "version": "3.10.18"
    }
  },
  "nbformat": 4,
  "nbformat_minor": 0
}</pre><div class="json-formatter-container"></div>