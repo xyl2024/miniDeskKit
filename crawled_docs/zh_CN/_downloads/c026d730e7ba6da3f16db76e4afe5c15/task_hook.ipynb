<!-- Title:  -->
<!-- URL: https://doc.agentscope.io/zh_CN/_downloads/c026d730e7ba6da3f16db76e4afe5c15/task_hook.ipynb -->
<pre>{
  "cells": [
    {
      "cell_type": "markdown",
      "metadata": {},
      "source": [
        "\n\n# \u667a\u80fd\u4f53\u94a9\u5b50\u51fd\u6570\n\n\u94a9\u5b50\uff08Hook\uff09\u662f AgentScope \u4e2d\u7684\u6269\u5c55\u70b9\uff0c\u5141\u8bb8\u5f00\u53d1\u8005\u5728\u7279\u5b9a\u4f4d\u7f6e\u81ea\u5b9a\u4e49\u667a\u80fd\u4f53\u884c\u4e3a\uff0c\u63d0\u4f9b\u4e86\u4e00\u79cd\u7075\u6d3b\u7684\u65b9\u5f0f\u6765\u4fee\u6539\u6216\u6269\u5c55\u667a\u80fd\u4f53\u7684\u529f\u80fd\uff0c\u800c\u65e0\u9700\u66f4\u6539\u5176\u6838\u5fc3\u5b9e\u73b0\u3002\n\n\u5728 AgentScope \u4e2d\uff0c\u94a9\u5b50\u56f4\u7ed5\u667a\u80fd\u4f53\u7684\u6838\u5fc3\u51fd\u6570\u5b9e\u73b0\uff1a\n\n\n.. list-table:: AgentScope \u4e2d\u652f\u6301\u7684\u94a9\u5b50\u7c7b\u578b\n    :header-rows: 1\n\n    * - \u667a\u80fd\u4f53\u7c7b\n      - \u6838\u5fc3\u51fd\u6570\n      - \u94a9\u5b50\u7c7b\u578b\n      - \u63cf\u8ff0\n    * - | ``AgentBase`` \u53ca\u5176\u5b50\u7c7b\n      - ``reply``\n      - | ``pre_reply``\n        | ``post_reply``\n      - \u667a\u80fd\u4f53\u56de\u590d\u6d88\u606f\u524d/\u540e\u7684\u94a9\u5b50\n    * -\n      - ``print``\n      - | ``pre_print``\n        | ``post_print``\n      - \u5411\u76ee\u6807\u8f93\u51fa\uff08\u5982\u7ec8\u7aef\u3001Web \u754c\u9762\uff09\u6253\u5370\u6d88\u606f\u524d/\u540e\u7684\u94a9\u5b50\n    * -\n      - ``observe``\n      - | ``pre_observe``\n        | ``post_observe``\n      - \u4ece\u73af\u5883\u6216\u5176\u5b83\u667a\u80fd\u4f53\u89c2\u5bdf\u6d88\u606f\u524d/\u540e\u7684\u94a9\u5b50\n    * - | ``ReActAgentBase`` \u53ca\u5176\u5b50\u7c7b\n      - | ``reply``\n        | ``print``\n        | ``observe``\n      - | ``pre_reply``\n        | ``post_reply``\n        | ``pre_print``\n        | ``post_print``\n        | ``pre_observe``\n        | ``post_observe``\n      -\n    * -\n      - ``_reasoning``\n      - | ``pre_reasoning``\n        | ``post_reasoning``\n      - \u667a\u80fd\u4f53\u63a8\u7406\u8fc7\u7a0b\u524d/\u540e\u7684\u94a9\u5b50\n    * -\n      - ``_acting``\n      - | ``pre_acting``\n        | ``post_acting``\n      - \u667a\u80fd\u4f53\u884c\u52a8\u8fc7\u7a0b\u524d/\u540e\u7684\u94a9\u5b50\n\n.. tip:: \u7531\u4e8e AgentScope \u4e2d\u7684\u94a9\u5b50\u51fd\u6570\u662f\u901a\u8fc7 meta class \u5b9e\u73b0\u7684\uff0c\u56e0\u6b64\u652f\u6301\u7ee7\u627f\u3002\n\n\u4e3a\u4e86\u7b80\u5316\u4f7f\u7528\uff0cAgentScope \u4e3a\u6240\u6709\u94a9\u5b50\u63d0\u4f9b\u4e86\u7edf\u4e00\u7684\u7b7e\u540d\u3002\n"
      ]
    },
    {
      "cell_type": "code",
      "execution_count": null,
      "metadata": {
        "collapsed": false
      },
      "outputs": [],
      "source": [
        "import asyncio\nfrom typing import Any, Type\n\nfrom agentscope.agent import ReActAgentBase, AgentBase\nfrom agentscope.message import Msg"
      ]
    },
    {
      "cell_type": "markdown",
      "metadata": {},
      "source": [
        "## \u94a9\u5b50\u7b7e\u540d\n\nAgentScope \u4e3a\u6240\u6709\u524d\u7f6e\uff08pre_\uff09\u548c\u540e\u7f6e\uff08post_\uff09\u94a9\u5b50\u63d0\u4f9b\u7edf\u4e00\u7684\u94a9\u5b50\u7b7e\u540d\uff0c\u5982\u4e0b\u6240\u793a\uff1a\n\n**\u524d\u7f6e\u94a9\u5b50\u7b7e\u540d**\n\n.. list-table:: \u6240\u6709\u524d\u7f6e\u94a9\u5b50\u7684\u7b7e\u540d\n  :header-rows: 1\n\n  * -\n    - \u540d\u79f0\n    - \u63cf\u8ff0\n  * - \u53c2\u6570\n    - ``self: AgentBase | ReActAgentBase``\n    - \u667a\u80fd\u4f53\u5b9e\u4f8b\n  * -\n    - ``kwargs: dict[str, Any]``\n    - | \u76ee\u6807\u51fd\u6570\u7684\u8f93\u5165\u53c2\u6570\uff0c\u6216\u6765\u81ea\u6700\u8fd1\n      | \u4e00\u4e2a\u975e None \u8fd4\u56de\u503c\u7684\u94a9\u5b50\u4fee\n      | \u6539\u540e\u7684\u53c2\u6570\n  * - \u8fd4\u56de\u503c\n    - ``dict[str, Any] | None``\n    - \u4fee\u6539\u540e\u7684\u53c2\u6570\u6216 None\n\n&lt;div class=\"alert alert-info\"&gt;&lt;h4&gt;Note&lt;/h4&gt;&lt;p&gt;\u6838\u5fc3\u51fd\u6570\u7684\u6240\u6709\u4f4d\u7f6e\u53c2\u6570\uff08*args\uff09\u548c\u5173\u952e\u5b57\u53c2\u6570\uff08**kwargs\uff09\u88ab\u7edf\u4e00\u6210\u5355\u4e2a ``kwargs`` \u5b57\u5178\u4f20\u9012\u7ed9\u94a9\u5b50\u51fd\u6570&lt;/p&gt;&lt;/div&gt;\n\n\u524d\u7f6e\u94a9\u5b50\u6a21\u677f\u5b9a\u4e49\u5982\u4e0b\uff1a\n\n\n"
      ]
    },
    {
      "cell_type": "code",
      "execution_count": null,
      "metadata": {
        "collapsed": false
      },
      "outputs": [],
      "source": [
        "def pre_hook_template(\n    self: AgentBase | ReActAgentBase,\n    kwargs: dict[str, Any],\n) -&gt; dict[str, Any] | None:  # \u4fee\u6539\u540e\u7684\u8f93\u5165\n    \"\"\"\u524d\u7f6e\u94a9\u5b50\u6a21\u677f\u3002\"\"\"\n    pass"
      ]
    },
    {
      "cell_type": "markdown",
      "metadata": {},
      "source": [
        "**\u540e\u7f6e\u94a9\u5b50\u7b7e\u540d**\n\n\u5bf9\u4e8e\u540e\u7f6e\u94a9\u5b50\uff0c\u5728\u7b7e\u540d\u4e2d\u589e\u52a0\u4e86\u4e00\u4e2a\u989d\u5916\u7684 ``output`` \u53c2\u6570\uff0c\u8868\u793a\u76ee\u6807\u51fd\u6570\u7684\u8f93\u51fa\u3002\n\u5982\u679c\u6838\u5fc3\u51fd\u6570\u6ca1\u6709\u8f93\u51fa\uff0c``output`` \u53c2\u6570\u5c06\u4e3a ``None``\u3002\n\n.. list-table:: \u6240\u6709\u540e\u7f6e\u94a9\u5b50\u7684\u7b7e\u540d\n  :header-rows: 1\n\n  * -\n    - \u540d\u79f0\n    - \u63cf\u8ff0\n  * - \u53c2\u6570\n    - ``self: AgentBase | ReActAgentBase``\n    - \u667a\u80fd\u4f53\u5b9e\u4f8b\n  * -\n    - ``kwargs: dict[str, Any]``\n    - | \u5305\u542b\u76ee\u6807\u51fd\u6570\u6240\u6709\u53c2\u6570\u7684\u5b57\u5178\n  * -\n    - ``output: Any``\n    - | \u76ee\u6807\u51fd\u6570\u7684\u8f93\u51fa\u6216\u6765\u81ea\u524d\u5e8f\u94a9\u5b50\n      | \u6700\u8fd1\u4e00\u4e2a\u975e None \u8fd4\u56de\u503c\n  * - \u8fd4\u56de\u503c\n    - ``dict[str, Any] | None``\n    - \u4fee\u6539\u540e\u7684\u8f93\u51fa\u6216 None\n\n\n"
      ]
    },
    {
      "cell_type": "code",
      "execution_count": null,
      "metadata": {
        "collapsed": false
      },
      "outputs": [],
      "source": [
        "def post_hook_template(\n    self: AgentBase | ReActAgentBase,\n    kwargs: dict[str, Any],\n    output: Any,  # \u76ee\u6807\u51fd\u6570\u7684\u8f93\u51fa\n) -&gt; Any:  # \u4fee\u6539\u540e\u7684\u8f93\u51fa\n    \"\"\"\u540e\u7f6e\u94a9\u5b50\u6a21\u677f\u3002\"\"\"\n    pass"
      ]
    },
    {
      "cell_type": "markdown",
      "metadata": {},
      "source": [
        "## \u94a9\u5b50\u7ba1\u7406\n\nAgentScope \u63d0\u4f9b\u5b9e\u4f8b\u7ea7\uff08instance\uff09\u548c\u7c7b\u7ea7\uff08class\uff09\u94a9\u5b50\uff0c\u5176\u533a\u522b\u5728\u4e8e\u94a9\u5b50\u51fd\u6570\u7684\u4f5c\u7528\u8303\u56f4\u3002\n\u5b83\u4eec\u6309\u4ee5\u4e0b\u987a\u5e8f\u6267\u884c\uff1a\n\n&lt;img src=\"file://../../_static/images/sequential_hook.png\" width=\"90%\" align=\"center\" alt=\"AgentScope \u4e2d\u7684\u94a9\u5b50\" class=\"bordered-image\"&gt;\n\nAgentScope \u63d0\u4f9b\u5185\u7f6e\u65b9\u6cd5\u6765\u7ba1\u7406\u5b9e\u4f8b\u7ea7\u548c\u7c7b\u7ea7\u7684\u94a9\u5b50\uff0c\u5982\u4e0b\u6240\u793a\uff1a\n\n.. list-table:: AgentScope \u4e2d\u7684\u94a9\u5b50\u7ba1\u7406\u65b9\u6cd5\n  :header-rows: 1\n\n  * - \u7ea7\u522b\n    - \u65b9\u6cd5\n    - \u63cf\u8ff0\n  * - \u5b9e\u4f8b\u7ea7\n    - ``register_instance_hook``\n    - | \u4e3a\u5f53\u524d\u5bf9\u8c61\u6ce8\u518c\u5177\u6709\u7ed9\u5b9a\u94a9\u5b50\u7c7b\u578b\n      | \u548c\u540d\u79f0\u7684\u94a9\u5b50\u3002\n  * -\n    - ``remove_instance_hook``\n    - | \u79fb\u9664\u5f53\u524d\u5bf9\u8c61\u5177\u6709\u7ed9\u5b9a\u94a9\u5b50\u7c7b\u578b\n      | \u548c\u540d\u79f0\u7684\u94a9\u5b50\u3002\n  * -\n    - ``clear_instance_hooks``\n    - | \u6e05\u9664\u5f53\u524d\u5bf9\u8c61\u5177\u6709\u7ed9\u5b9a\u94a9\u5b50\u7c7b\u578b\n      | \u7684\u6240\u6709\u94a9\u5b50\u3002\n  * - \u7c7b\u7ea7\n    - ``register_class_hook``\n    - | \u4e3a\u8be5\u7c7b\u7684\u6240\u6709\u5bf9\u8c61\u6ce8\u518c\u5177\u6709\u7ed9\u5b9a\n      | \u94a9\u5b50\u7c7b\u578b\u548c\u540d\u79f0\u7684\u94a9\u5b50\u3002\n  * -\n    - ``remove_class_hook``\n    - | \u79fb\u9664\u8be5\u7c7b\u6240\u6709\u5bf9\u8c61\u5177\u6709\u7ed9\u5b9a\n      | \u94a9\u5b50\u7c7b\u578b\u548c\u540d\u79f0\u7684\u94a9\u5b50\u3002\n  * -\n    - ``clear_class_hooks``\n    - | \u6e05\u9664\u8be5\u7c7b\u6240\u6709\u5bf9\u8c61\u5177\u6709\u7ed9\u5b9a\n      | \u94a9\u5b50\u7c7b\u578b\u7684\u6240\u6709\u94a9\u5b50\u3002\n\n\u4f7f\u7528\u94a9\u5b50\u65f6\uff0c\u5f00\u53d1\u8005\u9700\u8981\u6ce8\u610f\u4ee5\u4e0b\u89c4\u5219\uff1a\n\n.. important:: **\u6267\u884c\u987a\u5e8f**\n\n - \u94a9\u5b50\u6309\u6ce8\u518c\u987a\u5e8f\u6267\u884c\n - \u591a\u4e2a\u94a9\u5b50\u53ef\u4ee5\u94fe\u5f0f\u8fde\u63a5\n **\u8fd4\u56de\u503c\u5904\u7406**\n\n - \u5bf9\u4e8e\u524d\u7f6e\u94a9\u5b50\uff1a\u975e None \u8fd4\u56de\u503c\u4f1a\u4f20\u9012\u7ed9\u4e0b\u4e00\u4e2a\u94a9\u5b50\u6216\u6838\u5fc3\u51fd\u6570\n  - \u5f53\u94a9\u5b50\u8fd4\u56de None \u65f6\uff0c\u4e0b\u4e00\u4e2a\u94a9\u5b50\u5c06\u4f7f\u7528\u524d\u5e8f\u94a9\u5b50\u4e2d\u6700\u8fd1\u7684\u975e None \u8fd4\u56de\u503c\n  - \u5982\u679c\u6240\u6709\u524d\u5e8f\u94a9\u5b50\u90fd\u8fd4\u56de None\uff0c\u90a3\u8be5\u94a9\u5b50\u63a5\u6536\u539f\u59cb\u53c2\u6570\u7684\u526f\u672c\u4f5c\u4e3a\u8f93\u5165\n  - \u6700\u540e\u4e00\u4e2a\u975e None \u8fd4\u56de\u503c\uff08\u6216\u5982\u679c\u6240\u6709\u94a9\u5b50\u90fd\u8fd4\u56de None \u5219\u4f7f\u7528\u539f\u59cb\u53c2\u6570\uff09\u4f20\u9012\u7ed9\u6838\u5fc3\u51fd\u6570\n - \u5bf9\u4e8e\u540e\u7f6e\u94a9\u5b50\uff1a\u5de5\u4f5c\u65b9\u5f0f\u4e0e\u524d\u7f6e\u94a9\u5b50\u76f8\u4f3c\u3002\n **\u91cd\u8981\u63d0\u793a**\uff1a\u4e0d\u8981\u5728\u94a9\u5b50\u5185\u8c03\u7528\u6838\u5fc3\u51fd\u6570\uff08reply/speak/observe/_reasoning/_acting\uff09\u4ee5\u907f\u514d\u5faa\u73af\u8c03\u7528\uff01\n\n\u4ee5\u4e0b\u9762\u7684\u667a\u80fd\u4f53\u4e3a\u4f8b\uff0c\u6211\u4eec\u53ef\u4ee5\u770b\u5230\u5982\u4f55\u6ce8\u518c\u3001\u79fb\u9664\u548c\u6e05\u9664\u94a9\u5b50\uff1a\n\n\n"
      ]
    },
    {
      "cell_type": "code",
      "execution_count": null,
      "metadata": {
        "collapsed": false
      },
      "outputs": [],
      "source": [
        "# \u521b\u5efa\u4e00\u4e2a\u7b80\u5355\u7684\u6d4b\u8bd5\u667a\u80fd\u4f53\u7c7b\nclass TestAgent(AgentBase):\n    \"\"\"\u7528\u4e8e\u6f14\u793a\u94a9\u5b50\u7684\u6d4b\u8bd5\u667a\u80fd\u4f53\u3002\"\"\"\n\n    async def reply(self, msg: Msg) -&gt; Msg:\n        \"\"\"\u56de\u590d\u6d88\u606f\u3002\"\"\"\n        return msg"
      ]
    },
    {
      "cell_type": "markdown",
      "metadata": {},
      "source": [
        "\u6211\u4eec\u521b\u5efa\u4e00\u4e2a\u5b9e\u4f8b\u7ea7\u94a9\u5b50\u548c\u4e00\u4e2a\u7c7b\u7ea7\u94a9\u5b50\u6765\u5728\u56de\u590d\u524d\u4fee\u6539\u6d88\u606f\u5185\u5bb9\u3002\n\n\n"
      ]
    },
    {
      "cell_type": "code",
      "execution_count": null,
      "metadata": {
        "collapsed": false
      },
      "outputs": [],
      "source": [
        "# \u521b\u5efa\u4e24\u4e2a\u524d\u7f6e\u56de\u590d\u94a9\u5b50\ndef instance_pre_reply_hook(\n    self: AgentBase,\n    kwargs: dict[str, Any],\n) -&gt; dict[str, Any]:\n    \"\"\"\u4fee\u6539\u6d88\u606f\u5185\u5bb9\u7684\u524d\u7f6e\u56de\u590d\u94a9\u5b50\u3002\"\"\"\n    msg = kwargs[\"msg\"]\n    msg.content += \"[instance-pre-reply]\"\n    # \u8fd4\u56de\u4fee\u6539\u540e\u7684 kwargs\n    return {\n        **kwargs,\n        \"msg\": msg,\n    }\n\n\ndef cls_pre_reply_hook(\n    self: AgentBase,\n    kwargs: dict[str, Any],\n) -&gt; dict[str, Any]:\n    \"\"\"\u4fee\u6539\u6d88\u606f\u5185\u5bb9\u7684\u524d\u7f6e\u56de\u590d\u94a9\u5b50\u3002\"\"\"\n    msg = kwargs[\"msg\"]\n    msg.content += \"[cls-pre-reply]\"\n    # \u8fd4\u56de\u4fee\u6539\u540e\u7684 kwargs\n    return {\n        **kwargs,\n        \"msg\": msg,\n    }\n\n\n# \u6ce8\u518c\u7c7b\u94a9\u5b50\nTestAgent.register_class_hook(\n    hook_type=\"pre_reply\",\n    hook_name=\"test_pre_reply\",\n    hook=cls_pre_reply_hook,\n)\n\n# \u6ce8\u518c\u5b9e\u4f8b\u94a9\u5b50\nagent = TestAgent()\nagent.register_instance_hook(\n    hook_type=\"pre_reply\",\n    hook_name=\"test_pre_reply\",\n    hook=instance_pre_reply_hook,\n)\n\n\nasync def example_test_hook() -&gt; None:\n    \"\"\"\u6d4b\u8bd5\u94a9\u5b50\u7684\u793a\u4f8b\u51fd\u6570\u3002\"\"\"\n    msg = Msg(\n        name=\"user\",\n        content=\"Hello, world!\",\n        role=\"user\",\n    )\n    res = await agent(msg)\n    print(\"\u54cd\u5e94\u5185\u5bb9\uff1a\", res.content)\n    TestAgent.clear_class_hooks()\n\n\nasyncio.run(example_test_hook())"
      ]
    },
    {
      "cell_type": "markdown",
      "metadata": {},
      "source": [
        "\u6211\u4eec\u53ef\u4ee5\u770b\u5230 \"[instance-pre-reply]\" \u548c \"[cls-pre-reply]\" \u88ab\u6dfb\u52a0\u5230\u4e86\u6d88\u606f\u5185\u5bb9\u4e2d\u3002\n\n\n"
      ]
    }
  ],
  "metadata": {
    "kernelspec": {
      "display_name": "Python 3",
      "language": "python",
      "name": "python3"
    },
    "language_info": {
      "codemirror_mode": {
        "name": "ipython",
        "version": 3
      },
      "file_extension": ".py",
      "mimetype": "text/x-python",
      "name": "python",
      "nbconvert_exporter": "python",
      "pygments_lexer": "ipython3",
      "version": "3.10.18"
    }
  },
  "nbformat": 4,
  "nbformat_minor": 0
}</pre><div class="json-formatter-container"></div>