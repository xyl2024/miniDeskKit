<!-- Title:  -->
<!-- URL: https://doc.agentscope.io/zh_CN/_downloads/c814d0f0885573dcc616fd38c752cf4e/task_tool.ipynb -->
<pre>{
  "cells": [
    {
      "cell_type": "markdown",
      "metadata": {},
      "source": [
        "\n\n# \u5de5\u5177\n\n\u4e3a\u4e86\u786e\u4fdd\u51c6\u786e\u53ef\u9760\u7684\u5de5\u5177\u89e3\u6790\uff0cAgentScope \u5168\u9762\u652f\u6301\u5de5\u5177 API \u7684\u4f7f\u7528\uff0c\u5177\u6709\u4ee5\u4e0b\u7279\u6027\uff1a\n\n- \u652f\u6301\u4ece\u6587\u6863\u5b57\u7b26\u4e32 **\u81ea\u52a8** \u89e3\u6790\u5de5\u5177\u51fd\u6570\n- \u652f\u6301 **\u540c\u6b65\u548c\u5f02\u6b65** \u5de5\u5177\u51fd\u6570\n- \u652f\u6301 **\u6d41\u5f0f** \u5de5\u5177\u54cd\u5e94\uff08\u540c\u6b65\u6216\u5f02\u6b65\u751f\u6210\u5668\uff09\n- \u652f\u6301\u5bf9\u5de5\u5177 JSON Schema \u7684 **\u52a8\u6001\u6269\u5c55**\n- \u652f\u6301\u7528\u6237\u5b9e\u65f6 **\u4e2d\u65ad** \u5de5\u5177\u7684\u6267\u884c\n- \u652f\u6301\u667a\u80fd\u4f53\u7684 **\u81ea\u4e3b\u5de5\u5177\u7ba1\u7406**\n\n\u6240\u6709\u4e0a\u8ff0\u529f\u80fd\u90fd\u7531 AgentScope \u4e2d\u7684 ``Toolkit`` \u7c7b\u5b9e\u73b0\uff0c\u8be5\u7c7b\u8d1f\u8d23\u7ba1\u7406\u5de5\u5177\u51fd\u6570\u53ca\u5176\u6267\u884c\u3002\n\n.. tip:: MCP\uff08\u6a21\u578b\u4e0a\u4e0b\u6587\u534f\u8bae\uff09\u7684\u652f\u6301\u8bf7\u53c2\u8003 `mcp` \u90e8\u5206\u3002\n"
      ]
    },
    {
      "cell_type": "code",
      "execution_count": null,
      "metadata": {
        "collapsed": false
      },
      "outputs": [],
      "source": [
        "import asyncio\nimport inspect\nimport json\nfrom typing import Any, AsyncGenerator\n\nfrom pydantic import BaseModel, Field\n\nimport agentscope\nfrom agentscope.message import TextBlock, ToolUseBlock\nfrom agentscope.tool import ToolResponse, Toolkit, execute_python_code"
      ]
    },
    {
      "cell_type": "markdown",
      "metadata": {},
      "source": [
        "## \u5de5\u5177\u51fd\u6570\n\u5728 AgentScope \u4e2d\uff0c\u5de5\u5177\u51fd\u6570\u662f\u4e00\u4e2a Python \u7684\u53ef\u8c03\u7528\u5bf9\u8c61\uff0c\u5b83\n\n- \u8fd4\u56de\u4e00\u4e2a ``ToolResponse`` \u5bf9\u8c61\u6216\u4ea7\u751f ``ToolResponse`` \u5bf9\u8c61\u7684\u751f\u6210\u5668\uff08\u53ef\u4ee5\u662f\u5f02\u6b65\u6216\u540c\u6b65\uff09\n- \u5177\u6709\u63cf\u8ff0\u5de5\u5177\u529f\u80fd\u548c\u53c2\u6570\u7684\u6587\u6863\u5b57\u7b26\u4e32\n\n\u5de5\u5177\u51fd\u6570\u7684\u6a21\u677f\u5982\u4e0b\uff1a\n\n"
      ]
    },
    {
      "cell_type": "code",
      "execution_count": null,
      "metadata": {
        "collapsed": false
      },
      "outputs": [],
      "source": [
        "def tool_function(a: int, b: str) -&gt; ToolResponse:\n    \"\"\"{\u51fd\u6570\u63cf\u8ff0}\n\n    Args:\n        a (int):\n            {\u7b2c\u4e00\u4e2a\u53c2\u6570\u7684\u63cf\u8ff0}\n        b (str):\n            {\u7b2c\u4e8c\u4e2a\u53c2\u6570\u7684\u63cf\u8ff0}\n    \"\"\""
      ]
    },
    {
      "cell_type": "markdown",
      "metadata": {},
      "source": [
        ".. tip:: \u5b9e\u4f8b\u65b9\u6cd5\u548c\u7c7b\u65b9\u6cd5\u4e5f\u53ef\u4ee5\u7528\u4f5c\u5de5\u5177\u51fd\u6570\uff0c``Toolkit`` \u4e2d\u5c06\u81ea\u52a8\u5ffd\u7565 ``self`` \u548c ``cls`` \u53c2\u6570\u3002\n\nAgentScope \u5728 ``agentscope.tool`` \u6a21\u5757\u4e0b\u63d0\u4f9b\u4e86\u51e0\u4e2a\u5185\u7f6e\u5de5\u5177\u51fd\u6570\uff0c\u5982 ``execute_python_code``\u3001``execute_shell_command`` \u548c\u6587\u672c\u6587\u4ef6\u8bfb\u5199\u51fd\u6570\u3002\n\n\n"
      ]
    },
    {
      "cell_type": "code",
      "execution_count": null,
      "metadata": {
        "collapsed": false
      },
      "outputs": [],
      "source": [
        "print(\"\u5185\u7f6e\u5de5\u5177\u51fd\u6570\uff1a\")\nfor _ in agentscope.tool.__all__:\n    if _ not in [\"Toolkit\", \"ToolResponse\"]:\n        print(_)"
      ]
    },
    {
      "cell_type": "markdown",
      "metadata": {},
      "source": [
        "## \u5de5\u5177\u6a21\u5757\uff08Toolkit\uff09\n``Toolkit`` \u7c7b\u8bbe\u8ba1\u7528\u4e8e\u7ba1\u7406\u5de5\u5177\u51fd\u6570\uff0c\u4ece\u6587\u6863\u5b57\u7b26\u4e32\u4e2d\u63d0\u53d6\u5b83\u4eec\u7684 JSON Schema\uff0c\u5e76\u4e3a\u5de5\u5177\u6267\u884c\u63d0\u4f9b\u7edf\u4e00\u63a5\u53e3\u3002\n\n### \u57fa\u672c\u7528\u6cd5\n``Toolkit`` \u7c7b\u7684\u57fa\u672c\u529f\u80fd\u662f\u6ce8\u518c\u5de5\u5177\u51fd\u6570\u5e76\u6267\u884c\u5b83\u4eec\u3002\n\n\n"
      ]
    },
    {
      "cell_type": "code",
      "execution_count": null,
      "metadata": {
        "collapsed": false
      },
      "outputs": [],
      "source": [
        "# \u51c6\u5907\u4e00\u4e2a\u81ea\u5b9a\u4e49\u5de5\u5177\u51fd\u6570\nasync def my_search(query: str, api_key: str) -&gt; ToolResponse:\n    \"\"\"\u4e00\u4e2a\u7b80\u5355\u7684\u793a\u4f8b\u5de5\u5177\u51fd\u6570\u3002\n\n    Args:\n        query (str):\n            \u641c\u7d22\u67e5\u8be2\u3002\n        api_key (str):\n            \u7528\u4e8e\u8eab\u4efd\u9a8c\u8bc1\u7684 API \u5bc6\u94a5\u3002\n    \"\"\"\n    return ToolResponse(\n        content=[\n            TextBlock(\n                type=\"text\",\n                text=f\"\u6b63\u5728\u4f7f\u7528 API \u5bc6\u94a5 '{api_key}' \u641c\u7d22 '{query}'\",\n            ),\n        ],\n    )\n\n\n# \u5728\u5de5\u5177\u6a21\u5757\u4e2d\u6ce8\u518c\u5de5\u5177\u51fd\u6570\ntoolkit = Toolkit()\ntoolkit.register_tool_function(my_search)"
      ]
    },
    {
      "cell_type": "markdown",
      "metadata": {},
      "source": [
        "\u6ce8\u518c\u5de5\u5177\u51fd\u6570\u540e\uff0c\u53ef\u4ee5\u901a\u8fc7\u8c03\u7528 ``get_json_schemas`` \u65b9\u6cd5\u83b7\u53d6\u5176 JSON Schema\u3002\n\n\n"
      ]
    },
    {
      "cell_type": "code",
      "execution_count": null,
      "metadata": {
        "collapsed": false
      },
      "outputs": [],
      "source": [
        "print(\"\u5de5\u5177 JSON Schemas\uff1a\")\nprint(json.dumps(toolkit.get_json_schemas(), indent=4, ensure_ascii=False))"
      ]
    },
    {
      "cell_type": "markdown",
      "metadata": {},
      "source": [
        "``Toolkit`` \u8fd8\u5141\u8bb8\u5f00\u53d1\u8005\u4e3a\u5de5\u5177\u51fd\u6570\u9884\u8bbe\u53c2\u6570\uff0c\u8fd9\u5bf9\u4e8e API \u5bc6\u94a5\u6216\u5176\u4ed6\u654f\u611f\u4fe1\u606f\u7279\u522b\u6709\u7528\u3002\n\n\n"
      ]
    },
    {
      "cell_type": "code",
      "execution_count": null,
      "metadata": {
        "collapsed": false
      },
      "outputs": [],
      "source": [
        "# \u5148\u6e05\u7a7a\u5de5\u5177\u6a21\u5757\ntoolkit.clear()\n\n# \u4f7f\u7528\u9884\u8bbe\u5173\u952e\u5b57\u53c2\u6570\u6ce8\u518c\u5de5\u5177\u51fd\u6570\ntoolkit.register_tool_function(my_search, preset_kwargs={\"api_key\": \"xxx\"})\n\nprint(\"\u5e26\u9884\u8bbe\u53c2\u6570\u7684\u5de5\u5177 JSON Schemas\uff1a\")\nprint(json.dumps(toolkit.get_json_schemas(), indent=4, ensure_ascii=False))"
      ]
    },
    {
      "cell_type": "markdown",
      "metadata": {},
      "source": [
        "\u9884\u8bbe\u53c2\u6570\u540e\uff0c\u8be5\u53c2\u6570\u5c06\u4ece JSON schema \u4e2d\u88ab\u79fb\u9664\uff0c\u5e76\u5728\u5de5\u5177\u8c03\u7528\u65f6\u81ea\u52a8\u4f20\u9012\u7ed9\u8be5\u5de5\u5177\u51fd\u6570\u3002\n\n\u5728 ``Toolkit`` \u4e2d\uff0c``call_tool_function`` \u65b9\u6cd5\u4ee5 ``ToolUseBlock`` \u4f5c\u4e3a\u8f93\u5165\u6267\u884c\u6307\u5b9a\u7684\u5de5\u5177\u51fd\u6570\uff0c\u7edf\u4e00\u8fd4\u56de\u4e00\u4e2a **\u5f02\u6b65\u751f\u6210\u5668**\uff0c\u8be5\u751f\u6210\u5668\u4ea7\u751f ``ToolResponse`` \u5bf9\u8c61\u3002\n\n&lt;div class=\"alert alert-info\"&gt;&lt;h4&gt;Note&lt;/h4&gt;&lt;p&gt;AgentScope \u4e2d\uff0c\u6d41\u5f0f\u8fd4\u56de\u7684\u5de5\u5177\u51fd\u6570\u5e94\u8be5\u662f **\u201c\u7d2f\u79ef\u7684\u201d**\uff0c\u5373\u5f53\u524d\u5757\u7684\u5185\u5bb9\u5e94\u5305\u542b\u4e4b\u524d\u6240\u6709\u5757\u7684\u5185\u5bb9\u3002&lt;/p&gt;&lt;/div&gt;\n\n\n"
      ]
    },
    {
      "cell_type": "code",
      "execution_count": null,
      "metadata": {
        "collapsed": false
      },
      "outputs": [],
      "source": [
        "async def example_tool_execution() -&gt; None:\n    \"\"\"\u5de5\u5177\u8c03\u7528\u6267\u884c\u793a\u4f8b\u3002\"\"\"\n    res = await toolkit.call_tool_function(\n        ToolUseBlock(\n            type=\"tool_use\",\n            id=\"123\",\n            name=\"my_search\",\n            input={\"query\": \"AgentScope\"},\n        ),\n    )\n\n    # \u975e\u6d41\u5f0f\u8fd4\u56de\u7684\u5de5\u5177\u51fd\u6570\u53ea\u6709\u4e00\u4e2a ToolResponse \u8fd4\u56de\n    print(\"\u5de5\u5177\u54cd\u5e94\uff1a\")\n    async for tool_response in res:\n        print(tool_response)\n\n\nasyncio.run(example_tool_execution())"
      ]
    },
    {
      "cell_type": "markdown",
      "metadata": {},
      "source": [
        "### \u52a8\u6001\u6269\u5c55 JSON Schema\n\nToolkit \u5141\u8bb8\u901a\u8fc7\u8c03\u7528 ``set_extended_model`` \u65b9\u6cd5\u52a8\u6001\u6269\u5c55\u5de5\u5177\u51fd\u6570\u7684 JSON schemas\u3002\n\u8fd9\u79cd\u529f\u80fd\u5141\u8bb8\u5f00\u53d1\u8005\u5728\u4e0d\u4fee\u6539\u5de5\u5177\u51fd\u6570\u539f\u59cb\u5b9a\u4e49\u7684\u60c5\u51b5\u4e0b\uff0c\u5411\u5de5\u5177\u51fd\u6570\u6dfb\u52a0\u66f4\u591a\u53c2\u6570\u3002\n\n.. tip:: \u76f8\u5173\u573a\u666f\u5305\u62ec\u52a8\u6001 `structured-output` \u548c CoT\uff08\u601d\u7ef4\u94fe\uff09\u63a8\u7406\n\n&lt;div class=\"alert alert-info\"&gt;&lt;h4&gt;Note&lt;/h4&gt;&lt;p&gt;\u8981\u6269\u5c55\u7684\u5de5\u5177\u51fd\u6570\u5e94\u8be5\u63a5\u53d7\u53ef\u53d8\u5173\u952e\u5b57\u53c2\u6570\uff08``**kwargs``\uff09\uff0c\u4ee5\u4fbf\u9644\u52a0\u5b57\u6bb5\u53ef\u4ee5\u4f20\u9012\u7ed9\u5b83\u3002&lt;/p&gt;&lt;/div&gt;\n\n\u4ee5 CoT \u63a8\u7406\u4e3a\u4f8b\uff0c\u6211\u4eec\u53ef\u4ee5\u7528 ``thinking`` \u5b57\u6bb5\u6269\u5c55\u6240\u6709\u5de5\u5177\u51fd\u6570\uff0c\u5141\u8bb8\u667a\u80fd\u4f53\u603b\u7ed3\u5f53\u524d\u72b6\u6001\u7136\u540e\u51b3\u5b9a\u4e0b\u4e00\u6b65\u505a\u4ec0\u4e48\u3002\n\n\n"
      ]
    },
    {
      "cell_type": "code",
      "execution_count": null,
      "metadata": {
        "collapsed": false
      },
      "outputs": [],
      "source": [
        "# \u793a\u4f8b\u5de5\u5177\u51fd\u6570\ndef tool_function(**kwargs: Any) -&gt; ToolResponse:\n    \"\"\"\u4e00\u4e2a\u5de5\u5177\u51fd\u6570\"\"\"\n    return ToolResponse(\n        content=[\n            TextBlock(\n                type=\"text\",\n                text=f\"\u63a5\u6536\u5230\u7684\u53c2\u6570\uff1a{kwargs}\",\n            ),\n        ],\n    )\n\n\n# \u6dfb\u52a0\u4e00\u4e2a\u601d\u8003\u5b57\u6bb5\uff0c\u4ee5\u4fbf\u667a\u80fd\u4f53\u5728\u7ed9\u51fa\u5176\u4ed6\u53c2\u6570\u4e4b\u524d\u53ef\u4ee5\u601d\u8003\u3002\nclass ThinkingModel(BaseModel):\n    \"\"\"\u7528\u4e8e\u9644\u52a0\u5b57\u6bb5\u7684 Pydantic \u6a21\u578b\u3002\"\"\"\n\n    thinking: str = Field(\n        description=\"\u603b\u7ed3\u5f53\u524d\u72b6\u6001\u5e76\u51b3\u5b9a\u4e0b\u4e00\u6b65\u505a\u4ec0\u4e48\u3002\",\n    )\n\n\n# \u6ce8\u518c\ntoolkit.set_extended_model(\"my_search\", ThinkingModel)\n\nprint(\"\u6269\u5c55\u540e\u7684 JSON Schema\uff1a\")\nprint(json.dumps(toolkit.get_json_schemas(), indent=4, ensure_ascii=False))"
      ]
    },
    {
      "cell_type": "markdown",
      "metadata": {},
      "source": [
        "### \u4e2d\u65ad\u5de5\u5177\u6267\u884c\n``Toolkit`` \u7c7b\u652f\u6301 **\u5f02\u6b65\u5de5\u5177\u51fd\u6570** \u7684 **\u6267\u884c\u4e2d\u65ad**\uff0c\u5e76\u63d0\u4f9b **\u9762\u5411\u667a\u80fd\u4f53\u7684\u540e\u5904\u7406\u673a\u5236**\u3002\n\u8fd9\u79cd\u4e2d\u65ad\u57fa\u4e8e asyncio \u53d6\u6d88\u673a\u5236\u5b9e\u73b0\uff0c\u5176\u540e\u5904\u7406\u8fc7\u7a0b\u6839\u636e\u5de5\u5177\u51fd\u6570\u7684\u8fd4\u56de\u7c7b\u578b\u800c\u6709\u6240\u4e0d\u540c\u3002\n\n&lt;div class=\"alert alert-info\"&gt;&lt;h4&gt;Note&lt;/h4&gt;&lt;p&gt;\u5bf9\u4e8e\u540c\u6b65\uff08\u5de5\u5177\uff09\u51fd\u6570\uff0c\u5b83\u4eec\u7684\u6267\u884c\u65e0\u6cd5\u901a\u8fc7 asyncio \u53d6\u6d88\u6765\u4e2d\u65ad\u3002\u56e0\u6b64\u5176\u4e2d\u65ad\u5728\u667a\u80fd\u4f53\u5185\u800c\u4e0d\u662f\u5de5\u5177\u6a21\u5757\u5185\u5904\u7406\u3002&lt;/p&gt;&lt;/div&gt;\n \u6709\u5173\u66f4\u591a\u4fe1\u606f\uff0c\u8bf7\u53c2\u8003 `agent` \u90e8\u5206\u3002\n\n\u5177\u4f53\u6765\u8bf4\uff0c\u5982\u679c\u5de5\u5177\u51fd\u6570\u8fd4\u56de ``ToolResponse`` \u5bf9\u8c61\uff0c\u5c06\u4ea7\u751f\u4e00\u4e2a\u5e26\u6709\u4e2d\u65ad\u6d88\u606f\u7684 ``ToolResponse`` \u5bf9\u8c61\u3002\n\u8fd9\u6837\u667a\u80fd\u4f53\u53ef\u4ee5\u89c2\u5bdf\u5230\u8fd9\u4e00\u4e2d\u65ad\u5e76\u76f8\u5e94\u5730\u5904\u7406\u5b83\u3002\n\u6b64\u5916\uff0c\u8be5 ``ToolResponse`` \u5bf9\u8c61\u4e2d\u7684 ``is_interrupted`` \u5c06\u8bbe\u7f6e\u4e3a ``True``\uff0c\u5916\u90e8\u8c03\u7528\u8005\u53ef\u4ee5\u51b3\u5b9a\u662f\u5426\u5c06 ``CancelledError`` \u5f02\u5e38\u629b\u51fa\u5230\u5916\u5c42\u3002\n\n\u53ef\u4ee5\u88ab\u4e2d\u65ad\u7684\u5f02\u6b65\u5de5\u5177\u51fd\u6570\u793a\u4f8b\u5982\u4e0b\uff1a\n\n\n"
      ]
    },
    {
      "cell_type": "code",
      "execution_count": null,
      "metadata": {
        "collapsed": false
      },
      "outputs": [],
      "source": [
        "async def non_streaming_function() -&gt; ToolResponse:\n    \"\"\"\u4e00\u4e2a\u53ef\u4ee5\u88ab\u4e2d\u65ad\u7684\u975e\u6d41\u5f0f\u5de5\u5177\u51fd\u6570\u3002\"\"\"\n    await asyncio.sleep(1)  # \u6a21\u62df\u957f\u65f6\u95f4\u8fd0\u884c\u7684\u4efb\u52a1\n\n    # \u4e3a\u6f14\u793a\u76ee\u7684\u6a21\u62df\u4e2d\u65ad\n    raise asyncio.CancelledError()\n\n    # \u7531\u4e8e\u53d6\u6d88\uff0c\u4ee5\u4e0b\u4ee3\u7801\u4e0d\u4f1a\u88ab\u6267\u884c\n    return ToolResponse(\n        content=[\n            TextBlock(\n                type=\"text\",\n                text=\"\u8fd0\u884c\u6210\u529f\uff01\",\n            ),\n        ],\n    )\n\n\nasync def example_tool_interruption() -&gt; None:\n    \"\"\"\u5de5\u5177\u4e2d\u65ad\u793a\u4f8b\u3002\"\"\"\n    toolkit = Toolkit()\n    toolkit.register_tool_function(non_streaming_function)\n    res = await toolkit.call_tool_function(\n        ToolUseBlock(\n            type=\"tool_use\",\n            id=\"123\",\n            name=\"non_streaming_function\",\n            input={},\n        ),\n    )\n\n    async for tool_response in res:\n        print(\"\u5de5\u5177\u54cd\u5e94\uff1a\")\n        print(tool_response)\n        print(\"\u4e2d\u65ad\u6807\u5fd7\uff1a\")\n        print(tool_response.is_interrupted)\n\n\nasyncio.run(example_tool_interruption())"
      ]
    },
    {
      "cell_type": "markdown",
      "metadata": {},
      "source": [
        "\u5bf9\u4e8e\u6d41\u5f0f\u5de5\u5177\u51fd\u6570\uff0c``Toolkit`` \u5c06\u628a\u4e2d\u65ad\u6d88\u606f\u9644\u52a0\u5230\u4e2d\u65ad\u53d1\u751f\u65f6\u7684 ``ToolResponse`` \u4e0a\u3002\n\u901a\u8fc7\u8fd9\u79cd\u65b9\u5f0f\uff0c\u667a\u80fd\u4f53\u53ef\u4ee5\u89c2\u5bdf\u5230\u5de5\u5177\u5728\u4e2d\u65ad\u524d\u8fd4\u56de\u7684\u5185\u5bb9\u3002\n\n\u4e2d\u65ad\u6d41\u5f0f\u5de5\u5177\u51fd\u6570\u7684\u793a\u4f8b\u5982\u4e0b\uff1a\n\n\n"
      ]
    },
    {
      "cell_type": "code",
      "execution_count": null,
      "metadata": {
        "collapsed": false
      },
      "outputs": [],
      "source": [
        "async def streaming_function() -&gt; AsyncGenerator[ToolResponse, None]:\n    \"\"\"\u4e00\u4e2a\u53ef\u4ee5\u88ab\u4e2d\u65ad\u7684\u6d41\u5f0f\u5de5\u5177\u51fd\u6570\u3002\"\"\"\n    # \u6a21\u62df\u4e00\u5757\u54cd\u5e94\n    yield ToolResponse(\n        content=[\n            TextBlock(\n                type=\"text\",\n                text=\"1234\",\n            ),\n        ],\n        stream=True,\n    )\n\n    # \u6a21\u62df\u4e2d\u65ad\n    raise asyncio.CancelledError()\n\n    # \u7531\u4e8e\u53d6\u6d88\uff0c\u4ee5\u4e0b\u4ee3\u7801\u4e0d\u4f1a\u88ab\u6267\u884c\n    yield ToolResponse(\n        content=[\n            TextBlock(\n                type=\"text\",\n                text=\"123456789\",\n            ),\n        ],\n    )\n\n\nasync def example_streaming_tool_interruption() -&gt; None:\n    \"\"\"\u6d41\u5f0f\u5de5\u5177\u4e2d\u65ad\u793a\u4f8b\u3002\"\"\"\n    toolkit = Toolkit()\n    toolkit.register_tool_function(streaming_function)\n\n    res = await toolkit.call_tool_function(\n        ToolUseBlock(\n            type=\"tool_use\",\n            id=\"xxx\",\n            name=\"streaming_function\",\n            input={},\n        ),\n    )\n\n    i = 0\n    async for tool_response in res:\n        print(f\"\u5757 {i}\uff1a\")\n        print(tool_response)\n        print(\"\u4e2d\u65ad\u6807\u5fd7\uff1a\", tool_response.is_interrupted, \"\\n\")\n        i += 1\n\n\nasyncio.run(example_streaming_tool_interruption())"
      ]
    },
    {
      "cell_type": "markdown",
      "metadata": {},
      "source": [
        "### \u81ea\u52a8\u5de5\u5177\u7ba1\u7406\n&lt;img src=\"https://img.alicdn.com/imgextra/i3/O1CN013cvRpO27MfesMsTeh_!!6000000007783-2-tps-840-521.png\" width=\"100%\" align=\"center\" alt=\"\u81ea\u52a8\u5de5\u5177\u7ba1\u7406\"&gt;\n\n\n``Toolkit`` \u7c7b\u901a\u8fc7\u5f15\u5165 **\u5de5\u5177\u7ec4** \uff08Group\uff09 \u7684\u6982\u5ff5\uff0c\u4ee5\u53ca\u540d\u4e3a ``reset_equipped_tools`` \u7684 **\u5143\u5de5\u5177\u51fd\u6570** \uff08Meta Tool\uff09 \u6765\u652f\u6301 **\u81ea\u52a8\u5de5\u5177\u7ba1\u7406** \u3002\n\n\u5de5\u5177\u7ec4\u662f\u4e00\u7ec4\u76f8\u5173\u5de5\u5177\u51fd\u6570\u7684\u96c6\u5408\uff0c\u4f8b\u5982\u6d4f\u89c8\u5668\u4f7f\u7528\u5de5\u5177\u3001\u5730\u56fe\u670d\u52a1\u5de5\u5177\u7b49\uff0c\u5b83\u4eec\u5c06\u88ab\u4e00\u8d77\u7ba1\u7406\u3002\u5de5\u5177\u7ec4\u6709\u6fc0\u6d3b\u548c\u975e\u6fc0\u6d3b\u4e24\u79cd\u72b6\u6001\uff0c\n\u53ea\u6709\u5de5\u5177\u7ec4\u88ab\u6fc0\u6d3b\uff0c\u5176\u4e2d\u7684\u5de5\u5177\u51fd\u6570\u624d\u5bf9\u667a\u80fd\u4f53\u53ef\u89c1\uff0c\u5373\u53ef\u4ee5\u901a\u8fc7 ``toolkit.get_json_schemas()`` \u65b9\u6cd5\u8bbf\u95ee\u3002\n\n\u6ce8\u610f\u6709\u4e00\u4e2a\u540d\u4e3a ``basic`` \u7684\u7279\u6b8a\u7ec4\uff0c\u5b83\u59cb\u7ec8\u5904\u4e8e\u6fc0\u6d3b\u72b6\u6001\uff0c\u6ce8\u518c\u5de5\u5177\u65f6\u5982\u679c\u672a\u6307\u5b9a\u7ec4\u540d\uff0c\u5219\u5de5\u5177\u51fd\u6570\u5c06\u9ed8\u8ba4\u6dfb\u52a0\u5230\u6b64\u7ec4\u3002\n\n.. tip:: ``basic`` \u7ec4\u786e\u4fdd\u5f00\u53d1\u8005\u4e0d\u9700\u8981\u201c\u7ec4\u7ba1\u7406\u201d\u7684\u529f\u80fd\u65f6\uff0c\u5de5\u5177\u7684\u57fa\u672c\u4f7f\u7528\u4e0d\u4f1a\u53d7\u5230\u5f71\u54cd\u3002\n\n\u73b0\u5728\u6211\u4eec\u5c1d\u8bd5\u521b\u5efa\u4e00\u4e2a\u540d\u4e3a ``browser_use`` \u7684\u5de5\u5177\u7ec4\uff0c\u5176\u4e2d\u5305\u542b\u4e00\u4e9b\u7f51\u9875\u6d4f\u89c8\u5de5\u5177\u3002\n\n\n"
      ]
    },
    {
      "cell_type": "code",
      "execution_count": null,
      "metadata": {
        "collapsed": false
      },
      "outputs": [],
      "source": [
        "# \u6211\u4eec\u521b\u5efa\u4e00\u4e9b\u6d4f\u89c8\u5668\u64cd\u4f5c\u76f8\u5173\u7684\u5de5\u5177\ndef navigate(url: str) -&gt; ToolResponse:\n    \"\"\"\u5bfc\u822a\u5230\u7f51\u9875\u3002\n\n    Args:\n        url (str):\n            \u8981\u5bfc\u822a\u5230\u7684\u7f51\u9875\u7684 URL\u3002\n    \"\"\"\n    pass\n\n\ndef click_element(element_id: str) -&gt; ToolResponse:\n    \"\"\"\u70b9\u51fb\u7f51\u9875\u4e0a\u7684\u5143\u7d20\u3002\n\n    Args:\n        element_id (str):\n            \u8981\u70b9\u51fb\u7684\u5143\u7d20\u7684 ID\u3002\n    \"\"\"\n    pass\n\n\ntoolkit = Toolkit()\n\n# \u521b\u5efa\u4e00\u4e2a\u540d\u4e3a browser_use \u7684\u5de5\u5177\u7ec4\ntoolkit.create_tool_group(\n    group_name=\"browser_use\",\n    description=\"\u7528\u4e8e\u7f51\u9875\u6d4f\u89c8\u7684\u5de5\u5177\u51fd\u6570\u3002\",\n    active=False,\n    # \u4f7f\u7528\u8fd9\u4e9b\u5de5\u5177\u65f6\u7684\u6ce8\u610f\u4e8b\u9879\n    notes=\"\"\"1. \u4f7f\u7528 ``navigate`` \u6253\u5f00\u7f51\u9875\u3002\n2. \u5f53\u9700\u8981\u7528\u6237\u8eab\u4efd\u9a8c\u8bc1\u65f6\uff0c\u8bf7\u5411\u7528\u6237\u8be2\u95ee\u51ed\u636e\n3. ...\"\"\",\n)\n\ntoolkit.register_tool_function(navigate, group_name=\"browser_use\")\ntoolkit.register_tool_function(click_element, group_name=\"browser_use\")\n\n# \u6211\u4eec\u4e5f\u53ef\u4ee5\u6ce8\u518c\u4e00\u4e9b\u57fa\u672c\u5de5\u5177\ntoolkit.register_tool_function(execute_python_code)"
      ]
    },
    {
      "cell_type": "markdown",
      "metadata": {},
      "source": [
        "\u6b64\u65f6 ``browser_use`` \u672a\u88ab\u6fc0\u6d3b\uff0c\u5982\u679c\u6211\u4eec\u68c0\u67e5\u5de5\u5177 JSON schema\uff0c\u53ea\u80fd\u770b\u5230 ``execute_python_code`` \u5de5\u5177\uff1a\n\n"
      ]
    },
    {
      "cell_type": "code",
      "execution_count": null,
      "metadata": {
        "collapsed": false
      },
      "outputs": [],
      "source": [
        "print(\"\u6b64\u65f6\u5bf9\u667a\u80fd\u4f53\u53ef\u89c1\u7684\u5de5\u5177\u51fd\u6570 JSON Schemas\uff1a\")\nprint(json.dumps(toolkit.get_json_schemas(), indent=4, ensure_ascii=False))"
      ]
    },
    {
      "cell_type": "markdown",
      "metadata": {},
      "source": [
        "\u4f7f\u7528 ``update_tool_groups`` \u65b9\u6cd5\u6fc0\u6d3b\u6216\u505c\u7528\u5de5\u5177\u7ec4\uff1a\n\n"
      ]
    },
    {
      "cell_type": "code",
      "execution_count": null,
      "metadata": {
        "collapsed": false
      },
      "outputs": [],
      "source": [
        "toolkit.update_tool_groups(group_names=[\"browser_use\"], active=True)\n\nprint(\"\u6fc0\u6d3b\u540e\u5bf9\u667a\u80fd\u4f53\u53ef\u89c1\u7684\u5de5\u5177\u51fd\u6570 JSON Schemas\uff1a\")\nprint(json.dumps(toolkit.get_json_schemas(), indent=4, ensure_ascii=False))"
      ]
    },
    {
      "cell_type": "markdown",
      "metadata": {},
      "source": [
        "\u6b64\u5916\uff0c``Toolkit`` \u63d0\u4f9b\u4e86\u4e00\u4e2a\u540d\u4e3a ``reset_equipped_tools`` \u7684\u5143\u5de5\u5177\u51fd\u6570\uff0c\u5b83\u4f1a\u5c06\u6240\u6709\u7ec4\u540d\uff08\u9664\u4e86 \"basic\"\uff09\u4f5c\u4e3a\u4e00\u4e2a bool \u578b\u7684\u53c2\u6570\uff0c\n\u8ba9\u667a\u80fd\u4f53\u8c03\u7528\u8be5\u5de5\u5177\u6765\u51b3\u5b9a\u8981\u6fc0\u6d3b\u54ea\u4e9b\u5de5\u5177\u7ec4\uff1a\n\n&lt;div class=\"alert alert-info\"&gt;&lt;h4&gt;Note&lt;/h4&gt;&lt;p&gt;\u5728 ``ReActAgent`` \u7c7b\u7684\u5b9e\u73b0\u4e2d\uff0c\u53ea\u9700\u8981\u5728\u6784\u9020\u51fd\u6570\u4e2d\u5c06 ``enable_meta_tool`` \u8bbe\u7f6e\u4e3a ``True`` \u5373\u53ef\u542f\u7528\u5143\u5de5\u5177\u51fd\u6570\u3002&lt;/p&gt;&lt;/div&gt;\n\n\n"
      ]
    },
    {
      "cell_type": "code",
      "execution_count": null,
      "metadata": {
        "collapsed": false
      },
      "outputs": [],
      "source": [
        "# \u6ce8\u518c\u5143\u5de5\u5177\u51fd\u6570\ntoolkit.register_tool_function(toolkit.reset_equipped_tools)\n\nreset_equipped = next(\n    tool\n    for tool in toolkit.get_json_schemas()\n    if tool[\"function\"][\"name\"] == \"reset_equipped_tools\"\n)\nprint(\"``reset_equipped_tools`` \u51fd\u6570\u7684 JSON schema\uff1a\")\nprint(\n    json.dumps(\n        reset_equipped,\n        indent=4,\n        ensure_ascii=False,\n    ),\n)"
      ]
    },
    {
      "cell_type": "markdown",
      "metadata": {},
      "source": [
        "\u5f53\u667a\u80fd\u4f53\u8c03\u7528 ``reset_equipped_tools`` \u65f6\uff0c\u5bf9\u5e94\u5de5\u5177\u7ec4\u5c06\u88ab\u6fc0\u6d3b\uff0c\u540c\u65f6\u8fd4\u56de\u7684\u7ed3\u679c\u4e2d\u5c06\u5305\u542b\u5de5\u5177\u7684\u4f7f\u7528\u6ce8\u610f\u4e8b\u9879\u3002\n\n\n"
      ]
    },
    {
      "cell_type": "code",
      "execution_count": null,
      "metadata": {
        "collapsed": false
      },
      "outputs": [],
      "source": [
        "async def mock_agent_reset_tools() -&gt; None:\n    \"\"\"\u6a21\u62df\u667a\u80fd\u4f53\u8c03\u7528 reset_equipped_tools \u51fd\u6570\u3002\"\"\"\n    res = await toolkit.call_tool_function(\n        ToolUseBlock(\n            type=\"tool_use\",\n            id=\"456\",\n            name=\"reset_equipped_tools\",\n            input={\n                \"browser_use\": True,  # \u6fc0\u6d3b\u6d4f\u89c8\u5668\u4f7f\u7528\u5de5\u5177\u7ec4\n            },\n        ),\n    )\n\n    async for tool_response in res:\n        print(\"\u5de5\u5177\u54cd\u5e94\u4e2d\u7684\u6587\u5b57\u8fd4\u56de\uff1a\")\n        print(tool_response.content[0][\"text\"])\n\n\nasyncio.run(mock_agent_reset_tools())"
      ]
    },
    {
      "cell_type": "markdown",
      "metadata": {},
      "source": [
        "\u6b64\u5916\uff0c``Toolkit`` \u8fd8\u901a\u8fc7 ``get_activated_notes`` \u51fd\u6570\u63d0\u4f9b\u5df2\u7ecf\u88ab\u6fc0\u6d3b\u4e86\u7684\u5de5\u5177\u7ec4\u7684 notes\uff0c\u5f00\u53d1\u8005\u4e5f\u53ef\u4ee5\u5c06\u5176\u7ec4\u88c5\u5230\u667a\u80fd\u4f53\u7684\u7cfb\u7edf\u63d0\u793a\u4e2d\uff0c\u4ece\u800c\u8fbe\u5230\u52a8\u6001\u7ba1\u7406\u5de5\u5177\u7684\u4f5c\u7528\u3002\n\n.. tip:: \u81ea\u52a8\u5de5\u5177\u7ba1\u7406\u529f\u80fd\u5df2\u5728 ``ReActAgent`` \u7c7b\u4e2d\u5b9e\u73b0\uff0c\u6709\u5173\u66f4\u591a\u8be6\u7ec6\u4fe1\u606f\uff0c\u8bf7\u53c2\u8003 `agent` \u90e8\u5206\u3002\n\n\n"
      ]
    },
    {
      "cell_type": "code",
      "execution_count": null,
      "metadata": {
        "collapsed": false
      },
      "outputs": [],
      "source": [
        "# \u518d\u521b\u5efa\u4e00\u4e2a\u5de5\u5177\u7ec4\ntoolkit.create_tool_group(\n    group_name=\"map_service\",\n    description=\"\u8c37\u6b4c\u5730\u56fe\u670d\u52a1\u5de5\u5177\u3002\",\n    active=True,\n    notes=\"\"\"1. \u4f7f\u7528 ``get_location`` \u83b7\u53d6\u5730\u70b9\u7684\u4f4d\u7f6e\u3002\n2. ...\"\"\",\n)\n\nprint(\"\u6fc0\u6d3b\u5de5\u5177\u7ec4\u7684\u6c47\u603b\u6ce8\u610f\u4e8b\u9879\uff1a\")\nprint(toolkit.get_activated_notes())"
      ]
    },
    {
      "cell_type": "markdown",
      "metadata": {},
      "source": [
        "### \u8fdb\u4e00\u6b65\u9605\u8bfb\n- `agent`\n- `state`\n- `mcp`\n\n\n"
      ]
    }
  ],
  "metadata": {
    "kernelspec": {
      "display_name": "Python 3",
      "language": "python",
      "name": "python3"
    },
    "language_info": {
      "codemirror_mode": {
        "name": "ipython",
        "version": 3
      },
      "file_extension": ".py",
      "mimetype": "text/x-python",
      "name": "python",
      "nbconvert_exporter": "python",
      "pygments_lexer": "ipython3",
      "version": "3.10.18"
    }
  },
  "nbformat": 4,
  "nbformat_minor": 0
}</pre><div class="json-formatter-container"></div>