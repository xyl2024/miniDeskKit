<!-- Title:  -->
<!-- URL: https://doc.agentscope.io/zh_CN/_downloads/cf2bfcc46b2b3d58d3df8c98a6a13f87/task_long_term_memory.ipynb -->
<pre>{
  "cells": [
    {
      "cell_type": "markdown",
      "metadata": {},
      "source": [
        "\n\n# \u957f\u671f\u8bb0\u5fc6\n\nAgentScope \u4e3a\u957f\u671f\u8bb0\u5fc6\u63d0\u4f9b\u4e86\u4e00\u4e2a\u57fa\u7c7b ``LongTermMemoryBase`` \u548c\u4e00\u4e2a\u57fa\u4e8e [mem0](https://github.com/mem0ai/mem0) \u7684\u5177\u4f53\u5b9e\u73b0 ``Mem0LongTermMemory``\u3002\n\u7ed3\u5408 `agent` \u7ae0\u8282\u4e2d ``ReActAgent`` \u7c7b\u7684\u8bbe\u8ba1\uff0c\u6211\u4eec\u63d0\u4f9b\u4e86\u4e24\u79cd\u957f\u671f\u8bb0\u5fc6\u6a21\u5f0f\uff1a\n\n- ``agent_control``\uff1a\u667a\u80fd\u4f53\u901a\u8fc7\u5de5\u5177\u8c03\u7528\u81ea\u4e3b\u7ba1\u7406\u957f\u671f\u8bb0\u5fc6\u3002\n- ``static_control``\uff1a\u5f00\u53d1\u8005\u901a\u8fc7\u7f16\u7a0b\u663e\u5f0f\u63a7\u5236\u957f\u671f\u8bb0\u5fc6\u64cd\u4f5c\u3002\n\n\u5f53\u7136\uff0c\u5f00\u53d1\u8005\u4e5f\u53ef\u4ee5\u4f7f\u7528 ``both`` \u53c2\u6570\uff0c\u5c06\u540c\u65f6\u6fc0\u6d3b\u4e0a\u8ff0\u4e24\u79cd\u8bb0\u5fc6\u7ba1\u7406\u6a21\u5f0f\u3002\n\n.. hint:: \u4e0d\u540c\u7684\u8bb0\u5fc6\u6a21\u5f0f\u9002\u7528\u4e8e\u4e0d\u540c\u7684\u4f7f\u7528\u573a\u666f\uff0c\u5f00\u53d1\u8005\u53ef\u4ee5\u6839\u636e\u9700\u8981\u9009\u62e9\u5408\u9002\u7684\u6a21\u5f0f\u3002\n\n## \u4f7f\u7528 mem0 \u957f\u671f\u8bb0\u5fc6\n\n&lt;div class=\"alert alert-info\"&gt;&lt;h4&gt;Note&lt;/h4&gt;&lt;p&gt;\u5728 GitHub \u4ed3\u5e93\u7684 ``examples/long_term_memory/mem0`` \u76ee\u5f55\u4e0b\u6211\u4eec\u63d0\u4f9b\u4e86 mem0 \u957f\u671f\u8bb0\u5fc6\u7684\u4f7f\u7528\u793a\u4f8b\u3002&lt;/p&gt;&lt;/div&gt;\n"
      ]
    },
    {
      "cell_type": "code",
      "execution_count": null,
      "metadata": {
        "collapsed": false
      },
      "outputs": [],
      "source": [
        "import os\nimport asyncio\n\nfrom agentscope.message import Msg\nfrom agentscope.memory import InMemoryMemory, Mem0LongTermMemory\nfrom agentscope.agent import ReActAgent\nfrom agentscope.embedding import DashScopeTextEmbedding\nfrom agentscope.formatter import DashScopeChatFormatter\nfrom agentscope.model import DashScopeChatModel\nfrom agentscope.tool import Toolkit\n\n\n# \u521b\u5efa mem0 \u957f\u671f\u8bb0\u5fc6\u5b9e\u4f8b\nlong_term_memory = Mem0LongTermMemory(\n    agent_name=\"Friday\",\n    user_name=\"user_123\",\n    model=DashScopeChatModel(\n        model_name=\"qwen-max-latest\",\n        api_key=os.environ.get(\"DASHSCOPE_API_KEY\"),\n        stream=False,\n    ),\n    embedding_model=DashScopeTextEmbedding(\n        model_name=\"text-embedding-v2\",\n        api_key=os.environ.get(\"DASHSCOPE_API_KEY\"),\n    ),\n    on_disk=False,\n)"
      ]
    },
    {
      "cell_type": "markdown",
      "metadata": {},
      "source": [
        "``Mem0LongTermMemory`` \u7c7b\u63d0\u4f9b\u4e86\u4e24\u4e2a\u64cd\u4f5c\u957f\u671f\u8bb0\u5fc6\u7684\u65b9\u6cd5\uff0c``record` \u548c `retrieve`\u3002\n\u5b83\u4eec\u63a5\u6536\u6d88\u606f\u5bf9\u8c61\u7684\u5217\u8868\u4f5c\u4e3a\u8f93\u5165\uff0c\u5206\u522b\u8bb0\u5f55\u548c\u68c0\u7d22\u957f\u671f\u8bb0\u5fc6\u4e2d\u7684\u4fe1\u606f\u3002\n\n\u4f8b\u5982\u4e0b\u9762\u7684\u4f8b\u5b50\u4e2d\uff0c\u6211\u4eec\u5148\u5b58\u5165\u7528\u6237\u7684\u4e00\u6761\u504f\u597d\uff0c\u7136\u540e\u5728\u957f\u671f\u8bb0\u5fc6\u4e2d\u68c0\u7d22\u76f8\u5173\u4fe1\u606f\u3002\n\n\n"
      ]
    },
    {
      "cell_type": "code",
      "execution_count": null,
      "metadata": {
        "collapsed": false
      },
      "outputs": [],
      "source": [
        "# \u57fa\u672c\u4f7f\u7528\u793a\u4f8b\nasync def basic_usage():\n    \"\"\"\u57fa\u672c\u4f7f\u7528\u793a\u4f8b\"\"\"\n    # \u8bb0\u5f55\u8bb0\u5fc6\n    await long_term_memory.record([Msg(\"user\", \"\u6211\u559c\u6b22\u4f4f\u6c11\u5bbf\", \"user\")])\n\n    # \u68c0\u7d22\u8bb0\u5fc6\n    results = await long_term_memory.retrieve(\n        [Msg(\"user\", \"\u6211\u7684\u4f4f\u5bbf\u504f\u597d\", \"user\")],\n    )\n    print(f\"\u68c0\u7d22\u7ed3\u679c: {results}\")\n\n\nasyncio.run(basic_usage())"
      ]
    },
    {
      "cell_type": "markdown",
      "metadata": {},
      "source": [
        "### \u4e0e ReAct \u667a\u80fd\u4f53\u96c6\u6210\nAgentScope \u4e2d\u7684 ``ReActAgent`` \u5728\u6784\u9020\u51fd\u6570\u4e2d\u5305\u542b ``long_term_memory`` \u548c ``long_term_memory_mode`` \u4e24\u4e2a\u53c2\u6570\uff0c\n\u5176\u4e2d ``long_term_memory`` \u7528\u4e8e\u6307\u5b9a\u957f\u671f\u8bb0\u5fc6\u5b9e\u4f8b\uff0c``long_term_memory_mode`` \u7684\u53d6\u503c\u4e3a ``\"agent_control\"``, ``\"static_control\"`` \u6216 ``\"both\"``\u3002\n\n\u5f53 ``long_term_memory_mode`` \u8bbe\u7f6e\u4e3a ``\"agent_control\"`` \u6216 ``both`` \u65f6\uff0c\u5728 ``ReActAgent`` \u7684\u6784\u9020\u51fd\u6570\u4e2d\u5c06\n\u6ce8\u518c\u4e24\u4e2a\u5de5\u5177\u51fd\u6570\uff1a``record_to_memory`` \u548c ``retrieve_from_memory``\u3002\n\u4ece\u800c\u4f7f\u667a\u80fd\u4f53\u80fd\u591f\u81ea\u4e3b\u7684\u7ba1\u7406\u957f\u671f\u8bb0\u5fc6\u3002\n\n&lt;div class=\"alert alert-info\"&gt;&lt;h4&gt;Note&lt;/h4&gt;&lt;p&gt;\u4e3a\u4e86\u8fbe\u5230\u6700\u597d\u7684\u6548\u679c\uff0c``\"agent_control\"`` \u6a21\u5f0f\u53ef\u80fd\u8fd8\u9700\u8981\u5728\u7cfb\u7edf\u63d0\u793a\uff08system prompt\uff09\u4e2d\u6dfb\u52a0\u76f8\u5e94\u7684\u8bf4\u660e\u3002&lt;/p&gt;&lt;/div&gt;\n\n\n"
      ]
    },
    {
      "cell_type": "code",
      "execution_count": null,
      "metadata": {
        "collapsed": false
      },
      "outputs": [],
      "source": [
        "# \u521b\u5efa\u5e26\u6709\u957f\u671f\u8bb0\u5fc6\u7684 ReAct \u667a\u80fd\u4f53\nagent = ReActAgent(\n    name=\"Friday\",\n    sys_prompt=\"\u4f60\u662f\u4e00\u4e2a\u5177\u6709\u957f\u671f\u8bb0\u5fc6\u529f\u80fd\u7684\u52a9\u624b\u3002\",\n    model=DashScopeChatModel(\n        api_key=os.environ.get(\"DASHSCOPE_API_KEY\"),\n        model_name=\"qwen-max-latest\",\n    ),\n    formatter=DashScopeChatFormatter(),\n    toolkit=Toolkit(),\n    memory=InMemoryMemory(),\n    long_term_memory=long_term_memory,\n    long_term_memory_mode=\"static_control\",  # \u4f7f\u7528 static_control \u6a21\u5f0f\n)\n\n\nasync def record_preferences():\n    \"\"\"ReAct agent integration example\"\"\"\n    # \u5bf9\u8bdd\u793a\u4f8b\n    msg = Msg(\"user\", \"\u6211\u53bb\u676d\u5dde\u65c5\u884c\u65f6\uff0c\u559c\u6b22\u4f4f\u6c11\u5bbf\", \"user\")\n    await agent(msg)\n\n\nasyncio.run(record_preferences())"
      ]
    },
    {
      "cell_type": "markdown",
      "metadata": {},
      "source": [
        "\u7136\u540e\u6211\u4eec\u6e05\u7a7a\u667a\u80fd\u4f53\u7684\u77ed\u671f\u8bb0\u5fc6\uff0c\u4ee5\u907f\u514d\u9020\u6210\u5e72\u6270\uff0c\u5e76\u6d4b\u8bd5\u667a\u80fd\u4f53\u662f\u5426\u4f1a\u8bb0\u4f4f\u4e4b\u524d\u7684\u5bf9\u8bdd\u3002\n\n\n"
      ]
    },
    {
      "cell_type": "code",
      "execution_count": null,
      "metadata": {
        "collapsed": false
      },
      "outputs": [],
      "source": [
        "async def retrieve_preferences():\n    \"\"\"Retrieve user preferences from long-term memory\"\"\"\n    # \u6211\u4eec\u6e05\u7a7a\u667a\u80fd\u4f53\u7684\u77ed\u671f\u8bb0\u5fc6\uff0c\u4ee5\u907f\u514d\u9020\u6210\u5e72\u6270\n    await agent.memory.clear()\n\n    # \u6d4b\u8bd5\u667a\u80fd\u4f53\u662f\u5426\u4f1a\u8bb0\u4f4f\u4e4b\u524d\u7684\u5bf9\u8bdd\n    msg2 = Msg(\"user\", \"\u6211\u6709\u4ec0\u4e48\u504f\u597d\uff1f\u7b80\u8981\u7684\u56de\u7b54\u6211\", \"user\")\n    await agent(msg2)\n\n\nasyncio.run(retrieve_preferences())"
      ]
    },
    {
      "cell_type": "markdown",
      "metadata": {},
      "source": [
        "## \u81ea\u5b9a\u4e49\u957f\u671f\u8bb0\u5fc6\nAgentScope \u63d0\u4f9b\u4e86 ``LongTermMemoryBase`` \u57fa\u7c7b\uff0c\u5b83\u5b9a\u4e49\u4e86\u957f\u671f\u8bb0\u5fc6\u7684\u57fa\u672c\u63a5\u53e3\u3002\n\n\u5f00\u53d1\u8005\u53ef\u4ee5\u7ee7\u627f ``LongTermMemoryBase`` \u5e76\u5b9e\u73b0\u4ee5\u4e0b\u7684\u62bd\u8c61\u65b9\u6cd5\u6765\u5b9a\u4e49\u81ea\u5df1\u7684\u957f\u671f\u8bb0\u5fc6\u7c7b\uff1a\n\n.. list-table:: AgentScope \u4e2d\u7684\u957f\u671f\u8bb0\u5fc6\u7c7b\n    :header-rows: 1\n\n    * - \u7c7b\n      - \u62bd\u8c61\u65b9\u6cd5\n      - \u63cf\u8ff0\n    * - ``LongTermMemoryBase``\n      - | ``record``\n        | ``retrieve``\n        | ``record_to_memory``\n        | ``retrieve_from_memory``\n      - - \u5982\u679c\u60f3\u652f\u6301 \u201cstatic_control\u201d \u6a21\u5f0f\uff0c\u5fc5\u987b\u5b9e\u73b0 ``record`` \u548c ``retrieve`` \u65b9\u6cd5\u3002\n        - \u60f3\u8981\u652f\u6301 \u201cagent_control\u201d \u6a21\u5f0f\uff0c\u5fc5\u987b\u5b9e\u73b0 ``record_to_memory`` \u548c ``retrieve_from_memory`` \u65b9\u6cd5\u3002\n    * - ``Mem0LongTermMemory``\n      - \\-\n      - \u57fa\u4e8e mem0 \u5e93\u7684\u957f\u671f\u8bb0\u5fc6\u5b9e\u73b0\uff0c\u652f\u6301\u5411\u91cf\u5b58\u50a8\u548c\u68c0\u7d22\u3002\n\n\n## \u8fdb\u4e00\u6b65\u9605\u8bfb\n- `memory` - \u57fa\u7840\u8bb0\u5fc6\u7cfb\u7edf\n- `agent` - ReAct \u667a\u80fd\u4f53\n- `tool` - \u5de5\u5177\u7cfb\u7edf\n\n"
      ]
    }
  ],
  "metadata": {
    "kernelspec": {
      "display_name": "Python 3",
      "language": "python",
      "name": "python3"
    },
    "language_info": {
      "codemirror_mode": {
        "name": "ipython",
        "version": 3
      },
      "file_extension": ".py",
      "mimetype": "text/x-python",
      "name": "python",
      "nbconvert_exporter": "python",
      "pygments_lexer": "ipython3",
      "version": "3.10.18"
    }
  },
  "nbformat": 4,
  "nbformat_minor": 0
}</pre><div class="json-formatter-container"></div>