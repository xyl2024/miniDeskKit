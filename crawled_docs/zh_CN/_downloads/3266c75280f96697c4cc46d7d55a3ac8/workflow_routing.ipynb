<!-- Title:  -->
<!-- URL: https://doc.agentscope.io/zh_CN/_downloads/3266c75280f96697c4cc46d7d55a3ac8/workflow_routing.ipynb -->
<pre>{
  "cells": [
    {
      "cell_type": "markdown",
      "metadata": {},
      "source": [
        "\n\n# Routing\n\u5728 AgentScope \u4e2d\u6709\u4e24\u79cd\u5b9e\u73b0 Routing \u7684\u65b9\u6cd5\uff0c\u90fd\u7b80\u5355\u6613\u5b9e\u73b0\uff1a\n\n- \u4f7f\u7528\u7ed3\u6784\u5316\u8f93\u51fa\u7684\u663e\u5f0f routing\n- \u4f7f\u7528\u5de5\u5177\u8c03\u7528\u7684\u9690\u5f0f routing\n\n.. tip:: \u8003\u8651\u5230\u667a\u80fd\u4f53 routing \u6ca1\u6709\u7edf\u4e00\u7684\u6807\u51c6/\u5b9a\u4e49\uff0c\u6211\u4eec\u9075\u5faa [Building effective agents](https://www.anthropic.com/engineering/building-effective-agents) \u4e2d\u7684\u8bbe\u7f6e\n\n## \u663e\u5f0f Routing\n\u5728\u663e\u5f0f routing \u4e2d\uff0c\u6211\u4eec\u53ef\u4ee5\u76f4\u63a5\u4f7f\u7528\u667a\u80fd\u4f53\u7684\u7ed3\u6784\u5316\u8f93\u51fa\u6765\u786e\u5b9a\u5c06\u6d88\u606f\u8def\u7531\u5230\u54ea\u4e2a\u667a\u80fd\u4f53\u3002\n\n\u521d\u59cb\u5316 routing \u667a\u80fd\u4f53\n"
      ]
    },
    {
      "cell_type": "code",
      "execution_count": null,
      "metadata": {
        "collapsed": false
      },
      "outputs": [],
      "source": [
        "import asyncio\nimport json\nimport os\nfrom typing import Literal\n\nfrom pydantic import BaseModel, Field\n\nfrom agentscope.agent import ReActAgent\nfrom agentscope.formatter import DashScopeChatFormatter\nfrom agentscope.memory import InMemoryMemory\nfrom agentscope.message import Msg\nfrom agentscope.model import DashScopeChatModel\nfrom agentscope.tool import Toolkit, ToolResponse\n\nrouter = ReActAgent(\n    name=\"Router\",\n    sys_prompt=\"\u4f60\u662f\u4e00\u4e2a\u8def\u7531\u667a\u80fd\u4f53\u3002\u4f60\u7684\u76ee\u6807\u662f\u5c06\u7528\u6237\u67e5\u8be2\u8def\u7531\u5230\u6b63\u786e\u7684\u540e\u7eed\u4efb\u52a1\uff0c\u6ce8\u610f\u4f60\u4e0d\u9700\u8981\u56de\u7b54\u7528\u6237\u7684\u95ee\u9898\u3002\",\n    model=DashScopeChatModel(\n        model_name=\"qwen-max\",\n        api_key=os.environ[\"DASHSCOPE_API_KEY\"],\n        stream=False,\n    ),\n    formatter=DashScopeChatFormatter(),\n)\n\n\n# \u4f7f\u7528\u7ed3\u6784\u5316\u8f93\u51fa\u6307\u5b9a\u8def\u7531\u4efb\u52a1\nclass RoutingChoice(BaseModel):\n    your_choice: Literal[\n        \"Content Generation\",\n        \"Programming\",\n        \"Information Retrieval\",\n        None,\n    ] = Field(\n        description=\"\u9009\u62e9\u6b63\u786e\u7684\u540e\u7eed\u4efb\u52a1\uff0c\u5982\u679c\u4efb\u52a1\u592a\u7b80\u5355\u6216\u6ca1\u6709\u5408\u9002\u7684\u4efb\u52a1\uff0c\u5219\u9009\u62e9 ``None``\",\n    )\n    task_description: str | None = Field(\n        description=\"\u4efb\u52a1\u63cf\u8ff0\",\n        default=None,\n    )\n\n\nasync def example_router_explicit() -&gt; None:\n    \"\"\"\u4f7f\u7528\u7ed3\u6784\u5316\u8f93\u51fa\u8fdb\u884c\u663e\u5f0f\u8def\u7531\u7684\u793a\u4f8b\u3002\"\"\"\n    msg_user = Msg(\n        \"user\",\n        \"\u5e2e\u6211\u5199\u4e00\u9996\u8bd7\",\n        \"user\",\n    )\n\n    # \u8def\u7531\u67e5\u8be2\n    msg_res = await router(\n        msg_user,\n        structured_model=RoutingChoice,\n    )\n\n    # \u7ed3\u6784\u5316\u8f93\u51fa\u5b58\u50a8\u5728 metadata \u5b57\u6bb5\u4e2d\n    print(\"\u7ed3\u6784\u5316\u8f93\u51fa\uff1a\")\n    print(json.dumps(msg_res.metadata, indent=4, ensure_ascii=False))\n\n\nasyncio.run(example_router_explicit())"
      ]
    },
    {
      "cell_type": "markdown",
      "metadata": {},
      "source": [
        "## \u9690\u5f0f Routing\n\u53e6\u4e00\u79cd\u65b9\u6cd5\u662f\u5c06\u4e0b\u6e38\u667a\u80fd\u4f53\u5305\u88c5\u6210\u5de5\u5177\u51fd\u6570\uff0c\u8fd9\u6837\u8def\u7531\u667a\u80fd\u4f53\u5c31\u53ef\u4ee5\u6839\u636e\u7528\u6237\u67e5\u8be2\u51b3\u5b9a\u8c03\u7528\u54ea\u4e2a\u5de5\u5177\u3002\n\n\u6211\u4eec\u9996\u5148\u5b9a\u4e49\u51e0\u4e2a\u5de5\u5177\u51fd\u6570\uff1a\n\n\n"
      ]
    },
    {
      "cell_type": "code",
      "execution_count": null,
      "metadata": {
        "collapsed": false
      },
      "outputs": [],
      "source": [
        "async def generate_python(demand: str) -&gt; ToolResponse:\n    \"\"\"\u6839\u636e\u9700\u6c42\u751f\u6210 Python \u4ee3\u7801\u3002\n\n    Args:\n        demand (``str``):\n            \u5bf9 Python \u4ee3\u7801\u7684\u9700\u6c42\u3002\n    \"\"\"\n    # \u793a\u4f8b\u9700\u6c42\u667a\u80fd\u4f53\n    python_agent = ReActAgent(\n        name=\"PythonAgent\",\n        sys_prompt=\"\u4f60\u662f\u4e00\u4e2a Python \u4e13\u5bb6\uff0c\u4f60\u7684\u76ee\u6807\u662f\u6839\u636e\u9700\u6c42\u751f\u6210 Python \u4ee3\u7801\u3002\",\n        model=DashScopeChatModel(\n            model_name=\"qwen-max\",\n            api_key=os.environ[\"DASHSCOPE_API_KEY\"],\n            stream=False,\n        ),\n        memory=InMemoryMemory(),\n        formatter=DashScopeChatFormatter(),\n        toolkit=Toolkit(),\n    )\n    msg_res = await python_agent(Msg(\"user\", demand, \"user\"))\n\n    return ToolResponse(\n        content=msg_res.get_content_blocks(\"text\"),\n    )\n\n\n# \u4e3a\u6f14\u793a\u76ee\u7684\u6a21\u62df\u4e00\u4e9b\u5176\u4ed6\u5de5\u5177\u51fd\u6570\nasync def generate_poem(demand: str) -&gt; ToolResponse:\n    \"\"\"\u6839\u636e\u9700\u6c42\u751f\u6210\u8bd7\u6b4c\u3002\n\n    Args:\n        demand (``str``):\n            \u5bf9\u8bd7\u6b4c\u7684\u9700\u6c42\u3002\n    \"\"\"\n    pass\n\n\nasync def web_search(query: str) -&gt; ToolResponse:\n    \"\"\"\u5728\u7f51\u7edc\u4e0a\u641c\u7d22\u67e5\u8be2\u3002\n\n    Args:\n        query (``str``):\n            \u8981\u641c\u7d22\u7684\u67e5\u8be2\u3002\n    \"\"\"\n    pass"
      ]
    },
    {
      "cell_type": "markdown",
      "metadata": {},
      "source": [
        "\u4e4b\u540e\uff0c\u6211\u4eec\u5b9a\u4e49\u4e00\u4e2a\u8def\u7531\u667a\u80fd\u4f53\u5e76\u4e3a\u5176\u914d\u5907\u4e0a\u8ff0\u5de5\u5177\u51fd\u6570\u3002\n\n\n"
      ]
    },
    {
      "cell_type": "code",
      "execution_count": null,
      "metadata": {
        "collapsed": false
      },
      "outputs": [],
      "source": [
        "toolkit = Toolkit()\ntoolkit.register_tool_function(generate_python)\ntoolkit.register_tool_function(generate_poem)\ntoolkit.register_tool_function(web_search)\n\n# \u4f7f\u7528\u5de5\u5177\u6a21\u5757\u521d\u59cb\u5316\u8def\u7531\u667a\u80fd\u4f53\nrouter_implicit = ReActAgent(\n    name=\"Router\",\n    sys_prompt=\"\u4f60\u662f\u4e00\u4e2a\u8def\u7531\u667a\u80fd\u4f53\u3002\u4f60\u7684\u76ee\u6807\u662f\u5c06\u7528\u6237\u67e5\u8be2\u8def\u7531\u5230\u6b63\u786e\u7684\u540e\u7eed\u4efb\u52a1\u3002\",\n    model=DashScopeChatModel(\n        model_name=\"qwen-max\",\n        api_key=os.environ[\"DASHSCOPE_API_KEY\"],\n        stream=False,\n    ),\n    formatter=DashScopeChatFormatter(),\n    toolkit=toolkit,\n    memory=InMemoryMemory(),\n)\n\n\nasync def example_router_implicit() -&gt; None:\n    \"\"\"\u4f7f\u7528\u5de5\u5177\u8c03\u7528\u8fdb\u884c\u9690\u5f0f\u8def\u7531\u7684\u793a\u4f8b\u3002\"\"\"\n    msg_user = Msg(\n        \"user\",\n        \"\u5e2e\u6211\u5728 Python \u4e2d\u751f\u6210\u4e00\u4e2a\u5feb\u901f\u6392\u5e8f\u51fd\u6570\",\n        \"user\",\n    )\n\n    # \u8def\u7531\u67e5\u8be2\n    await router_implicit(msg_user)\n\n\nasyncio.run(example_router_implicit())"
      ]
    }
  ],
  "metadata": {
    "kernelspec": {
      "display_name": "Python 3",
      "language": "python",
      "name": "python3"
    },
    "language_info": {
      "codemirror_mode": {
        "name": "ipython",
        "version": 3
      },
      "file_extension": ".py",
      "mimetype": "text/x-python",
      "name": "python",
      "nbconvert_exporter": "python",
      "pygments_lexer": "ipython3",
      "version": "3.10.18"
    }
  },
  "nbformat": 4,
  "nbformat_minor": 0
}</pre><div class="json-formatter-container"></div>