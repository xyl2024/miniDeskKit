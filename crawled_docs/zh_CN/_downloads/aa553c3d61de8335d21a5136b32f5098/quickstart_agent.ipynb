<!-- Title:  -->
<!-- URL: https://doc.agentscope.io/zh_CN/_downloads/aa553c3d61de8335d21a5136b32f5098/quickstart_agent.ipynb -->
<pre>{
  "cells": [
    {
      "cell_type": "markdown",
      "metadata": {},
      "source": [
        "\n\n# \u521b\u5efa ReAct \u667a\u80fd\u4f53\n\nAgentScope \u5728 ``agentscope.agent`` \u6a21\u5757\u4e0b\u63d0\u4f9b\u4e86\u5f00\u7bb1\u5373\u7528\u7684 ReAct \u667a\u80fd\u4f53 ``ReActAgent`` \u4f9b\u5f00\u53d1\u8005\u4f7f\u7528\u3002\n\n\u5b83\u540c\u65f6\u652f\u6301\u4ee5\u4e0b\u529f\u80fd\uff1a\n\n- \u2728 \u57fa\u7840\u529f\u80fd\n    - \u652f\u6301\u56f4\u7ed5 ``reply``\u3001``observe``\u3001``print``\u3001``_reasoning`` \u548c ``_acting`` \u7684 **\u94a9\u5b50\u51fd\u6570\uff08hooks\uff09**\n    - \u652f\u6301\u7ed3\u6784\u5316\u8f93\u51fa\n- \u270b \u5b9e\u65f6\u4ecb\u5165\uff08Realtime Steering\uff09\n    - \u652f\u6301\u7528\u6237 **\u4e2d\u65ad**\n    - \u652f\u6301\u81ea\u5b9a\u4e49 **\u4e2d\u65ad\u5904\u7406**\n- \ud83d\udee0\ufe0f \u5de5\u5177\n    - \u652f\u6301 **\u540c\u6b65/\u5f02\u6b65** \u5de5\u5177\u51fd\u6570\n    - \u652f\u6301 **\u6d41\u5f0f** \u5de5\u5177\u54cd\u5e94\n    - \u652f\u6301 **\u72b6\u6001\u5316** \u7684\u5de5\u5177\u7ba1\u7406\n    - \u652f\u6301 **\u5e76\u884c** \u5de5\u5177\u8c03\u7528\n    - \u652f\u6301 **MCP** \u670d\u52a1\u5668\n- \ud83d\udcbe \u8bb0\u5fc6\n    - \u652f\u6301\u667a\u80fd\u4f53 **\u81ea\u4e3b\u7ba1\u7406** \u957f\u671f\u8bb0\u5fc6\n    - \u652f\u6301\u201c\u9759\u6001\u201d\u7684\u957f\u671f\u8bb0\u5fc6\u7ba1\u7406\n\n.. tip:: \u6709\u5173\u8fd9\u4e9b\u529f\u80fd\u7684\u66f4\u591a\u8be6\u7ec6\u4fe1\u606f\uff0c\u8bf7\u53c2\u8003 `agent` \u90e8\u5206\u3002\u672c\u7ae0\u8282\u4e2d\uff0c\u6211\u4eec\u91cd\u70b9\u4ecb\u7ecd\u5982\u4f55\u521b\u5efa ReAct \u667a\u80fd\u4f53\u5e76\u8fd0\u884c\u3002\n"
      ]
    },
    {
      "cell_type": "code",
      "execution_count": null,
      "metadata": {
        "collapsed": false
      },
      "outputs": [],
      "source": [
        "from agentscope.agent import ReActAgent, AgentBase\nfrom agentscope.formatter import DashScopeChatFormatter\nfrom agentscope.memory import InMemoryMemory\nfrom agentscope.message import Msg\nfrom agentscope.model import DashScopeChatModel\nimport asyncio\nimport os\n\nfrom agentscope.tool import Toolkit, execute_python_code"
      ]
    },
    {
      "cell_type": "markdown",
      "metadata": {},
      "source": [
        "## \u521b\u5efa ReAct \u667a\u80fd\u4f53\n\u4e3a\u4e86\u63d0\u9ad8\u7075\u6d3b\u6027\uff0c``ReActAgent`` \u7c7b\u5728\u5176\u6784\u9020\u51fd\u6570\u4e2d\u66b4\u9732\u4e86\u4ee5\u4e0b\u53c2\u6570\uff1a\n\n.. list-table:: ``ReActAgent`` \u7c7b\u7684\u521d\u59cb\u5316\u53c2\u6570\n  :header-rows: 1\n\n  * - \u53c2\u6570\n    - \u8fdb\u4e00\u6b65\u9605\u8bfb\n    - \u63cf\u8ff0\n  * - ``name`` (\u5fc5\u9700)\n    -\n    - \u667a\u80fd\u4f53\u7684\u540d\u79f0\n  * - ``sys_prompt`` (\u5fc5\u9700)\n    -\n    - \u667a\u80fd\u4f53\u7684\u7cfb\u7edf\u63d0\u793a\n  * - ``model`` (\u5fc5\u9700)\n    - `model`\n    - \u667a\u80fd\u4f53\u7528\u4e8e\u751f\u6210\u54cd\u5e94\u7684\u6a21\u578b\n  * - ``formatter`` (\u5fc5\u9700)\n    - `prompt`\n    - \u63d0\u793a\u6784\u5efa\u7b56\u7565\uff0c\u5e94\u4e0e\u4f7f\u7528\u7684\u6a21\u578b\u4fdd\u6301\u4e00\u81f4\n  * - ``toolkit``\n    - `tool`\n    - \u7528\u4e8e\u6ce8\u518c/\u8c03\u7528\u5de5\u5177\u51fd\u6570\u7684\u5de5\u5177\u6a21\u5757\n  * - ``memory``\n    - `memory`\n    - \u7528\u4e8e\u5b58\u50a8\u5bf9\u8bdd\u5386\u53f2\u7684\u77ed\u671f\u8bb0\u5fc6\n  * - ``long_term_memory``\n    - `long-term-memory`\n    - \u957f\u671f\u8bb0\u5fc6\n  * - ``long_term_memory_mode``\n    - `long-term-memory`\n    - \u957f\u671f\u8bb0\u5fc6\u7684\u7ba1\u7406\u6a21\u5f0f\uff1a\n\n      - ``agent_control``: \u5141\u8bb8\u667a\u80fd\u4f53\u901a\u8fc7\u5de5\u5177\u51fd\u6570\u81ea\u5df1\u63a7\u5236\u957f\u671f\u8bb0\u5fc6\n      - ``static_control``: \u5728\u6bcf\u6b21\u56de\u590d\uff08reply\uff09\u7684\u5f00\u59cb/\u7ed3\u675f\u65f6\uff0c\u4f1a\u81ea\u52a8\u4ece\u957f\u671f\u8bb0\u5fc6\u4e2d\u68c0\u7d22/\u8bb0\u5f55\u4fe1\u606f\n      - ``both``: \u540c\u65f6\u6fc0\u6d3b\u4e0a\u8ff0\u4e24\u79cd\u6a21\u5f0f\n  * - ``enable_meta_tool``\n    - `tool`\n    - \u662f\u5426\u542f\u7528\u5143\u5de5\u5177\uff08Meta tool\uff09\uff0c\u5373\u5141\u8bb8\u667a\u80fd\u4f53\u81ea\u4e3b\u7ba1\u7406\u5de5\u5177\u51fd\u6570\n  * - ``parallel_tool_calls``\n    - `agent`\n    - \u662f\u5426\u5141\u8bb8\u5e76\u884c\u5de5\u5177\u8c03\u7528\n  * - ``max_iters``\n    -\n    - \u667a\u80fd\u4f53\u751f\u6210\u54cd\u5e94\u7684\u6700\u5927\u8fed\u4ee3\u6b21\u6570\n  * - ``plan_notebook``\n    - `plan`\n    - \u8ba1\u5212\u6a21\u5757\uff0c\u5141\u8bb8\u667a\u80fd\u4f53\u5236\u5b9a\u548c\u7ba1\u7406\u8ba1\u5212\u4e0e\u5b50\u4efb\u52a1\n  * - ``print_hint_msg``\n    -\n    - \u662f\u5426\u5728\u7ec8\u7aef\u6253\u5370 ``plan_notebook`` \u751f\u6210\u7684\u63d0\u793a\u6d88\u606f\n\n\u4ee5 DashScope API \u4e3a\u4f8b\uff0c\u6211\u4eec\u521b\u5efa\u4e00\u4e2a\u667a\u80fd\u4f53\u5bf9\u8c61\u5982\u4e0b\uff1a\n\n"
      ]
    },
    {
      "cell_type": "code",
      "execution_count": null,
      "metadata": {
        "collapsed": false
      },
      "outputs": [],
      "source": [
        "async def creating_react_agent() -&gt; None:\n    \"\"\"\u521b\u5efa\u4e00\u4e2a ReAct \u667a\u80fd\u4f53\u5e76\u8fd0\u884c\u4e00\u4e2a\u7b80\u5355\u4efb\u52a1\u3002\"\"\"\n    # \u51c6\u5907\u5de5\u5177\n    toolkit = Toolkit()\n    toolkit.register_tool_function(execute_python_code)\n\n    jarvis = ReActAgent(\n        name=\"Jarvis\",\n        sys_prompt=\"\u4f60\u662f\u4e00\u4e2a\u540d\u4e3a Jarvis \u7684\u52a9\u624b\",\n        model=DashScopeChatModel(\n            model_name=\"qwen-max\",\n            api_key=os.environ[\"DASHSCOPE_API_KEY\"],\n            stream=True,\n            enable_thinking=False,\n        ),\n        formatter=DashScopeChatFormatter(),\n        toolkit=toolkit,\n        memory=InMemoryMemory(),\n    )\n\n    msg = Msg(\n        name=\"user\",\n        content=\"\u4f60\u597d\uff01Jarvis\uff0c\u7528 Python \u8fd0\u884c Hello World\u3002\",\n        role=\"user\",\n    )\n\n    await jarvis(msg)\n\n\nasyncio.run(creating_react_agent())"
      ]
    },
    {
      "cell_type": "markdown",
      "metadata": {},
      "source": [
        "## \u4ece\u96f6\u5f00\u59cb\u521b\u5efa\n\u4e3a\u4e86\u652f\u6301\u5f00\u53d1\u8005\u4ece\u96f6\u5f00\u59cb\u521b\u5efa\u667a\u80fd\u4f53\uff0cAgentScope \u63d0\u4f9b\u4e86\u4e24\u4e2a\u57fa\u7c7b\uff1a\n\n.. list-table::\n  :header-rows: 1\n\n  * - \u7c7b\n    - \u62bd\u8c61\u65b9\u6cd5\n    - \u63cf\u8ff0\n  * - ``AgentBase``\n    - | ``reply``\n      | ``observe``\n      | ``handle_interrupt``\n    - - \u6240\u6709\u667a\u80fd\u4f53\u7684\u57fa\u7c7b\uff0c\u652f\u6301 ``reply``\u3001``observe`` \u548c ``print`` \u51fd\u6570\u7684\u524d\u7f6e\u548c\u540e\u7f6e\u94a9\u5b50\u51fd\u6570\u3002\n      - \u5728 ``__call__`` \u51fd\u6570\u5185\u5b9e\u73b0\u4e86\u57fa\u7840\u7684\u5b9e\u65f6\u4ecb\u5165\uff08Realtime Steering\uff09\u903b\u8f91\u3002\n  * - ``ReActAgentBase``\n    - | ``reply``\n      | ``observe``\n      | ``handle_interrupt``\n      | ``_reasoning``\n      | ``_acting``\n    - \u5728 ``AgentBase`` \u7684\u57fa\u7840\u4e0a\u6dfb\u52a0\u4e86\u4e24\u4e2a\u62bd\u8c61\u51fd\u6570 ``_reasoning`` \u548c ``_acting``\uff0c\u4ee5\u53ca\u5b83\u4eec\u7684\u94a9\u5b50\u51fd\u6570\u3002\n\n\u6709\u5173\u667a\u80fd\u4f53\u7c7b\u7684\u66f4\u591a\u8be6\u7ec6\u4fe1\u606f\uff0c\u8bf7\u53c2\u8003 `agent` \u90e8\u5206\u3002\n\n\u4ee5 ``AgentBase`` \u7c7b\u4e3a\u4f8b\uff0c\u6211\u4eec\u53ef\u4ee5\u901a\u8fc7\u7ee7\u627f\u5b83\u5e76\u5b9e\u73b0 ``reply`` \u65b9\u6cd5\u6765\u521b\u5efa\u81ea\u5b9a\u4e49\u667a\u80fd\u4f53\u7c7b\u3002\n\n"
      ]
    },
    {
      "cell_type": "code",
      "execution_count": null,
      "metadata": {
        "collapsed": false
      },
      "outputs": [],
      "source": [
        "class MyAgent(AgentBase):\n    \"\"\"\u81ea\u5b9a\u4e49\u667a\u80fd\u4f53\u7c7b\"\"\"\n\n    def __init__(self) -&gt; None:\n        \"\"\"\u521d\u59cb\u5316\u667a\u80fd\u4f53\"\"\"\n        super().__init__()\n\n        self.name = \"Friday\"\n        self.sys_prompt = \"\u4f60\u662f\u4e00\u4e2a\u540d\u4e3a Friday \u7684\u52a9\u624b\u3002\"\n        self.model = DashScopeChatModel(\n            model_name=\"qwen-max\",\n            api_key=os.environ[\"DASHSCOPE_API_KEY\"],\n            stream=False,\n        )\n        self.formatter = DashScopeChatFormatter()\n        self.memory = InMemoryMemory()\n\n    async def reply(self, msg: Msg | list[Msg] | None) -&gt; Msg:\n        \"\"\"\u76f4\u63a5\u8c03\u7528\u5927\u6a21\u578b\uff0c\u4ea7\u751f\u56de\u590d\u6d88\u606f\u3002\"\"\"\n        await self.memory.add(msg)\n\n        # \u51c6\u5907\u63d0\u793a\n        prompt = await self.formatter.format(\n            [\n                Msg(\"system\", self.sys_prompt, \"system\"),\n                *await self.memory.get_memory(),\n            ],\n        )\n\n        # \u8c03\u7528\u6a21\u578b\n        response = await self.model(prompt)\n\n        msg = Msg(\n            name=self.name,\n            content=response.content,\n            role=\"assistant\",\n        )\n\n        # \u5728\u8bb0\u5fc6\u4e2d\u8bb0\u5f55\u54cd\u5e94\n        await self.memory.add(msg)\n\n        # \u6253\u5370\u6d88\u606f\n        await self.print(msg)\n        return msg\n\n    async def observe(self, msg: Msg | list[Msg] | None) -&gt; None:\n        \"\"\"\u89c2\u5bdf\u6d88\u606f\u3002\"\"\"\n        # \u5c06\u6d88\u606f\u5b58\u50a8\u5728\u8bb0\u5fc6\u4e2d\n        await self.memory.add(msg)\n\n    async def handle_interrupt(self) -&gt; Msg:\n        \"\"\"\u5904\u7406\u4e2d\u65ad\u3002\"\"\"\n        # \u4ee5\u56fa\u5b9a\u54cd\u5e94\u4e3a\u4f8b\n        return Msg(\n            name=self.name,\n            content=\"\u6211\u6ce8\u610f\u5230\u60a8\u6253\u65ad\u4e86\u6211\u7684\u56de\u590d\uff0c\u6211\u80fd\u4e3a\u4f60\u505a\u4e9b\u4ec0\u4e48\uff1f\",\n            role=\"assistant\",\n        )\n\n\nasync def run_custom_agent() -&gt; None:\n    \"\"\"\u8fd0\u884c\u81ea\u5b9a\u4e49\u667a\u80fd\u4f53\u3002\"\"\"\n    agent = MyAgent()\n    msg = Msg(\n        name=\"user\",\n        content=\"\u4f60\u662f\u8c01\uff1f\",\n        role=\"user\",\n    )\n    await agent(msg)\n\n\nasyncio.run(run_custom_agent())"
      ]
    },
    {
      "cell_type": "markdown",
      "metadata": {},
      "source": [
        "## \u8fdb\u4e00\u6b65\u9605\u8bfb\n- `agent`\n- `model`\n- `prompt`\n- `tool`\n\n\n"
      ]
    }
  ],
  "metadata": {
    "kernelspec": {
      "display_name": "Python 3",
      "language": "python",
      "name": "python3"
    },
    "language_info": {
      "codemirror_mode": {
        "name": "ipython",
        "version": 3
      },
      "file_extension": ".py",
      "mimetype": "text/x-python",
      "name": "python",
      "nbconvert_exporter": "python",
      "pygments_lexer": "ipython3",
      "version": "3.10.18"
    }
  },
  "nbformat": 4,
  "nbformat_minor": 0
}</pre><div class="json-formatter-container"></div>