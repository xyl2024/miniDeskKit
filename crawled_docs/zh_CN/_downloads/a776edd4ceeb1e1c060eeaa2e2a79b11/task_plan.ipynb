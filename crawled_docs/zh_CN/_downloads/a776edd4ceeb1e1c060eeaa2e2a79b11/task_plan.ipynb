<!-- Title:  -->
<!-- URL: https://doc.agentscope.io/zh_CN/_downloads/a776edd4ceeb1e1c060eeaa2e2a79b11/task_plan.ipynb -->
<pre>{
  "cells": [
    {
      "cell_type": "markdown",
      "metadata": {},
      "source": [
        "\n\n# \u8ba1\u5212\n\nAgentScope \u4e2d\u7684\u8ba1\u5212\uff08Plan\uff09\u6a21\u5757\u4f7f\u667a\u80fd\u4f53\u80fd\u591f\u6b63\u5f0f\u5730\u5c06\u590d\u6742\u4efb\u52a1\u5206\u89e3\u4e3a\u53ef\u7ba1\u7406\u7684\u5b50\u4efb\u52a1\u5e76\u7cfb\u7edf\u5730\u6267\u884c\u5b83\u4eec\u3002\u4e3b\u8981\u529f\u80fd\u5305\u62ec\uff1a\n\n- \u652f\u6301 **\u624b\u52a8\u8ba1\u5212\u89c4\u8303**\n- \u5168\u9762\u7684\u8ba1\u5212\u7ba1\u7406\u529f\u80fd\uff1a\n   - **\u521b\u5efa\u3001\u4fee\u6539\u3001\u653e\u5f03\u548c\u6062\u590d** \u8ba1\u5212\n   - \u5728\u591a\u4e2a\u8ba1\u5212\u4e4b\u95f4 **\u5207\u6362**\n   - \u901a\u8fc7\u4e34\u65f6\u6682\u505c\u8ba1\u5212\u6765\u5904\u7406\u7528\u6237\u67e5\u8be2\u6216\u7d27\u6025\u4efb\u52a1\uff0c**\u4f18\u96c5\u5730\u5904\u7406\u4e2d\u65ad**\n- \u8ba1\u5212\u6267\u884c\u7684 **\u5b9e\u65f6\u53ef\u89c6\u5316\u548c\u76d1\u63a7**\n\n&lt;div class=\"alert alert-info\"&gt;&lt;h4&gt;Note&lt;/h4&gt;&lt;p&gt;\u5f53\u524d\u8ba1\u5212\u6a21\u5757\u4ec5\u652f\u6301\u5b50\u4efb\u52a1\u6309\u7167\u987a\u5e8f\u6267\u884c\u3002&lt;/p&gt;&lt;/div&gt;\n\n\n\u5177\u4f53\u6765\u8bf4\uff0c\u8ba1\u5212\u6a21\u5757\u7684\u5de5\u4f5c\u539f\u7406\u662f\n\n- \u63d0\u4f9b\u8ba1\u5212\u7ba1\u7406\u7684\u5de5\u5177\u51fd\u6570\n- \u63d2\u5165\u63d0\u793a\u6d88\u606f\u6765\u6307\u5bfcReAct\u667a\u80fd\u4f53\u5b8c\u6210\u8ba1\u5212\n\n\u4e0b\u56fe\u8bf4\u660e\u4e86\u8ba1\u5212\u6a21\u5757\u5982\u4f55\u4e0eReAct\u667a\u80fd\u4f53\u534f\u4f5c\uff1a\n\n.. figure:: ../../_static/images/plan.png\n    :width: 90%\n    :alt: \u8ba1\u5212\u6a21\u5757\n    :class: bordered-image\n    :align: center\n\n    \u8ba1\u5212\u6a21\u5757\u5982\u4f55\u4e0eReAct\u667a\u80fd\u4f53\u534f\u4f5c\n"
      ]
    },
    {
      "cell_type": "code",
      "execution_count": null,
      "metadata": {
        "collapsed": false
      },
      "outputs": [],
      "source": [
        "import asyncio\nimport os\n\nfrom agentscope.agent import ReActAgent\nfrom agentscope.formatter import DashScopeChatFormatter\nfrom agentscope.model import DashScopeChatModel\nfrom agentscope.plan import PlanNotebook, Plan, SubTask"
      ]
    },
    {
      "cell_type": "markdown",
      "metadata": {},
      "source": [
        "## PlanNotebook\n\n``PlanNotebook`` \u7c7b\u662f\u8ba1\u5212\u6a21\u5757\u7684\u6838\u5fc3\uff0c\u8d1f\u8d23\u63d0\u4f9b\n\n- \u7ba1\u7406\u8ba1\u5212\uff0c\u5b50\u4efb\u52a1\u7684\u5de5\u5177\u51fd\u6570\n- \u63d0\u4f9b\u7528\u4e8e\u201c\u5f15\u5bfc\u667a\u80fd\u4f53\u6b63\u786e\u5b8c\u6210\u4efb\u52a1\u201d\u7684\u63d0\u793a\u6d88\u606f\uff08Hint message\uff09\n\n``PlanNotebook`` \u7c7b\u4f7f\u7528\u4ee5\u4e0b\u53c2\u6570\u5b9e\u4f8b\u5316\uff1a\n\n.. list-table:: ``PlanNotebook`` \u6784\u9020\u51fd\u6570\u7684\u53c2\u6570\n  :header-rows: 1\n\n  * - \u540d\u79f0\n    - \u7c7b\u578b\n    - \u63cf\u8ff0\n  * - ``max_subtasks``\n    - ``int | None``\n    - \u8ba1\u5212\u4e2d\u5141\u8bb8\u7684\u5b50\u4efb\u52a1\u6700\u5927\u6570\u91cf\uff0c\u5982\u679c\u4e3a ``None`` \u5219\u65e0\u9650\u5236\n  * - ``plan_to_hint``\n    - ``Callable[[Plan | None], str | None] | None``\n    - \u57fa\u4e8e\u5f53\u524d\u8ba1\u5212\u7684\u5b8c\u6210\u60c5\u51b5\uff0c\u751f\u6210\u5bf9\u5e94\u63d0\u793a\u6d88\u606f\u7684\u51fd\u6570\u3002\u5982\u679c\u672a\u63d0\u4f9b\uff0c\u5c06\u4f7f\u7528\u9ed8\u8ba4\u7684 ``DefaultPlanToHint`` \u5bf9\u8c61\u3002\n  * - ``storage``\n    - ``PlanStorageBase | None``\n    - \u8ba1\u5212\u7684\u5b58\u50a8\u6a21\u5757\uff0c\u7528\u4e8e\u6062\u590d\uff0c\u4fdd\u5b58\u5386\u53f2\u8ba1\u5212\u3002\u5982\u679c\u672a\u63d0\u4f9b\uff0c\u5c06\u4f7f\u7528\u9ed8\u8ba4\u7684\u5185\u5b58\uff08In-memory\uff09\u5b58\u50a8\u3002\n\n``plan_to_hint`` \u53c2\u6570\u662f ``PlanNotebook`` \u7c7b\u7684\u6838\u5fc3\u53c2\u6570\uff0c\u4e5f\u662f\u5f00\u53d1\u8005\u8fdb\u884c\u63d0\u793a\u5de5\u7a0b\u7684\u63a5\u53e3\u3002\n\u4f5c\u4e3a\u53ef\u8c03\u7528\u5bf9\u8c61\uff0c\u63a5\u53d7\u5f53\u524d\u8ba1\u5212\u4f5c\u4e3a\u8f93\u5165\uff0c\u5e76\u8fd4\u56de\u4e00\u4e2a\u5b57\u7b26\u4e32\u7c7b\u578b\u7684\u63d0\u793a\u6d88\u606f\u3002\nAgentScope \u6784\u5efa\u4e86\u4e00\u4e2a\u9ed8\u8ba4\u7684 ``DefaultPlanToHint`` \u7c7b\uff0c\u53ef\u4ee5\u76f4\u63a5\u4f7f\u7528\uff0c\u540c\u65f6\u6211\u4eec\u9f13\u52b1\u5f00\u53d1\u8005\u63d0\u4f9b\u81ea\u5df1\u7684 ``plan_to_hint`` \u51fd\u6570\u4ee5\u83b7\u5f97\u66f4\u597d\u7684\u6027\u80fd\u3002\n\n``storage`` \u7528\u4e8e\u5b58\u50a8\u5386\u53f2\u8ba1\u5212\uff0c\u5141\u8bb8\u667a\u80fd\u4f53\u68c0\u7d22\u548c\u6062\u590d\u5386\u53f2\u8ba1\u5212\u3002\n\u6211\u4eec\u540c\u6837\u9f13\u52b1\u5f00\u53d1\u8005\u901a\u8fc7\u7ee7\u627f ``PlanStorageBase`` \u7c7b\u6765\u5b9e\u73b0\u81ea\u5df1\u7684\u8ba1\u5212\u5b58\u50a8\u3002\u5982\u679c\u672a\u63d0\u4f9b\uff0c\u5c06\u4f7f\u7528\u9ed8\u8ba4\u7684\u5185\u5b58\u5b58\u50a8\u3002\n\n.. tip:: ``PlanStorageBase`` \u7c7b\u7ee7\u627f\u81ea ``StateModule`` \u7c7b\uff0c\u56e0\u6b64 storage\u4e5f\u4f1a\u901a\u8fc7\u4f1a\u8bdd\u7ba1\u7406\u8fdb\u884c\u4fdd\u5b58\u548c\u52a0\u8f7d\u3002\n\n``PlanNotebook`` \u7c7b\u7684\u6838\u5fc3\u5c5e\u6027\u548c\u65b9\u6cd5\u603b\u7ed3\u5982\u4e0b\uff1a\n\n.. list-table:: ``PlanNotebook`` \u7c7b\u7684\u6838\u5fc3\u5c5e\u6027\u548c\u65b9\u6cd5\n   :header-rows: 1\n\n   * - \u7c7b\u578b\n     - \u540d\u79f0\n     - \u63cf\u8ff0\n   * - \u5c5e\u6027\n     - ``current_plan``\n     - \u667a\u80fd\u4f53\u6b63\u5728\u6267\u884c\u7684\u5f53\u524d\u8ba1\u5212\n   * -\n     - ``storage``\n     - \u5386\u53f2\u8ba1\u5212\u7684\u5b58\u50a8\uff0c\u7528\u4e8e\u68c0\u7d22\u548c\u6062\u590d\u5386\u53f2\u8ba1\u5212\n   * -\n     - ``plan_to_hint``\n     - \u4e00\u4e2a\u53ef\u8c03\u7528\u5bf9\u8c61\uff0c\u4ee5\u5f53\u524d\u8ba1\u5212\u4e3a\u8f93\u5165\u5e76\u751f\u6210\u63d0\u793a\u6d88\u606f\u6765\u6307\u5bfc\u667a\u80fd\u4f53\u5b8c\u6210\u8ba1\u5212\n   * - \u51fd\u6570\n     - ``list_tools``\n     - \u5217\u51fa ``PlanNotebook`` \u7c7b\u63d0\u4f9b\u7684\u6240\u6709\u5de5\u5177\u51fd\u6570\n   * -\n     - ``get_current_hint``\n     - \u83b7\u53d6\u5f53\u524d\u8ba1\u5212\u7684\u63d0\u793a\u6d88\u606f\uff0c\u5c06\u8c03\u7528 ``plan_to_hint`` \u51fd\u6570\n   * -\n     - | ``create_plan``,\n       | ``view_subtasks``,\n       | ``revise_current_plan``,\n       | ``update_subtask_state``,\n       | ``finish_subtask``,\n       | ``finish_plan``,\n       | ``view_historical_plans``,\n       | ``recover_historical_plan``\n     - \u5141\u8bb8\u667a\u80fd\u4f53\u7ba1\u7406\u8ba1\u5212\u548c\u5b50\u4efb\u52a1\u7684\u5de5\u5177\u51fd\u6570\n   * -\n     - ``register_plan_change_hook``\n     - \u6ce8\u518c\u4e00\u4e2a\u94a9\u5b50\u51fd\u6570\uff0c\u5f53\u8ba1\u5212\u53d1\u751f\u53d8\u5316\u65f6\u5c06\u88ab\u8c03\u7528\uff0c\u7528\u4e8e\u8ba1\u5212\u53ef\u89c6\u5316\u548c\u76d1\u63a7\n   * -\n     - ``remove_plan_change_hook``\n     - \u79fb\u9664\u5df2\u6ce8\u518c\u7684\u94a9\u5b50\u51fd\u6570\n\n``list_tools`` \u65b9\u6cd5\u662f\u83b7\u53d6\u6240\u6709\u5de5\u5177\u51fd\u6570\u7684\u5feb\u901f\u65b9\u6cd5\uff0c\u8fd9\u6837\u60a8\u5c31\u53ef\u4ee5\u5c06\u5b83\u4eec\u6ce8\u518c\u5230\u667a\u80fd\u4f53\u7684\u5de5\u5177\u5305\u4e2d\u3002\n\n"
      ]
    },
    {
      "cell_type": "code",
      "execution_count": null,
      "metadata": {
        "collapsed": false
      },
      "outputs": [],
      "source": [
        "plan_notebook = PlanNotebook()\n\n\nasync def list_tools() -&gt; None:\n    \"\"\"\u5217\u51faPlanNotebook\u63d0\u4f9b\u7684\u5de5\u5177\u51fd\u6570\u3002\"\"\"\n    print(\"PlanNotebook\u63d0\u4f9b\u7684\u5de5\u5177\uff1a\")\n    for tool in plan_notebook.list_tools():\n        print(tool.__name__)\n\n\nasyncio.run(list_tools())"
      ]
    },
    {
      "cell_type": "markdown",
      "metadata": {},
      "source": [
        "## \u4e0eReActAgent\u534f\u4f5c\nAgentScope\u4e2d\u7684 ``ReActAgent`` \u5df2\u901a\u8fc7\u6784\u9020\u51fd\u6570\u4e2d\u7684 ``plan_notebook`` \u53c2\u6570\u96c6\u6210\u4e86\u8ba1\u5212\u6a21\u5757\u3002\n\u4e00\u65e6\u63d0\u4f9b\uff0c\u667a\u80fd\u4f53\u5c06\n\n- \u914d\u5907\u8ba1\u5212\u7ba1\u7406\u5de5\u5177\u51fd\u6570\uff0c\u5e76\u4e14\n- \u5728\u6bcf\u4e2a\u63a8\u7406\u6b65\u9aa4\u5f00\u59cb\u65f6\u63d2\u5165\u63d0\u793a\u6d88\u606f\n\n\u6709\u4e24\u79cd\u65b9\u5f0f\u5728 ``ReActAgent`` \u4e2d\u4f7f\u7528\u8ba1\u5212\u6a21\u5757\uff1a\n\n- \u5f00\u53d1\u8005\u6307\u5b9a\u8ba1\u5212\uff1a\u5f00\u53d1\u8005\u53ef\u4ee5\u901a\u8fc7\u8c03\u7528 ``create_plan`` \u5de5\u5177\u51fd\u6570\u624b\u52a8\u521b\u5efa\u8ba1\u5212\uff0c\u5e76\u4f7f\u7528\u8be5\u8ba1\u5212\u6765\u521d\u59cb\u5316 ``ReActAgent`` \u3002\n- \u667a\u80fd\u4f53\u7ba1\u7406\u7684\u8ba1\u5212\u6267\u884c\uff1a\u667a\u80fd\u4f53\u5c06\u901a\u8fc7\u8c03\u7528\u8ba1\u5212\u7ba1\u7406\u5de5\u5177\u51fd\u6570\u81ea\u5df1\u521b\u5efa\u548c\u7ba1\u7406\u8ba1\u5212\u3002\n\n### \u624b\u52a8\u8ba1\u5212\u89c4\u8303\n\u901a\u8fc7\u8c03\u7528 ``create_plan`` \u5de5\u5177\u51fd\u6570\u624b\u52a8\u521b\u5efa\u8ba1\u5212\u975e\u5e38\u7b80\u5355\u3002\n\u4ee5\u4e0b\u662f\u624b\u52a8\u521b\u5efa\u8ba1\u5212\u4ee5\u5bf9LLM\u8d4b\u80fd\u7684\u667a\u80fd\u4f53\u8fdb\u884c\u5168\u9762\u7814\u7a76\u7684\u793a\u4f8b\u3002\n\n\n"
      ]
    },
    {
      "cell_type": "code",
      "execution_count": null,
      "metadata": {
        "collapsed": false
      },
      "outputs": [],
      "source": [
        "async def manual_plan_specification() -&gt; None:\n    \"\"\"\u624b\u52a8\u8ba1\u5212\u89c4\u8303\u793a\u4f8b\u3002\"\"\"\n    await plan_notebook.create_plan(\n        name=\"\u667a\u80fd\u4f53\u7814\u7a76\",\n        description=\"\u5bf9\u57fa\u4e8eLLM\u7684\u667a\u80fd\u4f53\u8fdb\u884c\u5168\u9762\u7814\u7a76\",\n        expected_outcome=\"\u4e00\u4efdMarkdown\u683c\u5f0f\u7684\u62a5\u544a\uff0c\u56de\u7b54\u4e09\u4e2a\u95ee\u9898\uff1a1. \u4ec0\u4e48\u662f\u667a\u80fd\u4f53\uff1f2. \u667a\u80fd\u4f53\u7684\u5f53\u524d\u6280\u672f\u6c34\u5e73\u662f\u4ec0\u4e48\uff1f3. \u667a\u80fd\u4f53\u7684\u672a\u6765\u8d8b\u52bf\u662f\u4ec0\u4e48\uff1f\",\n        subtasks=[\n            SubTask(\n                name=\"\u641c\u7d22\u667a\u80fd\u4f53\u76f8\u5173\u8c03\u7814\u8bba\u6587\",\n                description=(\n                    \"\u5728\u591a\u4e2a\u6765\u6e90\u641c\u7d22\u8c03\u7814\u8bba\u6587\uff0c\u5305\u62ec\"\n                    \"Google Scholar\u3001arXiv\u548cSemantic Scholar\u3002\u5fc5\u987b\"\n                    \"\u57282021\u5e74\u540e\u53d1\u8868\u4e14\u5f15\u7528\u6570\u8d85\u8fc750\u3002\"\n                ),\n                expected_outcome=\"Markdown\u683c\u5f0f\u7684\u8bba\u6587\u5217\u8868\",\n            ),\n            SubTask(\n                name=\"\u9605\u8bfb\u548c\u603b\u7ed3\u8bba\u6587\",\n                description=\"\u9605\u8bfb\u524d\u4e00\u6b65\u627e\u5230\u7684\u8bba\u6587\uff0c\u5e76\u603b\u7ed3\u5173\u952e\u70b9\uff0c\u5305\u62ec\u5b9a\u4e49\u3001\u5206\u7c7b\u3001\u6311\u6218\u548c\u5173\u952e\u65b9\u5411\u3002\",\n                expected_outcome=\"Markdown\u683c\u5f0f\u7684\u5173\u952e\u70b9\u603b\u7ed3\",\n            ),\n            SubTask(\n                name=\"\u7814\u7a76\u5927\u516c\u53f8\u7684\u6700\u65b0\u8fdb\u5c55\",\n                description=(\n                    \"\u7814\u7a76\u5927\u516c\u53f8\u7684\u6700\u65b0\u8fdb\u5c55\uff0c\u5305\u62ec\u4f46\u4e0d\u9650\u4e8eGoogle\u3001Microsoft\u3001OpenAI\u3001\"\n                    \"Anthropic\u3001\u963f\u91cc\u5df4\u5df4\u548cMeta\u3002\u67e5\u627e\u5b98\u65b9\u535a\u5ba2\u6216\u65b0\u95fb\u6587\u7ae0\u3002\"\n                ),\n                expected_outcome=\"\u5927\u516c\u53f8\u7684\u6700\u65b0\u8fdb\u5c55\",\n            ),\n            SubTask(\n                name=\"\u64b0\u5199\u62a5\u544a\",\n                description=\"\u57fa\u4e8e\u524d\u9762\u7684\u6b65\u9aa4\u64b0\u5199\u62a5\u544a\uff0c\u5e76\u56de\u7b54\u9884\u671f\u7ed3\u679c\u4e2d\u7684\u4e09\u4e2a\u95ee\u9898\u3002\",\n                expected_outcome=(\n                    \"\u4e00\u4efdMarkdown\u683c\u5f0f\u7684\u62a5\u544a\uff0c\u56de\u7b54\u4e09\u4e2a\u95ee\u9898\uff1a1. \"\n                    \"\u4ec0\u4e48\u662f\u667a\u80fd\u4f53\uff1f2. \u667a\u80fd\u4f53\u7684\u5f53\u524d\u6280\u672f\u6c34\u5e73\"\n                    \"\u662f\u4ec0\u4e48\uff1f3. \u667a\u80fd\u4f53\u7684\u672a\u6765\u8d8b\u52bf\u662f\u4ec0\u4e48\uff1f\"\n                ),\n            ),\n        ],\n    )\n\n    print(\"\u5f53\u524d\u63d0\u793a\u6d88\u606f\uff1a\\n\")\n    msg = await plan_notebook.get_current_hint()\n    print(f\"{msg.name}: {msg.content}\")\n\n\nasyncio.run(manual_plan_specification())"
      ]
    },
    {
      "cell_type": "markdown",
      "metadata": {},
      "source": [
        "\u521b\u5efa\u8ba1\u5212\u540e\uff0c\u53ef\u4ee5\u6309\u5982\u4e0b\u65b9\u5f0f\u4f7f\u7528\u8ba1\u5212\u7b14\u8bb0\u672c\u521d\u59cb\u5316 ``ReActAgent`` \uff1a\n\n"
      ]
    },
    {
      "cell_type": "code",
      "execution_count": null,
      "metadata": {
        "collapsed": false
      },
      "outputs": [],
      "source": [
        "agent = ReActAgent(\n    name=\"Friday\",\n    sys_prompt=\"\u4f60\u662f\u4e00\u4e2a\u6709\u7528\u7684\u52a9\u624b\u3002\",\n    model=DashScopeChatModel(\n        model_name=\"qwen-max\",\n        api_key=os.environ[\"DASHSCOPE_API_KEY\"],\n    ),\n    formatter=DashScopeChatFormatter(),\n    plan_notebook=plan_notebook,\n)"
      ]
    },
    {
      "cell_type": "markdown",
      "metadata": {},
      "source": [
        "### \u667a\u80fd\u4f53\u81ea\u4e3b\u7ba1\u7406\n\u667a\u80fd\u4f53\u4e5f\u53ef\u4ee5\u901a\u8fc7\u8c03\u7528\u8ba1\u5212\u7ba1\u7406\u5de5\u5177\u51fd\u6570\u81ea\u5df1\u521b\u5efa\u548c\u7ba1\u7406\u8ba1\u5212\u3002\n\u6211\u4eec\u53ea\u9700\u8981\u6309\u5982\u4e0b\u65b9\u5f0f\u4f7f\u7528\u8ba1\u5212\u7b14\u8bb0\u672c\u521d\u59cb\u5316 ``ReActAgent`` \uff1a\n\n\n"
      ]
    },
    {
      "cell_type": "code",
      "execution_count": null,
      "metadata": {
        "collapsed": false
      },
      "outputs": [],
      "source": [
        "agent = ReActAgent(\n    name=\"Friday\",\n    sys_prompt=\"\u4f60\u662f\u4e00\u4e2a\u6709\u7528\u7684\u52a9\u624b\u3002\",\n    model=DashScopeChatModel(\n        model_name=\"qwen-max\",\n        api_key=os.environ[\"DASHSCOPE_API_KEY\"],\n    ),\n    formatter=DashScopeChatFormatter(),\n    plan_notebook=PlanNotebook(),\n)"
      ]
    },
    {
      "cell_type": "markdown",
      "metadata": {},
      "source": [
        "\u4e4b\u540e\uff0c\u6211\u4eec\u53ef\u4ee5\u6784\u5efa\u4e00\u4e2a\u5faa\u73af\u6765\u4e0e\u667a\u80fd\u4f53\u4ea4\u4e92\uff0c\u5982\u4e0b\u6240\u793a\u3002\n\u4e00\u65e6\u7528\u6237\u7684\u4efb\u52a1\u590d\u6742\u6bd4\u8f83\u590d\u6742\uff0c\u667a\u80fd\u4f53\u5c06\u81ea\u5df1\u521b\u5efa\u8ba1\u5212\u5e76\u9010\u6b65\u6267\u884c\u8ba1\u5212\u3002\n\n.. code-block:: python\n    :caption: \u4e0e\u8ba1\u5212\u667a\u80fd\u4f53\u5efa\u7acb\u5bf9\u8bdd\n\n    async def interact_with_agent() -&gt; None:\n        \"\"\"\u4e0e\u8ba1\u5212\u667a\u80fd\u4f53\u4ea4\u4e92\u3002\"\"\"\n        user = UserAgent(name=\"user\")\n\n        msg = None\n        while True:\n            msg = await user(msg)\n            if msg.get_text_content() == \"exit\":\n                break\n            msg = await agent(msg)\n\n    asyncio.run(interact_with_agent())\n\n## \u53ef\u89c6\u5316\u548c\u76d1\u63a7\nAgentScope \u901a\u8fc7\u94a9\u5b50\u51fd\u6570\u652f\u6301\u8ba1\u5212\u6267\u884c\u7684\u5b9e\u65f6\u53ef\u89c6\u5316\u548c\u76d1\u63a7\u3002\n\n\u5f53\u524d\u8ba1\u5212\u88ab\u5de5\u5177\u51fd\u6570\u6539\u53d8\u65f6\uff0c\u94a9\u5b50\u51fd\u6570\u5c06\u88ab\u89e6\u53d1\uff0c\u5f00\u53d1\u8005\u53ef\u4ee5\u5728\u8fd9\u4e9b\u94a9\u5b50\u51fd\u6570\u4e2d\u5c06\u5f53\u524d\u7684\u8ba1\u5212\u8f6c\u53d1\u5230\u5bf9\u5e94\u7684\u524d\u7aef\u8fdb\u884c\u53ef\u89c6\u5316\u6216\u5176\u4ed6\u5904\u7406\u3002\n\u8ba1\u5212\u53d8\u5316\u94a9\u5b50\u51fd\u6570\u7684\u6a21\u677f\u5982\u4e0b\uff1a\n\n\n"
      ]
    },
    {
      "cell_type": "code",
      "execution_count": null,
      "metadata": {
        "collapsed": false
      },
      "outputs": [],
      "source": [
        "def plan_change_hook_template(self: PlanNotebook, plan: Plan) -&gt; None:\n    \"\"\"\u8ba1\u5212\u53d8\u5316\u94a9\u5b50\u51fd\u6570\u7684\u6a21\u677f\u3002\n\n    Args:\n        self (`PlanNotebook`):\n            PlanNotebook\u5b9e\u4f8b\u3002\n        plan (`Plan`):\n            \u5f53\u524d\u8ba1\u5212\u5b9e\u4f8b\uff08\u53d8\u5316\u540e\uff09\u3002\n    \"\"\"\n    # \u5c06\u8ba1\u5212\u8f6c\u53d1\u5230\u524d\u7aef\u8fdb\u884c\u53ef\u89c6\u5316\u6216\u5176\u4ed6\u5904\u7406"
      ]
    }
  ],
  "metadata": {
    "kernelspec": {
      "display_name": "Python 3",
      "language": "python",
      "name": "python3"
    },
    "language_info": {
      "codemirror_mode": {
        "name": "ipython",
        "version": 3
      },
      "file_extension": ".py",
      "mimetype": "text/x-python",
      "name": "python",
      "nbconvert_exporter": "python",
      "pygments_lexer": "ipython3",
      "version": "3.10.18"
    }
  },
  "nbformat": 4,
  "nbformat_minor": 0
}</pre><div class="json-formatter-container"></div>