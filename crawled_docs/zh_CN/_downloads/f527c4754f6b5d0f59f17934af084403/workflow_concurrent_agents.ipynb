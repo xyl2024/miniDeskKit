<!-- Title:  -->
<!-- URL: https://doc.agentscope.io/zh_CN/_downloads/f527c4754f6b5d0f59f17934af084403/workflow_concurrent_agents.ipynb -->
<pre>{
  "cells": [
    {
      "cell_type": "markdown",
      "metadata": {},
      "source": [
        "\n# Concurrent Agents\n\u5728\u5f02\u6b65\u7f16\u7a0b\u7684\u5e2e\u52a9\u4e0b\uff0c\u591a\u667a\u80fd\u4f53\u5e76\u53d1\u53ef\u4ee5\u901a\u8fc7 Python \u4e2d\u7684 ``asyncio.gather`` \u6267\u884c\u3002\n\n\u4e0b\u9762\u5c55\u793a\u4e86\u4e00\u4e2a\u7b80\u5355\u7684\u793a\u4f8b\uff0c\u5176\u4e2d\u521b\u5efa\u4e86\u4e24\u4e2a\u667a\u80fd\u4f53\u5e76\u5e76\u53d1\u6267\u884c\u3002\n"
      ]
    },
    {
      "cell_type": "code",
      "execution_count": null,
      "metadata": {
        "collapsed": false
      },
      "outputs": [],
      "source": [
        "import asyncio\nfrom datetime import datetime\nfrom typing import Any\n\nfrom agentscope.agent import AgentBase\n\n\nclass ExampleAgent(AgentBase):\n    \"\"\"\u7528\u4e8e\u5e76\u53d1\u6267\u884c\u7684\u793a\u4f8b\u667a\u80fd\u4f53\u3002\"\"\"\n\n    def __init__(self, name: str) -&gt; None:\n        \"\"\"\u4f7f\u7528\u667a\u80fd\u4f53\u540d\u79f0\u521d\u59cb\u5316\u667a\u80fd\u4f53\u3002\"\"\"\n        super().__init__()\n        self.name = name\n\n    async def reply(self, *args: Any, **kwargs: Any) -&gt; None:\n        \"\"\"\u56de\u590d\u6d88\u606f\u3002\"\"\"\n        start_time = datetime.now().strftime(\"%H:%M:%S.%f\")[:-3]\n        print(f\"{self.name} \u5f00\u59cb\u4e8e {start_time}\")\n        await asyncio.sleep(3)  # \u6a21\u62df\u957f\u65f6\u95f4\u8fd0\u884c\u7684\u4efb\u52a1\n        end_time = datetime.now().strftime(\"%H:%M:%S.%f\")[:-3]\n        print(f\"{self.name} \u7ed3\u675f\u4e8e {end_time}\")\n\n\nasync def run_concurrent_agents() -&gt; None:\n    \"\"\"\u8fd0\u884c\u5e76\u53d1\u667a\u80fd\u4f53\u3002\"\"\"\n    agent1 = ExampleAgent(\"\u667a\u80fd\u4f53 1\")\n    agent2 = ExampleAgent(\"\u667a\u80fd\u4f53 2\")\n\n    await asyncio.gather(agent1(), agent2())\n\n\nasyncio.run(run_concurrent_agents())"
      ]
    }
  ],
  "metadata": {
    "kernelspec": {
      "display_name": "Python 3",
      "language": "python",
      "name": "python3"
    },
    "language_info": {
      "codemirror_mode": {
        "name": "ipython",
        "version": 3
      },
      "file_extension": ".py",
      "mimetype": "text/x-python",
      "name": "python",
      "nbconvert_exporter": "python",
      "pygments_lexer": "ipython3",
      "version": "3.10.18"
    }
  },
  "nbformat": 4,
  "nbformat_minor": 0
}</pre><div class="json-formatter-container"></div>