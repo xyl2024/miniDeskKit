<!-- Title:  -->
<!-- URL: https://doc.agentscope.io/zh_CN/_downloads/dc35bacf6284d8bd4018ad68eeecf856/task_rag.ipynb -->
<pre>{
  "cells": [
    {
      "cell_type": "markdown",
      "metadata": {},
      "source": [
        "\n\n# RAG\n\nAgentScope \u63d0\u4f9b\u4e86\u5185\u7f6e\u7684 RAG\uff08Retrieval-Augmented Generation) \u5b9e\u73b0\u3002\u672c\u8282\u5c06\u8be6\u7ec6\u4ecb\u7ecd\n\n- \u5982\u4f55\u4f7f\u7528 AgentScope \u4e2d\u7684 RAG \u6a21\u5757\uff0c\n- \u5982\u4f55\u5b9e\u73b0 **\u591a\u6a21\u6001** RAG\uff0c\n- \u5982\u4f55\u5728 ``ReActAgent`` \u4e2d\u4ee5\u4e24\u79cd\u4e0d\u540c\u7684\u65b9\u5f0f\u96c6\u6210 RAG \u6a21\u5757\uff1a\n    - \u667a\u80fd\u4f53\u81ea\u4e3b\u63a7\u5236\uff08Agentic manner\uff09\n    - \u901a\u7528\u65b9\u5f0f\uff08Generic manner\uff09\n\n\u6211\u4eec\u5728\u4e0b\u5217\u8868\u683c\u4e2d\u603b\u7ed3\u4e86\u4e24\u79cd\u6a21\u5f0f\u7684\u4f18\u7f3a\u70b9\uff1a\n\n.. list-table:: RAG \u96c6\u6210\u65b9\u5f0f\u6bd4\u8f83\n    :header-rows: 1\n\n    * - \u96c6\u6210\u65b9\u5f0f\n      - \u63cf\u8ff0\n      - \u4f18\u70b9\n      - \u7f3a\u70b9\n    * - \u667a\u80fd\u4f53\u81ea\u4e3b\u63a7\u5236\n      - \u4ee5\u5de5\u5177\u8c03\u7528\u65b9\u5f0f\u8ba9\u667a\u80fd\u4f53\u81ea\u4e3b\u51b3\u5b9a\u4f55\u65f6\u8fdb\u884c\u67e5\u8be2\uff0c\u67e5\u8be2\u4ec0\u4e48\u5173\u952e\u5b57\n      - - \u4e0e ReAct \u7b97\u6cd5\u5951\u5408\uff0c\u7075\u6d3b\u6027\u9ad8\n        - \u667a\u80fd\u4f53\u80fd\u591f\u6839\u636e\u5f53\u524d\u7684\u4e0a\u4e0b\u6587\u6539\u5199\u67e5\u8be2\u5173\u952e\u8bcd\n        - \u907f\u514d\u5728\u4e0d\u5fc5\u8981\u65f6\u53d1\u751f\u67e5\u8be2\n      - \u5bf9 LLM \u6a21\u578b\u80fd\u529b\u8981\u6c42\u8f83\u9ad8\n    * - \u901a\u7528\u65b9\u5f0f\n      - \u6bcf\u6b21\u5728 ``reply`` \u51fd\u6570\u5f00\u59cb\u65f6\u56fa\u5b9a\u8fdb\u884c\u67e5\u8be2\uff0c\u5e76\u5c06\u68c0\u7d22\u7ed3\u679c\u6574\u5408\u5230\u63d0\u793a\uff08prompt\uff09\u4e2d\n      - - \u5b9e\u73b0\u7b80\u5355\n        - \u5bf9 LLM \u6a21\u578b\u80fd\u529b\u8981\u6c42\u4f4e\n      - - \u6bcf\u6b21\u90fd\u4f1a\u8fd0\u884c\u67e5\u8be2\uff0c\u56e0\u6b64\u4f1a\u5f15\u5165\u8fc7\u591a\u4e0d\u5fc5\u8981\u7684\u67e5\u8be2\u68c0\u7d22\n        - \u67e5\u8be2\u6570\u636e\u5e93\u8f83\u5927\u65f6\uff0c\u56de\u590d\u5ef6\u8fdf\u8f83\u9ad8\n\n&lt;div class=\"alert alert-info\"&gt;&lt;h4&gt;Note&lt;/h4&gt;&lt;p&gt;\u4f5c\u4e3a\u5f00\u6e90\u6846\u67b6\uff0cAgentScope \u7684\u76ee\u6807\u662f\u8ba9\u5f00\u53d1\u8fc7\u7a0b\u66f4\u7b80\u5355\u4e5f\u66f4\u6709\u8da3\u3002\u56e0\u6b64\uff0cAgentScope \u7684\u8bbe\u8ba1\u4e2d\u5e76\u4e0d\u5f3a\u5236\u8981\u6c42\u4f7f\u7528\u5185\u7f6e\u7684 RAG \u5b9e\u73b0\uff0c\u540c\u65f6\u652f\u6301\u3001\u9f13\u52b1\u5f00\u53d1\u8005\u96c6\u6210\u73b0\u6709\u7684 RAG \u5b9e\u73b0\u6216\u7b2c\u4e09\u65b9 RAG \u6846\u67b6\u3002&lt;/p&gt;&lt;/div&gt;\n"
      ]
    },
    {
      "cell_type": "code",
      "execution_count": null,
      "metadata": {
        "collapsed": false
      },
      "outputs": [],
      "source": [
        "import asyncio\nimport json\nimport os\n\nfrom matplotlib import pyplot as plt\n\nimport agentscope\nfrom agentscope.agent import ReActAgent\nfrom agentscope.embedding import (\n    DashScopeTextEmbedding,\n    DashScopeMultiModalEmbedding,\n)\nfrom agentscope.formatter import DashScopeChatFormatter\nfrom agentscope.message import Msg\nfrom agentscope.model import DashScopeChatModel\nfrom agentscope.rag import (\n    TextReader,\n    SimpleKnowledge,\n    QdrantStore,\n    Document,\n    ImageReader,\n)\nfrom agentscope.tool import Toolkit"
      ]
    },
    {
      "cell_type": "markdown",
      "metadata": {},
      "source": [
        "## \u4f7f\u7528 RAG \u6a21\u5757\nAgentScope \u4e2d\u7684 RAG \u6a21\u5757\u7531\u4ee5\u4e0b\u4e09\u4e2a\u6838\u5fc3\u7ec4\u4ef6\u6784\u6210\uff1a\n\n- **Reader**\uff1a\u8d1f\u8d23\u4ece\u6570\u636e\u6e90\u8bfb\u53d6\u6570\u636e\uff0c\u5e76\u8fdb\u884c\u5206\u5757\uff08chunking\uff09\n- **Knowledge**\uff1a\u8d1f\u8d23\u77e5\u8bc6\u5e93\u67e5\u8be2\u68c0\u7d22\u548c\u6570\u636e\u5b58\u50a8\u903b\u8f91\u7684\u7b97\u6cd5\u5b9e\u73b0\n- **Store**\uff1a\u8d1f\u8d23\u4e0e\u5411\u91cf\u6570\u636e\u5e93\u4ea4\u4e92\u7684\u903b\u8f91\u5b9e\u73b0\n\n&lt;div class=\"alert alert-info\"&gt;&lt;h4&gt;Note&lt;/h4&gt;&lt;p&gt;\u6211\u4eec\u5c06\u6301\u7eed\u5728 AgentScope \u4e2d\u96c6\u6210\u65b0\u7684\u5411\u91cf\u6570\u636e\u5e93\u548c\u6570\u636e\u8bfb\u53d6\u6a21\u5757\u3002\u8be6\u60c5\u8bf7\u67e5\u770b\u6211\u4eec\u7684 [\u5f00\u53d1\u8def\u7ebf\u56fe](https://github.com/orgs/agentscope-ai/projects/2)\uff0c\u540c\u65f6\u4e5f\u6b22\u8fce\u8d21\u732e\u4ee3\u7801\uff01&lt;/p&gt;&lt;/div&gt;\n\n\u5f53\u524d AgentScope \u4e2d\u5185\u7f6e\u652f\u6301\u7684 reader \u5305\u62ec\uff1a\n\n\n"
      ]
    },
    {
      "cell_type": "code",
      "execution_count": null,
      "metadata": {
        "collapsed": false
      },
      "outputs": [],
      "source": [
        "for _ in agentscope.rag.__all__:\n    if _.endswith(\"Reader\"):\n        print(f\"- {_}\")"
      ]
    },
    {
      "cell_type": "markdown",
      "metadata": {},
      "source": [
        "\u8fd9\u4e9b reader \u7684\u4f5c\u7528\u662f\u8bfb\u53d6\u6570\u636e\uff0c\u5c06\u6570\u636e\u5206\u5757\u5e76\u5305\u88c5\u6210 ``agentscope.rag.Document`` \u5bf9\u8c61\u3002 ``Document`` \u5bf9\u8c61\u5305\u542b\u4ee5\u4e0b\u5b57\u6bb5\uff1a\n\n- ``metadata``\uff1a\u6570\u636e\u5757\u7684\u5143\u4fe1\u606f\uff0c\u5305\u542b\u6570\u636e\u5185\u5bb9\uff08``content``\uff09\u3001\u6570\u636e ID\uff08``doc_id``\uff09\u3001\u5757 ID\uff08``chunk_id``\uff09\u548c\u603b\u5757\u6570\uff08``total_chunks``\uff09\n- ``embedding``: \u6570\u636e\u5757\u7684\u5411\u91cf\u8868\u793a\uff0c\u9ed8\u8ba4\u4e3a ``None``\uff0c\u5728\u5c06\u6570\u636e\u5757\u6dfb\u52a0\u5230\u77e5\u8bc6\u5e93\u65f6\u4f1a\u88ab\u586b\u5145\n- ``score``: \u6570\u636e\u5757\u7684\u76f8\u5173\u6027\u5206\u6570\uff0c\u9ed8\u8ba4\u4e3a ``None``\uff0c\u5728\u4ece\u77e5\u8bc6\u5e93\u68c0\u7d22\u6570\u636e\u5757\u65f6\u4f1a\u88ab\u586b\u5145\n\n\u4ee5 ``TextReader`` \u4e3a\u4f8b\uff0c\u901a\u8fc7\u5982\u4e0b\u4ee3\u7801\u8bfb\u53d6\u6587\u672c\u5b57\u7b26\u4e32\uff0c\u5e76\u5c06\u6587\u672c\u5206\u5757\u4e3a ``Document`` \u5bf9\u8c61\uff1a\n\n\n"
      ]
    },
    {
      "cell_type": "code",
      "execution_count": null,
      "metadata": {
        "collapsed": false
      },
      "outputs": [],
      "source": [
        "async def example_text_reader(print_docs: bool) -&gt; list[Document]:\n    \"\"\"\u4f7f\u7528 TextReader \u8bfb\u53d6\u6587\u672c\u5b57\u7b26\u4e32\uff0c\u5e76\u5c06\u6587\u672c\u5206\u5757\u4e3a Document \u5bf9\u8c61\u3002\"\"\"\n    # \u521b\u5efa TextReader \u5bf9\u8c61\n    reader = TextReader(chunk_size=512, split_by=\"paragraph\")\n\n    # \u8bfb\u53d6\u6587\u672c\u5b57\u7b26\u4e32\n    documents = await reader(\n        text=(\n            # \u6211\u4eec\u51c6\u5907\u4e00\u4e9b\u6587\u672c\u6570\u636e\u7528\u4e8e\u6f14\u793a RAG \u529f\u80fd\u3002\n            \"\u6211\u7684\u540d\u5b57\u662f\u674e\u660e\uff0c\u4eca\u5e7428\u5c81\u3002\\n\"\n            \"\u6211\u5c45\u4f4f\u5728\u4e2d\u56fd\u676d\u5dde\uff0c\u662f\u4e00\u540d\u7b97\u6cd5\u5de5\u7a0b\u5e08\u3002\u6211\u559c\u6b22\u6253\u7bee\u7403\u548c\u73a9\u6e38\u620f\u3002\\n\"\n            \"\u6211\u7236\u4eb2\u7684\u540d\u5b57\u662f\u674e\u5f3a\uff0c\u662f\u4e00\u540d\u533b\u751f\uff0c\u6211\u7684\u6bcd\u4eb2\u662f\u9648\u82b3\u82b3\uff0c\u662f\u4e00\u540d\u6559\u5e08\uff0c\u5979\u603b\u662f\u6307\u5bfc\u6211\u5b66\u4e60\u3002\\n\"\n            \"\u6211\u73b0\u5728\u5728\u5317\u4eac\u5927\u5b66\u653b\u8bfb\u535a\u58eb\u5b66\u4f4d\uff0c\u7814\u7a76\u65b9\u5411\u662f\u4eba\u5de5\u667a\u80fd\u3002\\n\"\n            \"\u6211\u6700\u597d\u7684\u670b\u53cb\u662f\u738b\u4f1f\uff0c\u6211\u4eec\u4ece\u5c0f\u4e00\u8d77\u957f\u5927\uff0c\u73b0\u5728\u4ed6\u662f\u4e00\u540d\u5f8b\u5e08\u3002\"\n        ),\n    )\n\n    if print_docs:\n        print(f\"\u6587\u672c\u88ab\u5206\u5757\u4e3a {len(documents)} \u4e2a Document \u5bf9\u8c61\uff1a\")\n        for idx, doc in enumerate(documents):\n            print(f\"Document {idx}:\")\n            print(\"\\tScore: \", doc.score)\n            print(\n                \"\\tMetadata: \",\n                json.dumps(doc.metadata, indent=2, ensure_ascii=False),\n                \"\\n\",\n            )\n\n    return documents\n\n\ndocs = asyncio.run(example_text_reader(print_docs=True))"
      ]
    },
    {
      "cell_type": "markdown",
      "metadata": {},
      "source": [
        "\u7531\u4e8e\u5e76\u4e0d\u5b58\u5728\u4e00\u4e2a \u201cone-for-all\u201d \u7684\u6570\u636e\u8bfb\u53d6\u548c\u5206\u5757\u65b9\u6cd5\uff0c\u7279\u522b\u50cf\u662f PDF \u548c Word \u8fd9\u7c7b\u590d\u6742\u683c\u5f0f\u7684\u6587\u6863\u3002\n\u56e0\u6b64\uff0cAgentScope \u9f13\u52b1\u5f00\u53d1\u8005\u6839\u636e\u81ea\u5df1\u7684\u6570\u636e\u683c\u5f0f\u5b9e\u73b0\u81ea\u5b9a\u4e49\u7684 reader\u3002\n\u53ea\u9700\u8981\u7ee7\u627f ``BaseReader`` \u7c7b\uff0c\u5e76\u5b9e\u73b0 ``__call__`` \u65b9\u6cd5\u5373\u53ef\u3002\n\n\u5728\u6570\u636e\u5206\u5757\u540e\uff0c\u63a5\u4e0b\u6765\u9700\u8981\u5c06\u6570\u636e\u5757\u6dfb\u52a0\u5230\u77e5\u8bc6\u5e93\u4e2d\u3002\n\u5728 AgentScope \u4e2d\uff0c\u77e5\u8bc6\u5e93\u7684\u521d\u59cb\u5316\u9700\u8981\u63d0\u4f9b **\u5d4c\u5165\u6a21\u578b** \u548c **\u5411\u91cf\u5b58\u50a8** \uff08\u5373\u5411\u91cf\u6570\u636e\u5e93\uff09 \u7684\u5bf9\u8c61\u3002\nAgentScope \u76ee\u524d\u5185\u7f6e\u652f\u6301\u57fa\u4e8e [Qdrant](https://qdrant.tech/) \u5b9e\u73b0\u7684\u5411\u91cf\u5b58\u50a8\uff0c\u4ee5\u53ca\u4e00\u4e2a\u77e5\u8bc6\u5e93\u7684\u57fa\u7840\u5b9e\u73b0 ``SimpleKnowledge``\u3002\n\u5177\u4f53\u4f7f\u7528\u65b9\u5f0f\u5982\u4e0b\uff1a\n\n&lt;div class=\"alert alert-info\"&gt;&lt;h4&gt;Note&lt;/h4&gt;&lt;p&gt;&lt;/p&gt;&lt;/div&gt;\n\n - \u6211\u4eec\u6b63\u5728 AgentScope \u4e2d\u96c6\u6210\u65b0\u7684\u5411\u91cf\u6570\u636e\u5e93\uff0c\u8be6\u60c5\u8bf7\u67e5\u770b\u6211\u4eec\u7684 [\u5f00\u53d1\u8def\u7ebf\u56fe](https://github.com/orgs/agentscope-ai/projects/2)\u3002\u6b22\u8fce\u8d21\u732e\u4ee3\u7801\uff01\n - Qdrant \u7684\u5b9e\u73b0\u901a\u8fc7 ``location`` \u53c2\u6570\u652f\u6301\u591a\u79cd\u4e0d\u540c\u7684\u90e8\u7f72\u65b9\u5f0f\uff0c\u5305\u62ec\u5185\u5b58\u6a21\u5f0f\uff0c\u672c\u5730\u6a21\u5f0f\u548c\u4e91\u7aef\u6a21\u5f0f\u3002\u8be6\u60c5\u8bf7\u53c2\u8003 [Qdrant \u6587\u6863](https://qdrant.tech/)\u3002\n\n\n"
      ]
    },
    {
      "cell_type": "code",
      "execution_count": null,
      "metadata": {
        "collapsed": false
      },
      "outputs": [],
      "source": [
        "async def build_knowledge_base() -&gt; SimpleKnowledge:\n    \"\"\"\u6784\u5efa\u77e5\u8bc6\u5e93\u3002\"\"\"\n    # \u8bfb\u53d6 documents \u6570\u636e\n    documents = await example_text_reader(print_docs=False)\n\n    # \u521b\u5efa\u4e00\u4e2a\u5185\u5b58\u4e2d\u7684 Qdrant \u5411\u91cf\u5b58\u50a8\uff0c\u4ee5\u53ca\u4f7f\u7528 DashScopeTextEmbedding \u4f5c\u4e3a\u5d4c\u5165\u6a21\u578b\uff0c\u521d\u59cb\u5316\u77e5\u8bc6\u5e93\n    knowledge = SimpleKnowledge(\n        # \u63d0\u4f9b\u4e00\u4e2a embedding \u6a21\u578b\u7528\u4e8e\u5c06\u6587\u672c\u8f6c\u6362\u4e3a\u5411\u91cf\n        embedding_model=DashScopeTextEmbedding(\n            api_key=os.environ[\"DASHSCOPE_API_KEY\"],\n            model_name=\"text-embedding-v4\",\n            dimensions=1024,\n        ),\n        # \u9009\u62e9 Qdrant \u4f5c\u4e3a\u5411\u91cf\u5b58\u50a8\n        embedding_store=QdrantStore(\n            location=\":memory:\",  # \u4f7f\u7528\u5185\u5b58\u6a21\u5f0f\n            collection_name=\"test_collection\",\n            dimensions=1024,  # \u5d4c\u5165\u5411\u91cf\u7684\u7ef4\u5ea6\u5fc5\u987b\u4e0e\u5d4c\u5165\u6a21\u578b\u8f93\u51fa\u7684\u7ef4\u5ea6\u4e00\u81f4\n        ),\n    )\n\n    # \u5c06 documents \u6dfb\u52a0\u5230\u77e5\u8bc6\u5e93\u4e2d\n    await knowledge.add_documents(documents)\n\n    # \u4ece\u77e5\u8bc6\u5e93\u4e2d\u68c0\u7d22\u6570\u636e\n    docs = await knowledge.retrieve(\n        query=\"\u674e\u660e\u7684\u7236\u4eb2\u662f\u8c01\uff1f\",\n        limit=3,\n        score_threshold=0.5,\n    )\n\n    print(\"\u68c0\u7d22\u5230\u7684 Document \u5bf9\u8c61\uff1a\")\n    for doc in docs:\n        print(doc, \"\\n\")\n\n    return knowledge\n\n\nknowledge = asyncio.run(build_knowledge_base())"
      ]
    },
    {
      "cell_type": "markdown",
      "metadata": {},
      "source": [
        "AgentScope \u4e2d\u7684\u77e5\u8bc6\u5e93\u7c7b\u63d0\u4f9b\u4e24\u4e2a\u6838\u5fc3\u65b9\u6cd5\uff1a``add_documents`` \u548c ``retrieve``\uff0c\u5206\u522b\u7528\u4e8e\u6dfb\u52a0\u6570\u636e\u5757\u548c\u641c\u7d22\u68c0\u7d22\u6570\u636e\u5757\u3002\n\n\u6b64\u5916\uff0cAgentScope \u63d0\u4f9b\u4e86 ``retrieve_knowledge`` \u65b9\u6cd5\uff0c\u5b83\u5c06 ``retrieve`` \u65b9\u6cd5\u5c01\u88c5\u6210\u4e00\u4e2a\u667a\u80fd\u4f53\u80fd\u591f\u76f4\u63a5\u8c03\u7528\u7684\u5de5\u5177\u51fd\u6570\u3002\u5f00\u53d1\u8005\u53ef\u4ee5\u76f4\u63a5\u4f7f\u7528\u8be5\u5de5\u5177\u51fd\u6570\u88c5\u5907\u667a\u80fd\u4f53\u3002\n\n## \u81ea\u5b9a\u4e49 RAG \u7ec4\u4ef6\nAgentScope \u652f\u6301\u5e76\u9f13\u52b1\u5f00\u53d1\u8005\u81ea\u5b9a\u4e49 RAG \u7ec4\u4ef6\uff0c\u5305\u62ec reader\u3001\u77e5\u8bc6\u5e93\u548c\u5411\u91cf\u6570\u636e\u5e93\u3002\n\u5177\u4f53\u6765\u8bf4\uff0c\u6211\u4eec\u63d0\u4f9b\u4e86\u4ee5\u4e0b\u57fa\u7c7b\u7528\u4e8e\u81ea\u5b9a\u4e49\uff1a\n\n.. list-table:: RAG \u57fa\u7c7b\n    :header-rows: 1\n\n    * - \u57fa\u7c7b\n      - \u63cf\u8ff0\n      - \u62bd\u8c61\u65b9\u6cd5\n    * - ``ReaderBase``\n      - \u6240\u6709 reader \u7684\u57fa\u7c7b\n      - ``__call__``\n    * - ``VDBStoreBase``\n      - \u5411\u91cf\u6570\u636e\u5e93\u7684\u57fa\u7c7b\n      - | ``add``\n        | ``search``\n        | ``get_client`` (\u53ef\u9009)\n        | ``delete`` (\u53ef\u9009)\n    * - ``KnowledgeBase``\n      - \u77e5\u8bc6\u5e93\u7684\u57fa\u7c7b\n      - | ``retrieve``\n        | ``add_documents``\n\n``VDBStoreBase`` \u4e2d\u7684 ``get_client`` \u65b9\u6cd5\u5141\u8bb8\u5f00\u53d1\u8005\u8bbf\u95ee\u5e95\u5c42\u5411\u91cf\u6570\u636e\u5e93\u7684\u5b8c\u6574\u529f\u80fd\u3002\n\u8fd9\u6837\uff0c\u4ed6\u4eec\u5c31\u53ef\u4ee5\u57fa\u4e8e\u5411\u91cf\u6570\u636e\u5e93\u5b9e\u73b0\u66f4\u9ad8\u7ea7\u7684\u529f\u80fd\uff0c\u4f8b\u5982\u5efa\u7acb\u7d22\u5f15\u3001\u9ad8\u7ea7\u641c\u7d22\u7b49\u3002\n\n## \u4e0e ReActAgent \u96c6\u6210\n\u63a5\u4e0b\u6765\uff0c\u6211\u4eec\u5c06\u6f14\u793a\u5982\u4f55\u4ee5\u667a\u80fd\u4f53\u81ea\u4e3b\u63a7\u5236\uff08agentic\uff09\u548c\u901a\u7528\uff08generic\uff09\u4e24\u79cd\u65b9\u5f0f\u5c06 RAG \u6a21\u5757\u4e0e AgentScope \u4e2d\u7684 ``ReActAgent`` \u96c6\u6210\u3002\n\n### \u667a\u80fd\u4f53\u81ea\u4e3b\u63a7\u5236\n\u5728\u667a\u80fd\u4f53\u81ea\u4e3b\u63a7\u5236\u7684\u65b9\u5f0f\u4e2d\uff0cReAct \u667a\u80fd\u4f53\u53ef\u4ee5\u81ea\u4e3b\u51b3\u5b9a\u4f55\u65f6\u68c0\u7d22\u77e5\u8bc6\u4ee5\u53ca\u68c0\u7d22\u7684\u67e5\u8be2\u5185\u5bb9\u3002\n\u5c06 RAG \u6a21\u5757\u4e0e AgentScope \u4e2d\u7684 ``ReActAgent`` \u96c6\u6210\u975e\u5e38\u7b80\u5355\uff0c\u53ea\u9700\u5c06\u77e5\u8bc6\u5e93\u7684 ``retrieve_knowledge`` \u65b9\u6cd5\u6ce8\u518c\u4e3a\u5de5\u5177\uff0c\u5e76\u4e3a\u8be5\u5de5\u5177\u63d0\u4f9b\u9002\u5f53\u7684\u63cf\u8ff0\u5373\u53ef\u3002\n\n"
      ]
    },
    {
      "cell_type": "code",
      "execution_count": null,
      "metadata": {
        "collapsed": false
      },
      "outputs": [],
      "source": [
        "async def example_agentic_manner() -&gt; None:\n    \"\"\"\u4ee5\u667a\u80fd\u4f53\u81ea\u4e3b\u63a7\u5236\u65b9\u5f0f\u5c06 RAG \u6a21\u5757\u4e0e ReActAgent \u96c6\u6210\u7684\u793a\u4f8b\u3002\"\"\"\n    # \u521b\u5efa\u4e00\u4e2a ReAct \u667a\u80fd\u4f53\n    toolkit = Toolkit()\n\n    # \u4f7f\u7528 DashScope \u4f5c\u4e3a\u6a21\u578b\u521b\u5efa ReAct \u667a\u80fd\u4f53\n    agent = ReActAgent(\n        name=\"Friday\",\n        sys_prompt=\"You're a helpful assistant named Friday.\",\n        model=DashScopeChatModel(\n            api_key=os.environ[\"DASHSCOPE_API_KEY\"],\n            model_name=\"qwen-max\",\n        ),\n        formatter=DashScopeChatFormatter(),\n        toolkit=toolkit,\n    )\n\n    print(\"\u7b2c\u4e00\u6b21\u56de\u590d: \")\n    # \u7b2c\u4e00\u6b21\u6211\u4eec\u8fdb\u884c\u4e00\u4e9b\u4ea4\u6d41\uff0c\u63d0\u4f9b\u201c\u674e\u660e\u201d\u8fd9\u4e2a\u540d\u5b57\u4f5c\u4e3a\u4e0a\u4e0b\u6587\u5185\u5bb9\n    await agent(\n        Msg(\n            \"user\",\n            \"\u674e\u660e\u662f\u6211\u6700\u597d\u7684\u670b\u53cb\u3002\",\n            \"user\",\n        ),\n    )\n\n    # \u5c06 retrieve_knowledge \u65b9\u6cd5\u6ce8\u518c\u4e3a\u5de5\u5177\u7bb1\u4e2d\u7684\u5de5\u5177\u51fd\u6570\n    toolkit.register_tool_function(\n        knowledge.retrieve_knowledge,\n        func_description=(  # \u4e3a\u5de5\u5177\u63d0\u4f9b\u6e05\u6670\u7684\u63cf\u8ff0\n            \"\u7528\u4e8e\u68c0\u7d22\u4e0e\u7ed9\u5b9a\u67e5\u8be2\u76f8\u5173\u7684\u6587\u6863\u7684\u5de5\u5177\u3002\" \"\u5f53\u4f60\u9700\u8981\u67e5\u627e\u6709\u5173\u674e\u660e\u7684\u4fe1\u606f\u65f6\u4f7f\u7528\u6b64\u5de5\u5177\u3002\"\n        ),\n    )\n\n    print(\"\\n\\n\u7b2c\u4e8c\u6b21\u56de\u590d: \")\n    # \u7b2c\u4e8c\u6b21\u56de\u590d\u4e2d\uff0c\u6211\u4eec\u5e0c\u671b\u667a\u80fd\u4f53\u80fd\u591f\u5c06\u67e5\u8be2\u4e2d\u201c\u4ed6\u7236\u4eb2\u201d\u6539\u5199\u5f97\u66f4\u5177\u4f53\uff0c\u4f8b\u5982\n    # \u201c\u674e\u660e\u7684\u7236\u4eb2\u662f\u8c01\uff1f\u201d\u6216\u201c\u674e\u660e\u7684\u7236\u4eb2\u201d\n    await agent(\n        Msg(\n            \"user\",\n            \"\u4f60\u77e5\u9053\u4ed6\u7236\u4eb2\u662f\u8c01\u5417\uff1f\",\n            \"user\",\n        ),\n    )\n\n\nasyncio.run(example_agentic_manner())"
      ]
    },
    {
      "cell_type": "markdown",
      "metadata": {},
      "source": [
        "\u5728\u4e0a\u9762\u7684\u4f8b\u5b50\u4e2d\uff0c\u6211\u4eec\u6a21\u62df\u4e86\u6b63\u5e38\u4e0e\u667a\u80fd\u4f53\u4ea4\u6d41\u8fc7\u7a0b\u3002\u7b2c\u4e00\u6b21\u7684\u4ea4\u6d41\u6211\u4eec\u63d0\u4f9b\u4e86\u201c\u674e\u660e\u201d\u7684\u540d\u5b57\u4f5c\u4e3a\u4e0a\u4e0b\u6587\u5185\u5bb9\u3002\n\u7b2c\u4e8c\u6b21\u63d0\u95ee\u65f6\uff0c\u6211\u4eec\u7684\u95ee\u9898\u662f\u201c\u4f60\u77e5\u9053\u4ed6\u7236\u4eb2\u662f\u8c01\u5417\uff1f\u201d\uff0c\n\u6211\u4eec\u5e0c\u671b\u667a\u80fd\u4f53\u80fd\u591f\u5229\u7528\u4e0a\u4e0b\u6587\u5386\u53f2\u4fe1\u606f\u6539\u5199\u67e5\u8be2\uff0c\u4f7f\u5176\u66f4\u5177\u4f53\uff0c\u66f4\u597d\u7684\u8fdb\u884c\u68c0\u7d22\uff0c\u4f8b\u5982\u6539\u5199\u4e3a\u201c\u674e\u660e\u7684\u7236\u4eb2\u662f\u8c01\uff1f\u201d\u6216\u201c\u674e\u660e\u7684\u7236\u4eb2\u201d\u3002\n\n\u66f4\u8fdb\u4e00\u6b65\uff0c\u7ed3\u5408 `plan` \u6a21\u5757\uff0c\u6211\u4eec\u53ef\u4ee5\u8ba9\u667a\u80fd\u4f53\u5b9e\u73b0\u66f4\u52a0\u590d\u6742\u7684\u67e5\u8be2\u6539\u5199\u548c\u591a\u8f6e\u68c0\u7d22\u3002\n\n### \u901a\u7528\u65b9\u5f0f\n``ReActAgent`` \u8fd8\u4ee5\u4e00\u79cd\u66f4\u52a0\u901a\u7528\u7684\u65b9\u5f0f\u96c6\u6210\u4e86 RAG \u6a21\u5757\uff0c\n\u5b83\u5728\u6bcf\u6b21 ``reply`` \u51fd\u6570\u5f00\u59cb\u6267\u884c\u65f6\u68c0\u7d22\u77e5\u8bc6\uff0c\u5e76\u5c06\u68c0\u7d22\u5230\u7684\u77e5\u8bc6\u9644\u52a0\u5230\u7528\u6237\u6d88\u606f\u7684\u63d0\u793a\u4e2d\u3002\n\n\u53ea\u9700\u8bbe\u7f6e ``ReActAgent`` \u7684 ``knowledge`` \u53c2\u6570\uff0c\u667a\u80fd\u4f53\u5c31\u4f1a\u5728\u6bcf\u6b21\u56de\u590d\u5f00\u59cb\u65f6\u81ea\u52a8\u68c0\u7d22\u77e5\u8bc6\u3002\n\n\n"
      ]
    },
    {
      "cell_type": "code",
      "execution_count": null,
      "metadata": {
        "collapsed": false
      },
      "outputs": [],
      "source": [
        "async def example_generic_manner() -&gt; None:\n    \"\"\"\u4ee5\u901a\u7528\u65b9\u5f0f\u5c06 RAG \u6a21\u5757\u4e0e ReActAgent \u96c6\u6210\u7684\u793a\u4f8b\u3002\"\"\"\n    # \u521b\u5efa\u4e00\u4e2a ReAct \u667a\u80fd\u4f53\n    agent = ReActAgent(\n        name=\"Friday\",\n        sys_prompt=\"You're a helpful assistant named Friday.\",\n        model=DashScopeChatModel(\n            api_key=os.environ[\"DASHSCOPE_API_KEY\"],\n            model_name=\"qwen-max\",\n        ),\n        formatter=DashScopeChatFormatter(),\n        # \u5c06\u77e5\u8bc6\u5e93\u4f20\u9012\u7ed9\u667a\u80fd\u4f53\n        knowledge=knowledge,\n    )\n\n    await agent(\n        Msg(\n            \"user\",\n            \"\u4f60\u77e5\u9053\u674e\u660e\u7684\u7236\u4eb2\u662f\u8c01\u5417\uff1f\",\n            \"user\",\n        ),\n    )\n\n    print(\"\\n\u67e5\u770b\u667a\u80fd\u4f53\u8bb0\u5fc6\u4e2d\u68c0\u7d22\u4fe1\u606f\u5982\u4f55\u63d2\u5165\uff1a\")\n    content = (await agent.memory.get_memory())[-4].content\n    print(json.dumps(content, indent=2, ensure_ascii=False))\n\n\nasyncio.run(example_generic_manner())"
      ]
    },
    {
      "cell_type": "markdown",
      "metadata": {},
      "source": [
        "## \u591a\u6a21\u6001 RAG\nAgentScope \u4e2d\u7684 RAG \u6a21\u5757\u539f\u751f\u652f\u6301\u591a\u6a21\u6001\uff0c\u56e0\u4e3a\n\n- AgentScope \u652f\u6301\u591a\u6a21\u6001\u5d4c\u5165 API\uff0c\u4f8b\u5982 ``DashScopeMultimodalEmbedding``\u3002\n- ``Document`` \u7c7b\u7684 ``metadata`` \u4e2d\uff0c``content`` \u5b57\u6bb5\u7684\u7c7b\u578b\u662f ``TextBlock | ImageBlock | VideoBlock``\uff0c\u56e0\u6b64\u53ef\u4ee5\u5b58\u50a8\u6587\u672c\u3001\u56fe\u7247\u548c\u89c6\u9891\u7b49\u591a\u6a21\u6001\u6570\u636e\u3002\n\n\u56e0\u6b64\uff0c\u6211\u4eec\u53ef\u4ee5\u76f4\u63a5\u4f7f\u7528\u591a\u6a21\u6001 reader \u548c\u5d4c\u5165\u6a21\u578b\u6765\u6784\u5efa\u591a\u6a21\u6001\u77e5\u8bc6\u5e93\uff0c\u5982\u4e0b\u6240\u793a\u3002\n\n\u9996\u5148\uff0c\u6211\u4eec\u51c6\u5907\u4e00\u5f20\u672c\u5730\u7684\u56fe\u7247\uff0c\u8fd9\u5f20\u56fe\u7247\u4e0a\u5305\u542b\u4e86\u6587\u672c\u201cMy name is Ming Li\u201d\u3002\n\n"
      ]
    },
    {
      "cell_type": "code",
      "execution_count": null,
      "metadata": {
        "collapsed": false
      },
      "outputs": [],
      "source": [
        "# \u51c6\u5907\u4e00\u5f20\u5305\u542b\u6587\u672c\u201cMy name is Ming Li\u201d\u7684\u56fe\u7247\u3002\npath_image = \"./example.png\"\nplt.figure(figsize=(8, 3))\nplt.text(0.5, 0.5, \"My name is Ming Li\", ha=\"center\", va=\"center\", fontsize=30)\nplt.axis(\"off\")\nplt.savefig(path_image, bbox_inches=\"tight\", pad_inches=0.1)\nplt.close()"
      ]
    },
    {
      "cell_type": "markdown",
      "metadata": {},
      "source": [
        "\u7136\u540e\u6211\u4eec\u53ef\u4ee5\u6784\u5efa\u4e00\u4e2a\u591a\u6a21\u6001\u77e5\u8bc6\u5e93\uff0c\u6784\u5efa\u8fc7\u7a0b\u4e0e\u7eaf\u6587\u672c\u77e5\u8bc6\u5e93\u7c7b\u4f3c\u3002\u53ea\u662f\u5c06 reader \u548c\u5d4c\u5165\u6a21\u578b\u66ff\u6362\u4e3a\u591a\u6a21\u6001\u7248\u672c\u5373\u53ef\u3002\n\u5728\u4e0b\u9762\u7684\u4f8b\u5b50\u4e2d\uff0c\u6211\u4eec\u4f7f\u7528\u4e86 ``ImageReader`` \u548c ``DashScopeMultiModalEmbedding``\u3002\n\u540c\u65f6\uff0c\u8fd9\u91cc\u6211\u4eec\u4f7f\u7528\u591a\u6a21\u6001\u6a21\u578b ``qwen3-vl-plus`` \u4f5c\u4e3a\u667a\u80fd\u4f53\u7684\u8bed\u8a00\u6a21\u578b\u3002\n\n\n"
      ]
    },
    {
      "cell_type": "code",
      "execution_count": null,
      "metadata": {
        "collapsed": false
      },
      "outputs": [],
      "source": [
        "async def example_multimodal_rag() -&gt; None:\n    \"\"\"\u4f7f\u7528\u591a\u6a21\u6001 RAG \u7684\u793a\u4f8b\u3002\"\"\"\n    # \u4f7f\u7528 ImageReader \u8bfb\u53d6\u56fe\u7247\n    reader = ImageReader()\n    docs = await reader(image_url=path_image)\n\n    # \u521b\u5efa\u4e00\u4e2a\u77e5\u8bc6\u5e93\n    knowledge = SimpleKnowledge(\n        embedding_model=DashScopeMultiModalEmbedding(\n            api_key=os.environ[\"DASHSCOPE_API_KEY\"],\n            model_name=\"multimodal-embedding-v1\",\n            dimensions=1024,\n        ),\n        embedding_store=QdrantStore(\n            location=\":memory:\",\n            collection_name=\"test_collection\",\n            dimensions=1024,\n        ),\n    )\n\n    await knowledge.add_documents(docs)\n\n    agent = ReActAgent(\n        name=\"Friday\",\n        sys_prompt=\"You're a helpful assistant named Friday.\",\n        model=DashScopeChatModel(\n            api_key=os.environ[\"DASHSCOPE_API_KEY\"],\n            model_name=\"qwen3-vl-plus\",\n        ),\n        formatter=DashScopeChatFormatter(),\n        knowledge=knowledge,\n    )\n\n    await agent(\n        Msg(\n            \"user\",\n            \"\u4f60\u77e5\u9053\u6211\u7684\u540d\u5b57\u5417\uff1f\",\n            \"user\",\n        ),\n    )\n\n    # \u8ba9\u6211\u4eec\u770b\u770b\u68c0\u7d22\u5230\u7684\u56fe\u7247\u6570\u636e\u662f\u5426\u5df2\u7ecf\u52a0\u5165\u4e86\u667a\u80fd\u4f53\u7684\u8bb0\u5fc6\u4e2d\n    print(\"\\n\u67e5\u770b\u667a\u80fd\u4f53\u8bb0\u5fc6\u4e2d\u68c0\u7d22\u4fe1\u606f\u5982\u4f55\u63d2\u5165\uff1a\")\n    content = (await agent.memory.get_memory())[-4].content\n    print(json.dumps(content, indent=2, ensure_ascii=False))\n\n\nasyncio.run(example_multimodal_rag())"
      ]
    },
    {
      "cell_type": "markdown",
      "metadata": {},
      "source": [
        "## \u8fdb\u4e00\u6b65\u9605\u8bfb\n- `embedding`\n- `plan`\n\n\n"
      ]
    }
  ],
  "metadata": {
    "kernelspec": {
      "display_name": "Python 3",
      "language": "python",
      "name": "python3"
    },
    "language_info": {
      "codemirror_mode": {
        "name": "ipython",
        "version": 3
      },
      "file_extension": ".py",
      "mimetype": "text/x-python",
      "name": "python",
      "nbconvert_exporter": "python",
      "pygments_lexer": "ipython3",
      "version": "3.10.18"
    }
  },
  "nbformat": 4,
  "nbformat_minor": 0
}</pre><div class="json-formatter-container"></div>