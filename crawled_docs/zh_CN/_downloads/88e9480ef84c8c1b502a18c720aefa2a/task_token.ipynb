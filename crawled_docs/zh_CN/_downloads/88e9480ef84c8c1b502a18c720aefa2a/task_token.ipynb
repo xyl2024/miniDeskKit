<!-- Title:  -->
<!-- URL: https://doc.agentscope.io/zh_CN/_downloads/88e9480ef84c8c1b502a18c720aefa2a/task_token.ipynb -->
<pre>{
  "cells": [
    {
      "cell_type": "markdown",
      "metadata": {},
      "source": [
        "\n\n# Token \u8ba1\u6570\n\nAgentScope \u5728 ``agentscope.token`` \u6a21\u5757\u4e0b\u63d0\u4f9b\u4e86 token \u8ba1\u6570\u529f\u80fd\uff0c\u7528\u4e8e\u8ba1\u7b97\u7ed9\u5b9a\u6d88\u606f\u4e2d\n\u7684 token \u6570\u91cf\uff0c\u5141\u8bb8\u5f00\u53d1\u8005\u5728\u8c03\u7528 LLM API \u524d\u9884\u4f30 token \u6570\u91cf\u3002\n\n\u5177\u4f53\u800c\u8a00\uff0c\u53ef\u7528\u7684 token \u8ba1\u6570\u5668\u5982\u4e0b\uff1a\n\n.. list-table::\n    :header-rows: 1\n\n    * - LLM API\n      - \u7c7b\n      - \u5b9e\u73b0\u65b9\u5f0f\n      - \u652f\u6301\u56fe\u50cf\u6570\u636e\n      - \u652f\u6301\u5de5\u5177\n    * - Anthropic\n      - ``AnthropicTokenCounter``\n      - \u5b98\u65b9 API\n      - \u2705\n      - \u2705\n    * - OpenAI\n      - ``OpenAITokenCounter``\n      - \u672c\u5730\u8ba1\u7b97\n      - \u2705\n      - \u2705\n    * - Gemini\n      - ``GeminiTokenCounter``\n      - \u5b98\u65b9 API\n      - \u2705\n      - \u2705\n    * - HuggingFace\n      - ``HuggingFaceTokenCounter``\n      - \u57fa\u4e8eTokenizer\u8ba1\u7b97\n      - \u53d6\u51b3\u4e8e\u6a21\u578b\n      - \u53d6\u51b3\u4e8e\u6a21\u578b\n\n.. tip:: \u683c\u5f0f\u5316\u5668\u6a21\u5757\u5df2\u96c6\u6210\u4e86 token \u8ba1\u6570\u5668\u4ee5\u652f\u6301\u63d0\u793a\u622a\u65ad\u3002\u66f4\u591a\u8be6\u7ec6\u4fe1\u606f\u8bf7\u53c2\u8003 `prompt` \u90e8\u5206\u3002\n\n&lt;div class=\"alert alert-info\"&gt;&lt;h4&gt;Note&lt;/h4&gt;&lt;p&gt;&lt;/p&gt;&lt;/div&gt;\n - \u5bf9\u4e8e DashScope \u6a21\u578b\uff0c\u76ee\u524d dashscope \u5e93\u4e0d\u63d0\u4f9b token \u8ba1\u6570 API\u3002\u56e0\u6b64\u6211\u4eec\u5efa\u8bae\u4f7f\u7528 HuggingFace token \u8ba1\u6570\u5668\u4ee3\u66ff\u3002\n - \u5bf9\u4e8e OpenAI \u6a21\u578b\uff0c\u7531\u4e8e\u5b98\u65b9\u672a\u63d0\u4f9b token \u8ba1\u6570 API\uff0c\u56e0\u6b64\u53ef\u80fd\u5b58\u5728\u4e0e\u5b98\u65b9\u8ba1\u7b97\u7ed3\u679c\u4e0d\u4e00\u81f4\u7684\u60c5\u51b5\u3002\n\n\u4e0b\u9762\u5c55\u793a\u4f7f\u7528 OpenAI token \u8ba1\u6570\u5668\u8ba1\u7b97 token \u6570\u91cf\u7684\u793a\u4f8b\uff1a\n"
      ]
    },
    {
      "cell_type": "code",
      "execution_count": null,
      "metadata": {
        "collapsed": false
      },
      "outputs": [],
      "source": [
        "import asyncio\nfrom agentscope.token import OpenAITokenCounter\n\n\nasync def example_token_counting():\n    # \u793a\u4f8b\u6d88\u606f\n    messages = [\n        {\"role\": \"user\", \"content\": \"Hello!\"},\n        {\"role\": \"assistant\", \"content\": \"Hi, how can I help you?\"},\n    ]\n\n    # OpenAI token \u8ba1\u6570\n    openai_counter = OpenAITokenCounter(model_name=\"gpt-4.1\")\n    n_tokens = await openai_counter.count(messages)\n\n    print(f\"Token \u6570\u91cf: {n_tokens}\")\n\n\nasyncio.run(example_token_counting())"
      ]
    },
    {
      "cell_type": "markdown",
      "metadata": {},
      "source": [
        "## \u8fdb\u4e00\u6b65\u9605\u8bfb\n\n- `prompt`\n\n\n"
      ]
    }
  ],
  "metadata": {
    "kernelspec": {
      "display_name": "Python 3",
      "language": "python",
      "name": "python3"
    },
    "language_info": {
      "codemirror_mode": {
        "name": "ipython",
        "version": 3
      },
      "file_extension": ".py",
      "mimetype": "text/x-python",
      "name": "python",
      "nbconvert_exporter": "python",
      "pygments_lexer": "ipython3",
      "version": "3.10.18"
    }
  },
  "nbformat": 4,
  "nbformat_minor": 0
}</pre><div class="json-formatter-container"></div>