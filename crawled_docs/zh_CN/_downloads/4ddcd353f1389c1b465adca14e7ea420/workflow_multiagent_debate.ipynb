<!-- Title:  -->
<!-- URL: https://doc.agentscope.io/zh_CN/_downloads/4ddcd353f1389c1b465adca14e7ea420/workflow_multiagent_debate.ipynb -->
<pre>{
  "cells": [
    {
      "cell_type": "markdown",
      "metadata": {},
      "source": [
        "\n\n# Multi-Agent Debate\n\nMulti-Agent debate \u6a21\u62df\u4e0d\u540c\u667a\u80fd\u4f53\u4e4b\u95f4\u7684\u591a\u8f6e\u8ba8\u8bba\u573a\u666f\uff0c\u901a\u5e38\u5305\u62ec\u51e0\u4e2a solver \u548c\u4e00\u4e2a aggregator\u3002\n\u5178\u578b\u60c5\u51b5\u4e0b\uff0csolver \u751f\u6210\u5e76\u4ea4\u6362\u4ed6\u4eec\u7684\u7b54\u6848\uff0c\u800c aggregator \u6536\u96c6\u5e76\u603b\u7ed3\u7b54\u6848\u3002\n\n\u6211\u4eec\u5b9e\u73b0\u4e86 `EMNLP 2024`_ \u4e2d\u7684\u793a\u4f8b\uff0c\u5176\u4e2d\u4e24\u4e2a solver \u667a\u80fd\u4f53\u5c06\u6309\u56fa\u5b9a\u987a\u5e8f\u8ba8\u8bba\u4e00\u4e2a\u8bdd\u9898\uff0c\u6839\u636e\u5148\u524d\u7684\u8fa9\u8bba\u5386\u53f2\u8868\u8fbe\u4ed6\u4eec\u7684\u8bba\u70b9\u3002\n\u5728\u6bcf\u4e00\u8f6e\u4e2d\uff0c\u4e3b\u6301\u4eba\u667a\u80fd\u4f53\u5c06\u51b3\u5b9a\u662f\u5426\u53ef\u4ee5\u5728\u5f53\u524d\u8f6e\u83b7\u5f97\u6700\u7ec8\u7684\u6b63\u786e\u7b54\u6848\u3002\n"
      ]
    },
    {
      "cell_type": "code",
      "execution_count": null,
      "metadata": {
        "collapsed": false
      },
      "outputs": [],
      "source": [
        "import asyncio\nimport os\n\nfrom pydantic import Field, BaseModel\n\nfrom agentscope.agent import ReActAgent\nfrom agentscope.formatter import (\n    DashScopeMultiAgentFormatter,\n)\nfrom agentscope.message import Msg\nfrom agentscope.model import DashScopeChatModel\nfrom agentscope.pipeline import MsgHub\n\n# \u51c6\u5907\u4e00\u4e2a\u8bdd\u9898\ntopic = \"\u4e24\u4e2a\u5706\u5916\u5207\u4e14\u6ca1\u6709\u76f8\u5bf9\u6ed1\u52a8\u3002\u5706A\u7684\u534a\u5f84\u662f\u5706B\u534a\u5f84\u76841/3\u3002\u5706A\u7ed5\u5706B\u6eda\u52a8\u4e00\u5708\u56de\u5230\u8d77\u70b9\u3002\u5706A\u603b\u5171\u4f1a\u65cb\u8f6c\u591a\u5c11\u6b21\uff1f\"\n\n\n# \u521b\u5efa\u4e24\u4e2a\u8fa9\u8bba\u8005\u667a\u80fd\u4f53\uff0cAlice \u548c Bob\uff0c\u4ed6\u4eec\u5c06\u8ba8\u8bba\u8fd9\u4e2a\u8bdd\u9898\u3002\ndef create_solver_agent(name: str) -&gt; ReActAgent:\n    \"\"\"\u83b7\u53d6\u4e00\u4e2a\u89e3\u51b3\u8005\u667a\u80fd\u4f53\u3002\"\"\"\n    return ReActAgent(\n        name=name,\n        sys_prompt=f\"\u4f60\u662f\u4e00\u4e2a\u540d\u4e3a {name} \u7684\u8fa9\u8bba\u8005\u3002\u4f60\u597d\uff0c\u6b22\u8fce\u6765\u5230\"\n        \"\u8fa9\u8bba\u6bd4\u8d5b\u3002\u6211\u4eec\u7684\u76ee\u6807\u662f\u627e\u5230\u6b63\u786e\u7b54\u6848\uff0c\u56e0\u6b64\u4f60\u6ca1\u6709\u5fc5\u8981\u5b8c\u5168\u540c\u610f\u5bf9\u65b9\"\n        f\"\u7684\u89c2\u70b9\u3002\u8fa9\u8bba\u8bdd\u9898\u5982\u4e0b\u6240\u8ff0\uff1a{topic}\",\n        model=DashScopeChatModel(\n            model_name=\"qwen-max\",\n            api_key=os.environ[\"DASHSCOPE_API_KEY\"],\n            stream=False,\n        ),\n        formatter=DashScopeMultiAgentFormatter(),\n    )\n\n\nalice, bob = [create_solver_agent(name) for name in [\"Alice\", \"Bob\"]]\n\n# \u521b\u5efa\u4e3b\u6301\u4eba\u667a\u80fd\u4f53\nmoderator = ReActAgent(\n    name=\"Aggregator\",\n    sys_prompt=f\"\"\"\u4f60\u662f\u4e00\u4e2a\u4e3b\u6301\u4eba\u3002\u5c06\u6709\u4e24\u4e2a\u8fa9\u8bba\u8005\u53c2\u4e0e\u8fa9\u8bba\u6bd4\u8d5b\u3002\u4ed6\u4eec\u5c06\u5c31\u4ee5\u4e0b\u8bdd\u9898\u63d0\u51fa\u89c2\u70b9\u5e76\u8fdb\u884c\u8ba8\u8bba\uff1a\n``````\n{topic}\n``````\n\u5728\u6bcf\u8f6e\u8ba8\u8bba\u7ed3\u675f\u65f6\uff0c\u4f60\u5c06\u8bc4\u4f30\u8fa9\u8bba\u662f\u5426\u7ed3\u675f\uff0c\u4ee5\u53ca\u8bdd\u9898\u6b63\u786e\u7684\u7b54\u6848\u3002\"\"\",\n    model=DashScopeChatModel(\n        model_name=\"qwen-max\",\n        api_key=os.environ[\"DASHSCOPE_API_KEY\"],\n        stream=False,\n    ),\n    # \u4f7f\u7528\u591a\u667a\u80fd\u4f53\u683c\u5f0f\u5316\u5668\uff0c\u56e0\u4e3a\u4e3b\u6301\u4eba\u5c06\u63a5\u6536\u6765\u81ea\u591a\u4e8e\u7528\u6237\u548c\u52a9\u624b\u7684\u6d88\u606f\n    formatter=DashScopeMultiAgentFormatter(),\n)\n\n\n# \u4e3b\u6301\u4eba\u7684\u7ed3\u6784\u5316\u8f93\u51fa\u6a21\u578b\nclass JudgeModel(BaseModel):\n    \"\"\"\u4e3b\u6301\u4eba\u7684\u7ed3\u6784\u5316\u8f93\u51fa\u6a21\u578b\u3002\"\"\"\n\n    finished: bool = Field(description=\"\u8fa9\u8bba\u662f\u5426\u7ed3\u675f\u3002\")\n    correct_answer: str | None = Field(\n        description=\"\u8fa9\u8bba\u8bdd\u9898\u7684\u6b63\u786e\u7b54\u6848\uff0c\u4ec5\u5f53\u8fa9\u8bba\u7ed3\u675f\u65f6\u63d0\u4f9b\u8be5\u5b57\u6bb5\u3002\u5426\u5219\u4fdd\u7559\u4e3a None\u3002\",\n        default=None,\n    )\n\n\nasync def run_multiagent_debate() -&gt; None:\n    \"\"\"\u8fd0\u884c\u591a\u667a\u80fd\u4f53\u8fa9\u8bba\u5de5\u4f5c\u6d41\u3002\"\"\"\n    while True:\n        # MsgHub \u4e2d\u53c2\u4e0e\u8005\u7684\u56de\u590d\u6d88\u606f\u5c06\u5e7f\u64ad\u7ed9\u6240\u6709\u53c2\u4e0e\u8005\u3002\n        async with MsgHub(participants=[alice, bob, moderator]):\n            await alice(\n                Msg(\n                    \"user\",\n                    \"\u4f60\u662f\u6b63\u65b9\uff0c\u8bf7\u8868\u8fbe\u4f60\u7684\u89c2\u70b9\u3002\",\n                    \"user\",\n                ),\n            )\n            await bob(\n                Msg(\n                    \"user\",\n                    \"\u4f60\u662f\u53cd\u65b9\u3002\u4f60\u4e0d\u540c\u610f\u6b63\u65b9\u7684\u89c2\u70b9\u3002\u8bf7\u8868\u8fbe\u4f60\u7684\u89c2\u70b9\u548c\u7406\u7531\u3002\",\n                    \"user\",\n                ),\n            )\n\n        # Alice \u548c Bob \u4e0d\u9700\u8981\u77e5\u9053\u4e3b\u6301\u4eba\u7684\u6d88\u606f\uff0c\u6240\u4ee5\u4e3b\u6301\u4eba\u5728 MsgHub \u5916\u90e8\u8c03\u7528\u3002\n        msg_judge = await moderator(\n            Msg(\n                \"user\",\n                \"\u73b0\u5728\u4f60\u5df2\u7ecf\u542c\u5230\u4e86\u4ed6\u4eec\u7684\u8fa9\u8bba\uff0c\u73b0\u5728\u5224\u65ad\u8fa9\u8bba\u662f\u5426\u7ed3\u675f\uff0c\u4ee5\u53ca\u4f60\u80fd\u5f97\u5230\u6b63\u786e\u7b54\u6848\u5417\uff1f\",\n                \"user\",\n            ),\n            structured_model=JudgeModel,\n        )\n\n        if msg_judge.metadata.get(\"finished\"):\n            print(\n                \"\\n\u8fa9\u8bba\u7ed3\u675f\uff0c\u6b63\u786e\u7b54\u6848\u662f\uff1a\",\n                msg_judge.metadata.get(\"correct_answer\"),\n            )\n            break\n\n\nasyncio.run(run_multiagent_debate())"
      ]
    },
    {
      "cell_type": "markdown",
      "metadata": {},
      "source": [
        "## \u8fdb\u4e00\u6b65\u9605\u8bfb\n\n- `pipeline`\n\nEncouraging Divergent Thinking in Large Language Models through Multi-Agent Debate. EMNLP 2024.\n\n\n"
      ]
    }
  ],
  "metadata": {
    "kernelspec": {
      "display_name": "Python 3",
      "language": "python",
      "name": "python3"
    },
    "language_info": {
      "codemirror_mode": {
        "name": "ipython",
        "version": 3
      },
      "file_extension": ".py",
      "mimetype": "text/x-python",
      "name": "python",
      "nbconvert_exporter": "python",
      "pygments_lexer": "ipython3",
      "version": "3.10.18"
    }
  },
  "nbformat": 4,
  "nbformat_minor": 0
}</pre><div class="json-formatter-container"></div>