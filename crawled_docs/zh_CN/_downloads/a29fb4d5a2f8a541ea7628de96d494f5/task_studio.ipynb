<!-- Title:  -->
<!-- URL: https://doc.agentscope.io/zh_CN/_downloads/a29fb4d5a2f8a541ea7628de96d494f5/task_studio.ipynb -->
<pre>{
  "cells": [
    {
      "cell_type": "markdown",
      "metadata": {},
      "source": [
        "\n\n# AgentScope Studio\n\nAgentScope Studio \u662f\u4e00\u4e2a\u672c\u5730\u90e8\u7f72\u7684 Web \u5e94\u7528\u7a0b\u5e8f\uff0c\u5b83\n\n- \u4e3a\u667a\u80fd\u4f53\u5e94\u7528\u7a0b\u5e8f\u7684\u5f00\u53d1\u63d0\u4f9b **\u9879\u76ee\u7ba1\u7406**\n- \u4e3a\u8fd0\u884c\u4e2d\u7684\u5e94\u7528\u7a0b\u5e8f\u63d0\u4f9b **\u53ef\u89c6\u5316** \u8ffd\u8e2a\n- \u5185\u7f6e\u4e00\u4e2a\u4e3a \"Friday\" \u7684 **\u667a\u80fd\u4f53**\uff0c\u652f\u6301\u7528\u6237\u4e8c\u6b21\u5f00\u53d1\n\n&lt;div class=\"alert alert-info\"&gt;&lt;h4&gt;Note&lt;/h4&gt;&lt;p&gt;Studio \u6b63\u5728\u5feb\u901f\u5f00\u53d1\u4e2d\uff0c\u66f4\u591a\u529f\u80fd\u5373\u5c06\u63a8\u51fa\uff01&lt;/p&gt;&lt;/div&gt;\n\n.. figure:: ../../_static/images/studio_home.webp\n    :width: 100%\n    :alt: AgentScope Studio \u4e3b\u9875\n    :class: bordered-image\n    :align: center\n\n    AgentScope Studio \u4e3b\u9875\n\n## \u5feb\u901f\u5f00\u59cb\n\nAgentScope Studio \u901a\u8fc7 ``npm`` \u5b89\u88c5\uff1a\n\n```bash\nnpm install -g @agentscope/studio\n```\n\u4f7f\u7528\u4ee5\u4e0b\u547d\u4ee4\u542f\u52a8 Studio\uff1a\n\n```bash\nas_studio\n```\n\u8981\u5c06\u5e94\u7528\u7a0b\u5e8f\u8fde\u63a5\u5230 Studio\uff0c\u8bf7\u5728 ``agentscope.init`` \u51fd\u6570\u4e2d\u4f7f\u7528 ``studio_url`` \u53c2\u6570\uff1a\n\n```python\nimport agentscope\n\nagentscope.init(studio_url=\"http://localhost:8000\")\n\n# \u5e94\u7528\u7a0b\u5e8f\u4ee3\u7801\n...\n```\n\u7136\u540e\u53ef\u4ee5\u5728 Studio \u4e2d\u770b\u5230\u8be5\u5e94\u7528\u7a0b\u5e8f\uff0c\u5982\u4e0b\u6240\u793a\uff1a\n\n.. figure:: ../../_static/images/studio_project.webp\n    :width: 100%\n    :alt: \u9879\u76ee\u7ba1\u7406\n    :class: bordered-image\n    :align: center\n\n    AgentScope Studio \u4e2d\u7684\u9879\u76ee\u7ba1\u7406\n\n\u5173\u4e8e\u5e94\u7528\u7a0b\u5e8f\u7684\u8be6\u7ec6\u4fe1\u606f\uff0c\u4f8b\u5982 token \u4f7f\u7528\u60c5\u51b5\u3001\u6a21\u578b\u8c03\u7528\u548c\u8ffd\u8e2a\u4fe1\u606f\uff0c\u90fd\u53ef\u4ee5\u5728 Studio \u4e2d\u67e5\u770b\u3002\n\n.. figure:: ../../_static/images/studio_run.webp\n    :width: 100%\n    :alt: AgentScope Studio \u8fd0\u884c\u9875\u9762\n    :class: bordered-image\n    :align: center\n\n    AgentScope Studio \u4e2d\u7684\u5e94\u7528\u7a0b\u5e8f\u53ef\u89c6\u5316\n\n\n## Friday \u667a\u80fd\u4f53\nFriday \u662f\u7531 AgentScope \u6784\u5efa\u7684\u5b9e\u9a8c\u6027\u672c\u5730\u90e8\u7f72\u667a\u80fd\u4f53\uff0c\u65e8\u5728\n\n- \u56de\u7b54\u5173\u4e8e AgentScope \u5f00\u53d1\u7684\u95ee\u9898\uff0c\n- \u4e3a\u5f00\u53d1\u8005\u63d0\u4f9b\u4fbf\u6377\u7684\u4e8c\u6b21\u5f00\u53d1\u73af\u5883\uff0c\n- \u96c6\u6210 AgentScope \u4e2d\u6240\u6709\u53ef\u7528\u529f\u80fd\u4ee5\u6784\u5efa\u66f4\u5f3a\u5927\u7684\u667a\u80fd\u4f53\uff0c\u4ee5\u53ca\n- \u6301\u7eed\u6d4b\u8bd5\u548c\u96c6\u6210 AgentScope \u4e2d\u7684\u9ad8\u7ea7\u529f\u80fd\u3002\n\n&lt;div class=\"alert alert-info\"&gt;&lt;h4&gt;Note&lt;/h4&gt;&lt;p&gt;\u6211\u4eec\u975e\u5e38\u6b22\u8fce\u5f00\u6e90\u793e\u533a\u8d21\u732e\u5e76\u6539\u8fdb Friday\uff01\u6b22\u8fce\u5728\u6211\u4eec\u7684 [GitHub \u4ed3\u5e93](https://github.com/agentscope-ai/agentscope) \u4e0a\u63d0\u51fa\u95ee\u9898\u6216\u62c9\u53d6\u8bf7\u6c42\u3002&lt;/p&gt;&lt;/div&gt;\n\n\u6211\u4eec\u6b63\u5728\u6301\u7eed\u6539\u8fdb Friday\uff0c\u76ee\u524d\u5b83\u96c6\u6210\u4e86 AgentScope \u4e2d\u7684\u4ee5\u4e0b\u529f\u80fd\uff1a\n\n.. list-table::\n    :header-rows: 1\n\n    * - \u529f\u80fd\n      - \u72b6\u6001\n      - \u8fdb\u4e00\u6b65\u9605\u8bfb\n      - \u63cf\u8ff0\n    * - \u5143\u5de5\u5177\n      - \u2705\n      - `tool`\n      - \u5206\u7ec4\u5de5\u5177\u7ba1\u7406\uff0c\u5141\u8bb8\u667a\u80fd\u4f53\u81ea\u5df1\u66f4\u6539\u88c5\u5907\u7684\u5de5\u5177\u3002\n    * - \u667a\u80fd\u4f53\u94a9\u5b50\n      - \u2705\n      - `hook`\n      - \u4f7f\u7528\u94a9\u5b50\u5c06\u6253\u5370\u6d88\u606f\u8f6c\u53d1\u5230\u524d\u7aef\u3002\n    * - \u667a\u80fd\u4f53\u4e2d\u65ad\n      - \u2705\n      - `agent`\n      - \u5141\u8bb8\u7528\u6237\u901a\u8fc7\u540e\u5904\u7406\u4e2d\u65ad\u667a\u80fd\u4f53\u7684\u56de\u590d\u8fc7\u7a0b\u3002\n    * - \u622a\u65ad\u63d0\u793a\n      - \u2705\n      - `prompt`\n      - \u652f\u6301\u4f7f\u7528\u9884\u8bbe\u7684\u6700\u5927 token \u9650\u5236\u622a\u65ad\u63d0\u793a\u3002\n    * - \u72b6\u6001\u548c\u4f1a\u8bdd\u7ba1\u7406\n      - \u2705\n      - `state`\n      - \u667a\u80fd\u4f53\u7684\u81ea\u52a8\u72b6\u6001\u7ba1\u7406\u548c\u4f1a\u8bdd\u7ba1\u7406\uff0c\u5728\u4e0d\u540c\u8fd0\u884c\u4e4b\u95f4\u7ef4\u62a4\u72b6\u6001\u3002\n    * - \u957f\u671f\u8bb0\u5fc6\n      - \ud83d\udea7\n      - `memory`\n      - \u652f\u6301\u957f\u671f\u8bb0\u5fc6\u7ba1\u7406\u3002\n"
      ]
    }
  ],
  "metadata": {
    "kernelspec": {
      "display_name": "Python 3",
      "language": "python",
      "name": "python3"
    },
    "language_info": {
      "codemirror_mode": {
        "name": "ipython",
        "version": 3
      },
      "file_extension": ".py",
      "mimetype": "text/x-python",
      "name": "python",
      "nbconvert_exporter": "python",
      "pygments_lexer": "ipython3",
      "version": "3.10.18"
    }
  },
  "nbformat": 4,
  "nbformat_minor": 0
}</pre><div class="json-formatter-container"></div>