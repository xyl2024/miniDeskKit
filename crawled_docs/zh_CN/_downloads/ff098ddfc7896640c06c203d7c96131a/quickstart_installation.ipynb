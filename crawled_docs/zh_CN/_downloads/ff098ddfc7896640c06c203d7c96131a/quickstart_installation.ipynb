<!-- Title:  -->
<!-- URL: https://doc.agentscope.io/zh_CN/_downloads/ff098ddfc7896640c06c203d7c96131a/quickstart_installation.ipynb -->
<pre>{
  "cells": [
    {
      "cell_type": "markdown",
      "metadata": {},
      "source": [
        "\n\n# \u5b89\u88c5\n\nAgentScope \u9700\u8981 Python 3.10 \u6216\u66f4\u9ad8\u7248\u672c\u3002\u60a8\u53ef\u4ee5\u4ece\u6e90\u4ee3\u7801\u6216 PyPI \u5b89\u88c5\u3002\n\n## \u4ece PyPI \u5b89\u88c5\n```bash\npip install agentscope\n```\n## \u4ece\u6e90\u4ee3\u7801\u5b89\u88c5\n\u4ece\u6e90\u4ee3\u7801\u5b89\u88c5 AgentScope\uff0c\u9700\u8981\u4ece GitHub \u514b\u9686\u4ed3\u5e93\uff0c\u5e76\u901a\u8fc7\u4ee5\u4e0b\u547d\u4ee4\u5b89\u88c5\n\n```bash\ngit clone -b main https://github.com/agentscope-ai/agentscope\ncd agentscope\npip install -e .\n```\n\u6267\u884c\u4ee5\u4e0b\u4ee3\u7801\u786e\u4fdd AgentScope \u6b63\u5e38\u5b89\u88c5\uff1a\n"
      ]
    },
    {
      "cell_type": "code",
      "execution_count": null,
      "metadata": {
        "collapsed": false
      },
      "outputs": [],
      "source": [
        "import agentscope\n\nprint(agentscope.__version__)"
      ]
    },
    {
      "cell_type": "markdown",
      "metadata": {},
      "source": [
        "## \u989d\u5916\u4f9d\u8d56\n\n\u4e3a\u4e86\u6ee1\u8db3\u4e0d\u540c\u529f\u80fd\u7684\u9700\u6c42\uff0cAgentScope \u63d0\u4f9b\u4e86\u989d\u5916\u4f9d\u8d56\u9879\u3002\n\n- full: \u5305\u542b\u6a21\u578b API \u548c\u5de5\u5177\u51fd\u6570\u7684\u989d\u5916\u4f9d\u8d56\u9879\n- dev: \u5f00\u53d1\u4f9d\u8d56\u9879\uff0c\u5305\u62ec\u6d4b\u8bd5\u548c\u6587\u6863\u5de5\u5177\n\n\u4ee5 full \u6a21\u5f0f\u4e3a\u4f8b\uff0c\u5b89\u88c5\u547d\u4ee4\u6839\u636e\u60a8\u7684\u64cd\u4f5c\u7cfb\u7edf\u800c\u6709\u6240\u4e0d\u540c\u3002\n\n\u5bf9\u4e8e Windows \u7528\u6237\uff1a\n\n```bash\npip install agentscope[full]\n```\n\u5bf9\u4e8e Mac \u548c Linux \u7528\u6237\uff1a\n\n```bash\npip install agentscope\\[full\\]\n```\n"
      ]
    }
  ],
  "metadata": {
    "kernelspec": {
      "display_name": "Python 3",
      "language": "python",
      "name": "python3"
    },
    "language_info": {
      "codemirror_mode": {
        "name": "ipython",
        "version": 3
      },
      "file_extension": ".py",
      "mimetype": "text/x-python",
      "name": "python",
      "nbconvert_exporter": "python",
      "pygments_lexer": "ipython3",
      "version": "3.10.18"
    }
  },
  "nbformat": 4,
  "nbformat_minor": 0
}</pre><div class="json-formatter-container"></div>