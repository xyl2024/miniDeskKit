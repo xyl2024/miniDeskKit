<!-- Title:  -->
<!-- URL: https://doc.agentscope.io/zh_CN/_downloads/78801218992541b6da6586f399b20cbd/task_state.ipynb -->
<pre>{
  "cells": [
    {
      "cell_type": "markdown",
      "metadata": {},
      "source": [
        "\n\n# \u72b6\u6001/\u4f1a\u8bdd\u7ba1\u7406\n\n\u5728 AgentScope \u4e2d\uff0c**\"\u72b6\u6001\"** \u662f\u6307\u667a\u80fd\u4f53\u5728\u8fd0\u884c\u4e2d\u67d0\u4e00\u65f6\u523b\u7684\u6570\u636e\u5feb\u7167\uff0c\u5305\u62ec\u5176\u5f53\u524d\u7684\u7cfb\u7edf\u63d0\u793a\u3001\u8bb0\u5fc6\u3001\u4e0a\u4e0b\u6587\u3001\u88c5\u5907\u7684\u5de5\u5177\u4ee5\u53ca\u5176\u4ed6 **\u968f\u65f6\u95f4\u53d8\u5316** \u7684\u4fe1\u606f\u3002\n\n\u4e3a\u4e86\u7ba1\u7406\u5e94\u7528\u7a0b\u5e8f\u7684\u72b6\u6001\uff0cAgentScope \u8bbe\u8ba1\u5b9e\u73b0\u4e86 **\u81ea\u52a8\u72b6\u6001\u6ce8\u518c** \u548c **\u4f1a\u8bdd\u7ea7\u72b6\u6001\u7ba1\u7406**\uff0c\u5177\u6709\u4ee5\u4e0b\u7279\u6027\uff1a\n\n- \u652f\u6301\u6240\u6709\u7ee7\u627f\u81ea ``StateModule`` \u7684\u53d8\u91cf\u7684 **\u81ea\u52a8\u72b6\u6001\u6ce8\u518c**\n- \u652f\u6301\u4f7f\u7528\u81ea\u5b9a\u4e49\u5e8f\u5217\u5316/\u53cd\u5e8f\u5217\u5316\u65b9\u6cd5\u7684 **\u624b\u52a8\u72b6\u6001\u6ce8\u518c**\n- \u652f\u6301 **\u4f1a\u8bdd/\u5e94\u7528\u7a0b\u5e8f\u7ea7\u522b\u7ba1\u7406**\n"
      ]
    },
    {
      "cell_type": "code",
      "execution_count": null,
      "metadata": {
        "collapsed": false
      },
      "outputs": [],
      "source": [
        "import asyncio\nimport json\nimport os\n\nfrom agentscope.agent import ReActAgent\nfrom agentscope.formatter import DashScopeChatFormatter\nfrom agentscope.memory import InMemoryMemory\nfrom agentscope.message import Msg\nfrom agentscope.model import DashScopeChatModel\nfrom agentscope.module import StateModule\nfrom agentscope.session import JSONSession\nfrom agentscope.tool import Toolkit"
      ]
    },
    {
      "cell_type": "markdown",
      "metadata": {},
      "source": [
        "## \u72b6\u6001\u6a21\u5757\n\n``StateModule`` \u7c7b\u662f AgentScope \u4e2d\u72b6\u6001\u7ba1\u7406\u7684\u57fa\u7840\uff0c\u63d0\u4f9b\u4e09\u4e2a\u57fa\u672c\u51fd\u6570\uff1a\n\n.. list-table:: ``StateModule`` \u7684\u65b9\u6cd5\n    :header-rows: 1\n\n    * - \u65b9\u6cd5\n      - \u53c2\u6570\n      - \u63cf\u8ff0\n    * - ``register_state``\n      - | ``attr_name``,\n        | ``custom_to_json`` \uff08\u53ef\u9009\uff09,\n        | ``custom_from_json`` \uff08\u53ef\u9009\uff09\n      - \u5c06\u5c5e\u6027\u6ce8\u518c\u4e3a\u5176\u72b6\u6001\uff0c\u5e26\u6709\u53ef\u9009\u7684\u5e8f\u5217\u5316/\u53cd\u5e8f\u5217\u5316\u51fd\u6570\u3002\n    * - ``state_dict``\n      -\n      - \u83b7\u53d6\u5f53\u524d\u5bf9\u8c61\u7684\u72b6\u6001\u5b57\u5178\n    * - ``load_state_dict``\n      - | ``state_dict``,\n        | ``strict`` \uff08\u53ef\u9009\uff09\n      - \u5c06\u72b6\u6001\u5b57\u5178\u52a0\u8f7d\u5230\u5f53\u524d\u5bf9\u8c61\n\n\u5728 ``StateModule`` \u7684\u5bf9\u8c61\u4e2d\uff0c\u4ee5\u4e0b\u6240\u6709\u5c5e\u6027\u90fd\u5c06\u88ab\u89c6\u4e3a\u5176\u72b6\u6001\u7684\u4e00\u90e8\u5206\uff1a\n\n- \u7ee7\u627f\u81ea ``StateModule`` \u7684 **\u5c5e\u6027**\n- \u901a\u8fc7 ``register_state`` \u65b9\u6cd5\u6ce8\u518c\u7684 **\u5c5e\u6027**\n\n\u6ce8\u610f ``StateModule`` \u652f\u6301 **\u5d4c\u5957** \u5e8f\u5217\u5316\u548c\u53cd\u5e8f\u5217\u5316\uff0c\u4f8b\u5982\u4e0b\u9762\u7684\u793a\u4f8b\u4e2d\uff0c``ClassB`` \u4e2d\u5305\u542b\u4e00\u4e2a ``ClassA`` \u7684\u5b9e\u4f8b\uff1a\n\n\n"
      ]
    },
    {
      "cell_type": "code",
      "execution_count": null,
      "metadata": {
        "collapsed": false
      },
      "outputs": [],
      "source": [
        "class ClassA(StateModule):\n    def __init__(self) -&gt; None:\n        super().__init__()\n        self.cnt = 123\n        # \u5c06 cnt \u5c5e\u6027\u6ce8\u518c\u4e3a\u72b6\u6001\n        self.register_state(\"cnt\")\n\n\nclass ClassB(StateModule):\n    def __init__(self) -&gt; None:\n        super().__init__()\n\n        # \u5c5e\u6027 \"a\" \u7ee7\u627f\u81ea StateModule\uff0c\u5c06\u81ea\u52a8\u89c6\u4e3a\u72b6\u6001\u7684\u4e00\u90e8\u5206\n        self.a = ClassA()\n\n        # \u624b\u52a8\u5c06\u5c5e\u6027 \"c\" \u6ce8\u518c\u4e3a\u72b6\u6001\n        self.c = \"Hello, world!\"\n        self.register_state(\"c\")\n\n\nobj_b = ClassB()\n\nprint(\"obj_b.a \u7684\u72b6\u6001\uff1a\")\nprint(obj_b.a.state_dict())\n\nprint(\"\\nobj_b \u7684\u72b6\u6001\uff1a\")\nprint(json.dumps(obj_b.state_dict(), indent=4))"
      ]
    },
    {
      "cell_type": "markdown",
      "metadata": {},
      "source": [
        "\u6211\u4eec\u53ef\u4ee5\u89c2\u5bdf\u5230 ``obj_b`` \u7684\u72b6\u6001\u81ea\u52a8\u5305\u542b\u4e86\u5176\u5c5e\u6027 ``a`` \u7684\u72b6\u6001\u3002\n\n\u5728 AgentScope \u4e2d\uff0c``AgentBase``\u3001``MemoryBase``\u3001``LongTermMemoryBase`` \u548c ``Toolkit`` \u7c7b\u90fd\u7ee7\u627f\u81ea ``StateModule``\uff0c\u56e0\u6b64\u652f\u6301\u81ea\u52a8\u548c\u5d4c\u5957\u72b6\u6001\u7ba1\u7406\u3002\n\n\n"
      ]
    },
    {
      "cell_type": "code",
      "execution_count": null,
      "metadata": {
        "collapsed": false
      },
      "outputs": [],
      "source": [
        "# \u521b\u5efa\u4e00\u4e2a\u667a\u80fd\u4f53\nagent = ReActAgent(\n    name=\"Friday\",\n    sys_prompt=\"\u4f60\u662f\u4e00\u4e2a\u540d\u4e3a Friday \u7684\u52a9\u624b\u3002\",\n    model=DashScopeChatModel(\n        model_name=\"qwen-max\",\n        api_key=os.environ[\"DASHSCOPE_API_KEY\"],\n    ),\n    formatter=DashScopeChatFormatter(),\n    memory=InMemoryMemory(),\n    toolkit=Toolkit(),\n)\n\ninitial_state = agent.state_dict()\n\nprint(\"\u667a\u80fd\u4f53\u7684\u521d\u59cb\u72b6\u6001\uff1a\")\nprint(json.dumps(initial_state, indent=4, ensure_ascii=False))"
      ]
    },
    {
      "cell_type": "markdown",
      "metadata": {},
      "source": [
        "\u7136\u540e\u6211\u4eec\u901a\u8fc7\u751f\u6210\u56de\u590d\u6d88\u606f\u6765\u6539\u53d8\u5176\u72b6\u6001\uff1a\n\n\n"
      ]
    },
    {
      "cell_type": "code",
      "execution_count": null,
      "metadata": {
        "collapsed": false
      },
      "outputs": [],
      "source": [
        "async def example_agent_state() -&gt; None:\n    \"\"\"\u667a\u80fd\u4f53\u72b6\u6001\u7ba1\u7406\u793a\u4f8b\u3002\"\"\"\n    await agent(Msg(\"user\", \"\u4f60\u597d\uff0c\u667a\u80fd\u4f53\uff01\", \"user\"))\n\n    print(\"\u751f\u6210\u56de\u590d\u540e\u667a\u80fd\u4f53\u7684\u72b6\u6001\uff1a\")\n    print(json.dumps(agent.state_dict(), indent=4, ensure_ascii=False))\n\n\nasyncio.run(example_agent_state())"
      ]
    },
    {
      "cell_type": "markdown",
      "metadata": {},
      "source": [
        "\u73b0\u5728\u6211\u4eec\u5c06\u667a\u80fd\u4f53\u7684\u72b6\u6001\u6062\u590d\u5230\u521d\u59cb\u72b6\u6001\uff1a\n\n\n"
      ]
    },
    {
      "cell_type": "code",
      "execution_count": null,
      "metadata": {
        "collapsed": false
      },
      "outputs": [],
      "source": [
        "agent.load_state_dict(initial_state)\n\nprint(\"\u52a0\u8f7d\u521d\u59cb\u72b6\u6001\u540e\uff1a\")\nprint(json.dumps(agent.state_dict(), indent=4, ensure_ascii=False))"
      ]
    },
    {
      "cell_type": "markdown",
      "metadata": {},
      "source": [
        "## \u4f1a\u8bdd\u7ba1\u7406\n\n\u4f1a\u8bdd\uff08Session\uff09\u662f\u5e94\u7528\u7a0b\u5e8f\u4e2d\u72b6\u6001\u7684\u96c6\u5408\uff0c\u4f8b\u5982\u591a\u4e2a\u667a\u80fd\u4f53\u3002\n\nAgentScope \u63d0\u4f9b\u4e86 ``SessionBase`` \u7c7b\uff0c\u5305\u542b\u4e24\u4e2a\u7528\u4e8e\u4f1a\u8bdd\u7ba1\u7406\u7684\u62bd\u8c61\u65b9\u6cd5\uff1a``save_session_state`` \u548c ``load_session_state``\u3002\n\u5f00\u53d1\u8005\u53ef\u4ee5\u7ee7\u627f\u8be5\u7c7b\u6765\u5b9e\u73b0\u81ea\u5df1\u7684\u72b6\u6001\u4fdd\u5b58\u65b9\u6848\uff0c\u4f8b\u5982\u5bf9\u63a5\u5230\u81ea\u5df1\u7684\u6570\u636e\u5e93\u6216\u6587\u4ef6\u7cfb\u7edf\u3002\n\n\u5728 AgentScope \u4e2d\uff0c\u6211\u4eec\u63d0\u4f9b\u4e86\u57fa\u4e8e JSON \u548c\u6587\u4ef6\u7cfb\u7edf\u7684\u7684\u4f1a\u8bdd\u7c7b ``JSONSession``\uff0c\n\u5b83\u4f1a\u5c06\u72b6\u6001\u4fdd\u5b58\u5230\u4f1a\u5316 ID \u547d\u540d\u7684 JSON \u6587\u4ef6\u4e2d\uff0c\u4e5f\u53ef\u4ee5\u4ece\u4e2d\u52a0\u8f7d\u72b6\u6001\u3002\n\n### \u4fdd\u5b58\u4f1a\u8bdd\u72b6\u6001\n\n\n"
      ]
    },
    {
      "cell_type": "code",
      "execution_count": null,
      "metadata": {
        "collapsed": false
      },
      "outputs": [],
      "source": [
        "# \u901a\u8fc7\u751f\u6210\u56de\u590d\u6d88\u606f\u6539\u53d8\u667a\u80fd\u4f53\u72b6\u6001\nasyncio.run(example_agent_state())\n\nprint(\"\\n\u667a\u80fd\u4f53\u7684\u72b6\u6001\uff1a\")\nprint(json.dumps(agent.state_dict(), indent=4, ensure_ascii=False))"
      ]
    },
    {
      "cell_type": "markdown",
      "metadata": {},
      "source": [
        "\u7136\u540e\u6211\u4eec\u5c06\u5176\u4fdd\u5b58\u5230\u4f1a\u8bdd\u6587\u4ef6\u4e2d\uff1a\n\n"
      ]
    },
    {
      "cell_type": "code",
      "execution_count": null,
      "metadata": {
        "collapsed": false
      },
      "outputs": [],
      "source": [
        "session = JSONSession(\n    save_dir=\"./\",  # \u4fdd\u5b58\u6240\u6709session\u6587\u4ef6\u7684\u76ee\u5f55\n)\n\n\nasync def example_session() -&gt; None:\n    \"\"\"\u4f1a\u8bdd\u7ba1\u7406\u793a\u4f8b\u3002\"\"\"\n\n    # \u53ef\u4ee5\u4fdd\u5b58\u591a\u4e2a\u72b6\u6001\uff0c\u53ea\u9700\u8981\u8f93\u5165\u7684\u5bf9\u8c61\u4e3a `StateModule` \u7684\u5b50\u7c7b\u3002\n    await session.save_session_state(\n        session_id=\"user_bob\",\n        agent=agent,\n    )\n\n    print(\"\u4fdd\u5b58\u7684\u72b6\u6001\uff1a\")\n    with open(\"./user_bob.json\", \"r\", encoding=\"utf-8\") as f:\n        print(json.dumps(json.load(f), indent=4, ensure_ascii=False))\n\n\nasyncio.run(example_session())"
      ]
    },
    {
      "cell_type": "markdown",
      "metadata": {},
      "source": [
        "### \u52a0\u8f7d\u4f1a\u8bdd\u72b6\u6001\n\u7136\u540e\u6211\u4eec\u53ef\u4ee5\u4ece\u4f1a\u8bdd\u6587\u4ef6\u4e2d\u52a0\u8f7d\u72b6\u6001\uff1a\n\n\n"
      ]
    },
    {
      "cell_type": "code",
      "execution_count": null,
      "metadata": {
        "collapsed": false
      },
      "outputs": [],
      "source": [
        "async def example_load_session() -&gt; None:\n    \"\"\"\u52a0\u8f7d\u4f1a\u8bdd\u72b6\u6001\u793a\u4f8b\u3002\"\"\"\n\n    # \u6e05\u7a7a\u667a\u80fd\u4f53\u72b6\u6001\n    await agent.memory.clear()\n\n    print(\"\u5f53\u524d\u667a\u80fd\u4f53\u72b6\u6001\uff1a\")\n    print(json.dumps(agent.state_dict(), indent=4, ensure_ascii=False))\n\n    # \u4ece\u4f1a\u8bdd\u6587\u4ef6\u4e2d\u52a0\u8f7d\u72b6\u6001\n    await session.load_session_state(\n        session_id=\"user_bob\",\n        # \u8fd9\u91cc\u4f7f\u7528\u7684\u5173\u952e\u8bcd\u53c2\u6570\u5fc5\u987b\u4e0e `save_session_state` \u4e2d\u7684\u53c2\u6570\u4e00\u81f4\n        agent=agent,\n    )\n    print(\"\u52a0\u8f7d\u4f1a\u8bdd\u72b6\u6001\u540e\u667a\u80fd\u4f53\u7684\u72b6\u6001\uff1a\")\n    print(json.dumps(agent.state_dict(), indent=4, ensure_ascii=False))\n\n\nasyncio.run(example_load_session())"
      ]
    },
    {
      "cell_type": "markdown",
      "metadata": {},
      "source": [
        "\u6b64\u65f6\u6211\u4eec\u53ef\u4ee5\u89c2\u5bdf\u5230\u667a\u80fd\u4f53\u7684\u72b6\u6001\u5df2\u7ecf\u6062\u590d\u5230\u4e4b\u524d\u4fdd\u5b58\u7684\u72b6\u6001\u3002\n\n\n"
      ]
    }
  ],
  "metadata": {
    "kernelspec": {
      "display_name": "Python 3",
      "language": "python",
      "name": "python3"
    },
    "language_info": {
      "codemirror_mode": {
        "name": "ipython",
        "version": 3
      },
      "file_extension": ".py",
      "mimetype": "text/x-python",
      "name": "python",
      "nbconvert_exporter": "python",
      "pygments_lexer": "ipython3",
      "version": "3.10.18"
    }
  },
  "nbformat": 4,
  "nbformat_minor": 0
}</pre><div class="json-formatter-container"></div>