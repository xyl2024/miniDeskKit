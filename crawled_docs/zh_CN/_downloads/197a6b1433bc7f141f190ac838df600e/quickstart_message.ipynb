<!-- Title:  -->
<!-- URL: https://doc.agentscope.io/zh_CN/_downloads/197a6b1433bc7f141f190ac838df600e/quickstart_message.ipynb -->
<pre>{
  "cells": [
    {
      "cell_type": "markdown",
      "metadata": {},
      "source": [
        "\n\n# \u521b\u5efa\u6d88\u606f\n\n\u6d88\u606f\u662f AgentScope \u4e2d\u7684\u6838\u5fc3\u6982\u5ff5\uff0c\u7528\u4e8e\u652f\u6301\u591a\u6a21\u6001\u6570\u636e\u3001\u5de5\u5177 API\u3001\u4fe1\u606f\u5b58\u50a8/\u4ea4\u6362\u548c\u63d0\u793a\u6784\u5efa\u3002\n\n\u4e00\u4e2a\u6d88\u606f\u7531\u56db\u4e2a\u5b57\u6bb5\u7ec4\u6210\uff1a\n\n- ``name``\uff0c\n- ``role``\uff0c\n- ``content``\uff0c\u4ee5\u53ca\n- ``metadata``\n\n\u8fd9\u4e9b\u5b57\u6bb5\u7684\u7c7b\u578b\u548c\u542b\u4e49\u5982\u4e0b\uff1a\n\n.. list-table:: \u6d88\u606f\u5bf9\u8c61\u4e2d\u7684\u5b57\u6bb5\n    :header-rows: 1\n\n    * - \u5b57\u6bb5\n      - \u7c7b\u578b\n      - \u63cf\u8ff0\n    * - name\n      - ``str``\n      - \u6d88\u606f\u53d1\u9001\u8005\u7684\u540d\u79f0/\u8eab\u4efd\n    * - role\n      - | ``Literal[``\n        |     ``\"system\",``\n        |     ``\"assistant\",``\n        |     ``\"user\"``\n        | ``]``\n      - \u6d88\u606f\u53d1\u9001\u8005\u7684\u89d2\u8272\uff0c\u5fc5\u987b\u662f \"system\"\u3001\"assistant\" \u6216 \"user\" \u4e4b\u4e00\u3002\n    * - content\n      - ``str | list[ContentBlock]``\n      - \u6d88\u606f\u5305\u542b\u7684\u6570\u636e\uff0c\u53ef\u4ee5\u662f\u5b57\u7b26\u4e32\u6216 block \u7684\u5217\u8868\u3002\n    * - metadata\n      - ``dict[str, JSONSerializableObject] | None``\n      - \u5305\u542b\u989d\u5916\u5143\u6570\u636e\u7684\u5b57\u5178\uff0c\u901a\u5e38\u7528\u4e8e\u7ed3\u6784\u5316\u8f93\u51fa\u3002\n\n.. tip:: - \u5728\u5177\u6709\u591a\u4e2a\u8eab\u4efd\u5b9e\u4f53\u7684\u5e94\u7528\u7a0b\u5e8f\u4e2d\uff0c``name`` \u5b57\u6bb5\u7528\u4e8e\u533a\u5206\u4e0d\u540c\u7684\u8eab\u4efd\u3002\n - \u5efa\u8bae\u5c06 ``metadata`` \u5b57\u6bb5\u7528\u4e8e\u7ed3\u6784\u5316\u8f93\u51fa\uff0c\u5728 AgentScope \u5185\u7f6e\u7684\u6a21\u5757\u4e2d\uff0c``metadata`` \u4e0d\u4f1a\u53c2\u4e0e LLM \u7684\u63d0\u793a\u6784\u5efa\u3002\n\n\u63a5\u4e0b\u6765\uff0c\u6211\u4eec\u6839\u636e\u4e0d\u540c\u7684\u573a\u666f\u5206\u522b\u4ecb\u7ecd ``content`` \u5b57\u6bb5\u4e2d\u652f\u6301\u7684\u4e0d\u540c\u6570\u636e\u7ed3\u6784\uff08block\uff09\u3002\n"
      ]
    },
    {
      "cell_type": "code",
      "execution_count": null,
      "metadata": {
        "collapsed": false
      },
      "outputs": [],
      "source": [
        "from agentscope.message import (\n    Msg,\n    Base64Source,\n    TextBlock,\n    ThinkingBlock,\n    ImageBlock,\n    AudioBlock,\n    VideoBlock,\n    ToolUseBlock,\n    ToolResultBlock,\n)\nimport json"
      ]
    },
    {
      "cell_type": "markdown",
      "metadata": {},
      "source": [
        "## \u521b\u5efa\u6587\u672c\u6d88\u606f\n\u901a\u8fc7\u63d0\u4f9b ``name``\u3001``role`` \u548c ``content`` \u5b57\u6bb5\u6765\u521b\u5efa\u6d88\u606f\u5bf9\u8c61\u3002\n\n\n"
      ]
    },
    {
      "cell_type": "code",
      "execution_count": null,
      "metadata": {
        "collapsed": false
      },
      "outputs": [],
      "source": [
        "msg = Msg(\n    name=\"Jarvis\",\n    role=\"assistant\",\n    content=\"\u4f60\u597d\uff01\u6211\u80fd\u600e\u4e48\u5e2e\u52a9\u4f60\uff1f\",\n)\n\nprint(f\"\u53d1\u9001\u8005\u7684\u540d\u79f0: {msg.name}\")\nprint(f\"\u53d1\u9001\u8005\u7684\u89d2\u8272: {msg.role}\")\nprint(f\"\u6d88\u606f\u7684\u5185\u5bb9: {msg.content}\")"
      ]
    },
    {
      "cell_type": "markdown",
      "metadata": {},
      "source": [
        "## \u521b\u5efa\u591a\u6a21\u6001\u6d88\u606f\nMessage \u7c7b\u901a\u8fc7\u63d0\u4f9b\u4e0d\u540c\u7684 block \u7ed3\u6784\u6765\u652f\u6301\u591a\u6a21\u6001\u5185\u5bb9\uff1a\n\n.. list-table:: AgentScope \u4e2d\u7684\u591a\u6a21\u6001 block\n    :header-rows: 1\n\n    * - \u7c7b\n      - \u63cf\u8ff0\n      - \u793a\u4f8b\n    * - TextBlock\n      - \u7eaf\u6587\u672c\u6570\u636e\n      -```python\nTextBlock(\n   type=\"text\",\n   text=\"Hello, world!\"\n)\n```\n    * - ImageBlock\n      - \u56fe\u50cf\u6570\u636e\n      -```python\nImageBlock(\n   type=\"image\",\n   source=URLSource(\n       type=\"url\",\n       url=\"https://example.com/image.jpg\"\n   )\n)\n```\n    * - AudioBlock\n      - \u97f3\u9891\u6570\u636e\n      -```python\nAudioBlock(\n   type=\"audio\",\n   source=URLSource(\n       type=\"url\",\n       url=\"https://example.com/audio.mp3\"\n   )\n)\n```\n    * - VideoBlock\n      - \u89c6\u9891\u6570\u636e\n      -```python\nVideoBlock(\n   type=\"video\",\n   source=URLSource(\n       type=\"url\",\n       url=\"https://example.com/video.mp4\"\n   )\n)\n```\n\u5bf9\u4e8e ``ImageBlock``\u3001``AudioBlock`` \u548c ``VideoBlock``\uff0c\u8fd8\u53ef\u4ee5\u4f7f\u7528 base64 \u7f16\u7801\u7684\u5b57\u7b26\u4e32\u4f5c\u4e3a\u6570\u636e\u6e90\uff08Source\uff09\uff1a\n\n\n"
      ]
    },
    {
      "cell_type": "code",
      "execution_count": null,
      "metadata": {
        "collapsed": false
      },
      "outputs": [],
      "source": [
        "msg = Msg(\n    name=\"Jarvis\",\n    role=\"assistant\",\n    content=[\n        TextBlock(\n            type=\"text\",\n            text=\"\u8fd9\u662f\u4e00\u4e2a\u5305\u542b base64 \u7f16\u7801\u6570\u636e\u7684\u591a\u6a21\u6001\u6d88\u606f\u3002\",\n        ),\n        ImageBlock(\n            type=\"image\",\n            source=Base64Source(\n                type=\"base64\",\n                media_type=\"image/jpeg\",\n                data=\"/9j/4AAQSkZ...\",\n            ),\n        ),\n        AudioBlock(\n            type=\"audio\",\n            source=Base64Source(\n                type=\"base64\",\n                media_type=\"audio/mpeg\",\n                data=\"SUQzBAAAAA...\",\n            ),\n        ),\n        VideoBlock(\n            type=\"video\",\n            source=Base64Source(\n                type=\"base64\",\n                media_type=\"video/mp4\",\n                data=\"AAAAIGZ0eX...\",\n            ),\n        ),\n    ],\n)"
      ]
    },
    {
      "cell_type": "markdown",
      "metadata": {},
      "source": [
        "## \u521b\u5efa\u63a8\u7406\u6d88\u606f\n``ThinkingBlock`` \u7528\u4e8e\u652f\u6301\u63a8\u7406\u6a21\u578b\uff0c\u5305\u542b\u6a21\u578b\u7684\u601d\u8003\u8fc7\u7a0b\u3002\n\n\n"
      ]
    },
    {
      "cell_type": "code",
      "execution_count": null,
      "metadata": {
        "collapsed": false
      },
      "outputs": [],
      "source": [
        "msg_thinking = Msg(\n    name=\"Jarvis\",\n    role=\"assistant\",\n    content=[\n        ThinkingBlock(\n            type=\"thinking\",\n            thinking=\"\u6211\u6b63\u5728\u4e3a AgentScope \u6784\u5efa\u4e00\u4e2a\u601d\u8003\u5757\u7684\u793a\u4f8b\u3002\",\n        ),\n        TextBlock(\n            type=\"text\",\n            text=\"\u8fd9\u662f\u4e00\u4e2a\u601d\u8003\u5757\u7684\u793a\u4f8b\u3002\",\n        ),\n    ],\n)"
      ]
    },
    {
      "cell_type": "markdown",
      "metadata": {},
      "source": [
        "\n## \u521b\u5efa\u5de5\u5177\u4f7f\u7528/\u7ed3\u679c\u6d88\u606f\n``ToolUseBlock`` \u548c ``ToolResultBlock`` \u7528\u4e8e\u652f\u6301\u5de5\u5177 API\uff1a\n\n\n"
      ]
    },
    {
      "cell_type": "code",
      "execution_count": null,
      "metadata": {
        "collapsed": false
      },
      "outputs": [],
      "source": [
        "msg_tool_call = Msg(\n    name=\"Jarvis\",\n    role=\"assistant\",\n    content=[\n        ToolUseBlock(\n            type=\"tool_use\",\n            id=\"343\",\n            name=\"get_weather\",\n            input={\n                \"location\": \"Beijing\",\n            },\n        ),\n    ],\n)\n\nmsg_tool_res = Msg(\n    name=\"system\",\n    role=\"system\",\n    content=[\n        ToolResultBlock(\n            type=\"tool_result\",\n            id=\"343\",\n            name=\"get_weather\",\n            output=\"\u5317\u4eac\u7684\u5929\u6c14\u662f\u6674\u5929\uff0c\u6e29\u5ea6\u4e3a 25\u00b0C\u3002\",\n        ),\n    ],\n)"
      ]
    },
    {
      "cell_type": "markdown",
      "metadata": {},
      "source": [
        ".. tip:: AgentScope \u4e2d\uff0c\u901a\u5e38\u4f7f\u7528 ``role`` \u4e3a\u201csystem\u201d\u7684\u6d88\u606f\u6765\u8bb0\u5f55\u5de5\u5177\u51fd\u6570\u7684\u6267\u884c\u7ed3\u679c\u3002\u6709\u5173 AgentScope \u4e2d\u5de5\u5177\u7684\u66f4\u591a\u4fe1\u606f\uff0c\u8bf7\u53c2\u8003 `tool` \u90e8\u5206\u3002\n\n## \u5e8f\u5217\u5316\u548c\u53cd\u5e8f\u5217\u5316\n\u6d88\u606f\u5bf9\u8c61\u53ef\u4ee5\u5206\u522b\u901a\u8fc7 ``to_dict`` \u548c ``from_dict`` \u65b9\u6cd5\u8fdb\u884c\u5e8f\u5217\u5316\u548c\u53cd\u5e8f\u5217\u5316\u3002\n\n"
      ]
    },
    {
      "cell_type": "code",
      "execution_count": null,
      "metadata": {
        "collapsed": false
      },
      "outputs": [],
      "source": [
        "serialized_msg = msg.to_dict()\n\nprint(type(serialized_msg))\nprint(json.dumps(serialized_msg, indent=4, ensure_ascii=False))"
      ]
    },
    {
      "cell_type": "markdown",
      "metadata": {},
      "source": [
        "\u4ece JSON \u683c\u5f0f\u7684\u6570\u636e\u53cd\u5e8f\u5217\u5316\u6d88\u606f\u3002\n\n"
      ]
    },
    {
      "cell_type": "code",
      "execution_count": null,
      "metadata": {
        "collapsed": false
      },
      "outputs": [],
      "source": [
        "new_msg = Msg.from_dict(serialized_msg)\n\nprint(type(new_msg))\nprint(f'\u6d88\u606f\u7684\u53d1\u9001\u8005: \"{new_msg.name}\"')\nprint(f'\u53d1\u9001\u8005\u7684\u89d2\u8272: \"{new_msg.role}\"')\nprint(f'\u6d88\u606f\u7684\u5185\u5bb9: \"{json.dumps(new_msg.content, indent=4, ensure_ascii=False)}\"')"
      ]
    },
    {
      "cell_type": "markdown",
      "metadata": {},
      "source": [
        "## \u5c5e\u6027\u51fd\u6570\n\u4e3a\u4e86\u4fbf\u4e8e\u4f7f\u7528 Msg \u5bf9\u8c61\uff0cAgentScope \u63d0\u4f9b\u4e86\u4ee5\u4e0b\u51fd\u6570\uff1a\n\n.. list-table:: Msg \u5bf9\u8c61\u7684\u51fd\u6570\n  :header-rows: 1\n\n  * - \u51fd\u6570\n    - \u53c2\u6570\n    - \u63cf\u8ff0\n  * - ``get_text_content``\n    -\n    - \u5c06\u6240\u6709 ``TextBlock`` \u4e2d\u7684\u5185\u5bb9\u6536\u96c6\u5230\u5355\u4e2a\u5b57\u7b26\u4e32\u4e2d\uff08\u7528 \"\\\\n\" \u5206\u9694\uff09\u3002\n  * - ``get_content_blocks``\n    - ``block_type``\n    - \u8fd4\u56de\u6307\u5b9a\u7c7b\u578b\u7684\u5185\u5bb9\u5757\u5217\u8868\u3002\u5982\u679c\u672a\u63d0\u4f9b ``block_type``\uff0c\u5219\u4ee5\u5757\u683c\u5f0f\u8fd4\u56de\u5168\u90e8\u5185\u5bb9\u3002\n  * - ``has_content_blocks``\n    - ``block_type``\n    - \u68c0\u67e5\u6d88\u606f\u662f\u5426\u5177\u6709\u6307\u5b9a\u7c7b\u578b\u7684\u5185\u5bb9\u5757\u3002``str`` \u5185\u5bb9\u4f1a\u88ab\u89c6\u4e3a ``TextBlock`` \u7c7b\u578b\u3002\n\n"
      ]
    }
  ],
  "metadata": {
    "kernelspec": {
      "display_name": "Python 3",
      "language": "python",
      "name": "python3"
    },
    "language_info": {
      "codemirror_mode": {
        "name": "ipython",
        "version": 3
      },
      "file_extension": ".py",
      "mimetype": "text/x-python",
      "name": "python",
      "nbconvert_exporter": "python",
      "pygments_lexer": "ipython3",
      "version": "3.10.18"
    }
  },
  "nbformat": 4,
  "nbformat_minor": 0
}</pre><div class="json-formatter-container"></div>