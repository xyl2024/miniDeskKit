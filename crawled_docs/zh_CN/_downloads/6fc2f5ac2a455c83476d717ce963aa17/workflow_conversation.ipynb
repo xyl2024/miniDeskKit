<!-- Title:  -->
<!-- URL: https://doc.agentscope.io/zh_CN/_downloads/6fc2f5ac2a455c83476d717ce963aa17/workflow_conversation.ipynb -->
<pre>{
  "cells": [
    {
      "cell_type": "markdown",
      "metadata": {},
      "source": [
        "\n\n# Conversation\n\nConversation \u662f\u4e00\u79cd\u667a\u80fd\u4f53\u95f4\u4ea4\u6362\u548c\u5171\u4eab\u4fe1\u606f\u7684\u8bbe\u8ba1\u6a21\u5f0f\uff0c\u5e38\u89c1\u4e8e\u6e38\u620f\u3001\u804a\u5929\u673a\u5668\u4eba\u548c\u591a\u667a\u80fd\u4f53\u8ba8\u8bba\u573a\u666f\u3002\n\n\u5728 AgentScope \u4e2d\uff0cconversation \u7684\u6784\u5efa\u5728 **\u663e\u5f0f\u7684\u6d88\u606f\u4f20\u9012** \u57fa\u7840\u4e0a\u3002\u5728\u672c\u7ae0\u4e2d\uff0c\u6211\u4eec\u5c06\u6f14\u793a\u5982\u4f55\u6784\u5efa\uff1a\n\n- User-assistant \u4e4b\u95f4\u7684\u5bf9\u8bdd\uff08\u804a\u5929\u673a\u5668\u4eba\uff09\n- \u591a\u5b9e\u4f53\u5bf9\u8bdd\uff08\u6e38\u620f\u3001\u8ba8\u8bba\u7b49\uff09\n\n\u5b83\u4eec\u7684\u4e3b\u8981\u533a\u522b\u5728\u4e8e\n\n- **\u63d0\u793a\u7684\u6784\u5efa\u65b9\u5f0f**\uff0c\u4ee5\u53ca\n- \u4fe1\u606f\u5728\u667a\u80fd\u4f53\u4e4b\u95f4\u7684 **\u4f20\u64ad/\u5171\u4eab** \u65b9\u5f0f\u3002\n"
      ]
    },
    {
      "cell_type": "code",
      "execution_count": null,
      "metadata": {
        "collapsed": false
      },
      "outputs": [],
      "source": [
        "import asyncio\nimport json\nimport os\n\nfrom agentscope.agent import ReActAgent, UserAgent\nfrom agentscope.memory import InMemoryMemory\nfrom agentscope.formatter import (\n    DashScopeChatFormatter,\n    DashScopeMultiAgentFormatter,\n)\nfrom agentscope.model import DashScopeChatModel\nfrom agentscope.message import Msg\nfrom agentscope.pipeline import MsgHub\nfrom agentscope.tool import Toolkit"
      ]
    },
    {
      "cell_type": "markdown",
      "metadata": {},
      "source": [
        "## User-Assistant \u5bf9\u8bdd\nUser-assistant \u5bf9\u8bdd\uff0c\u4e5f\u79f0\u4e3a\u804a\u5929\u673a\u5668\u4eba\uff08chatbot\uff09\uff0c\u662f\u6700\u5e38\u89c1\u7684\u667a\u80fd\u4f53\u5e94\u7528\uff0c\u4e5f\u662f\u5f53\u524d\u5927\u591a\u6570 LLM API \u7684\u8bbe\u8ba1\u6a21\u5f0f\u3002\n\u5728\u8fd9\u79cd\u5bf9\u8bdd\u53ea\u6709\u4e24\u4e2a\u53c2\u4e0e\u8005\uff1a\u7528\u6237\uff08user\uff09\u548c\u667a\u80fd\u4f53\uff08assistant\uff09\u3002\n\n\u5728 AgentScope \u4e2d\uff0c\u540d\u79f0\u4e2d\u5e26\u6709 **\"Chat\"** \u7684\u683c\u5f0f\u5316\u5668\u4e13\u4e3a user-assistant \u5bf9\u8bdd\u8bbe\u8ba1\uff0c\n\u5982 ``DashScopeChatFormatter``\u3001``AnthropicChatFormatter`` \u7b49\u3002\n\u5b83\u4eec\u4f7f\u7528\u6d88\u606f\u4e2d\u7684 ``role`` \u5b57\u6bb5\u6765\u533a\u5206\u7528\u6237\u548c\u667a\u80fd\u4f53\uff0c\u5e76\u76f8\u5e94\u5730\u683c\u5f0f\u5316\u6d88\u606f\u3002\n\n\u8fd9\u91cc\u6211\u4eec\u6784\u5efa\u667a\u80fd\u4f53 ``Friday`` \u548c\u7528\u6237\u4e4b\u95f4\u7684\u7b80\u5355\u5bf9\u8bdd\u3002\n\n.. tip:: AgentScope \u63d0\u4f9b\u4e86\u5185\u7f6e\u7684 ``UserAgent`` \u7c7b\uff0c\u7528\u4e8e\u4eba\u673a\u4ea4\u4e92\uff08HITL\uff09\u3002\u66f4\u591a\u8be6\u7ec6\u4fe1\u606f\u8bf7\u53c2\u8003 `user-agent`\u3002\n\n\n"
      ]
    },
    {
      "cell_type": "code",
      "execution_count": null,
      "metadata": {
        "collapsed": false
      },
      "outputs": [],
      "source": [
        "friday = ReActAgent(\n    name=\"Friday\",\n    sys_prompt=\"\u4f60\u662f\u4e00\u4e2a\u540d\u4e3a Friday \u7684\u6709\u7528\u52a9\u624b\",\n    model=DashScopeChatModel(\n        model_name=\"qwen-max\",\n        api_key=os.environ[\"DASHSCOPE_API_KEY\"],\n    ),\n    formatter=DashScopeChatFormatter(),  # \u7528\u4e8e user-assistant \u5bf9\u8bdd\u7684\u683c\u5f0f\u5316\u5668\n    memory=InMemoryMemory(),\n    toolkit=Toolkit(),\n)\n\n# \u521b\u5efa\u7528\u6237\u667a\u80fd\u4f53\nuser = UserAgent(name=\"User\")"
      ]
    },
    {
      "cell_type": "markdown",
      "metadata": {},
      "source": [
        "\u73b0\u5728\uff0c\u6211\u4eec\u53ef\u4ee5\u901a\u8fc7\u5728\u8fd9\u4e24\u4e2a\u667a\u80fd\u4f53\u4e4b\u95f4\u4ea4\u6362\u6d88\u606f\u6765\u5f00\u59cb\u5bf9\u8bdd\uff0c\u76f4\u5230\u7528\u6237\u8f93\u5165\"exit\"\u7ed3\u675f\u5bf9\u8bdd\u3002\n\n```python\nasync def run_conversation() -&gt; None:\n    \"\"\"\u8fd0\u884c Friday \u548c\u7528\u6237\u4e4b\u95f4\u7684\u7b80\u5355\u5bf9\u8bdd\u3002\"\"\"\n    msg = None\n    while True:\n        msg = await friday(msg)\n        msg = await user(msg)\n        if msg.get_text_content() == \"exit\":\n            break\n\nasyncio.run(run_conversation())\n```\n"
      ]
    },
    {
      "cell_type": "markdown",
      "metadata": {},
      "source": [
        "## \u591a\u5b9e\u4f53\u5bf9\u8bdd\n\u5982\u5f00\u5934\u6240\u8ff0\uff0c\u6211\u4eec\u6f14\u793a\u5982\u4f55\u5728 **\u63d0\u793a\u6784\u5efa** \u548c **\u4fe1\u606f\u5171\u4eab** \u65b9\u9762\u6784\u5efa\u591a\u667a\u80fd\u4f53\u5bf9\u8bdd\u3002\n\n### \u6784\u5efa\u63d0\u793a\n\u5728 AgentScope \u4e2d\uff0c\u6211\u4eec\u4e3a\u591a\u667a\u80fd\u4f53\u5bf9\u8bdd\u63d0\u4f9b\u4e86\u5185\u7f6e\u683c\u5f0f\u5316\u5668\uff0c\u5176\u540d\u79f0\u4e2d\u5e26\u6709 **\"MultiAgent\"**\uff0c\n\u5982 ``DashScopeMultiAgentFormatter``\u3001``AnthropicMultiAgentFormatter`` \u7b49\u3002\n\n\u5177\u4f53\u800c\u8a00\uff0c\u5b83\u4eec\u4f7f\u7528\u6d88\u606f\u4e2d\u7684 ``name`` \u5b57\u6bb5\u6765\u533a\u5206\u4e0d\u540c\u7684\u5b9e\u4f53\uff0c\u5e76\u5c06\u5bf9\u8bdd\u5386\u53f2\u683c\u5f0f\u5316\u4e3a\u5355\u4e2a\u7528\u6237\u6d88\u606f\u3002\n\u4ee5 ``DashScopeMultiAgentFormatter`` \u4e3a\u4f8b\uff1a\n\n.. tip:: \u6709\u5173\u683c\u5f0f\u5316\u5668\u7684\u66f4\u591a\u8be6\u7ec6\u4fe1\u606f\u53ef\u4ee5\u5728 `prompt` \u4e2d\u627e\u5230\u3002\n\n\n"
      ]
    },
    {
      "cell_type": "code",
      "execution_count": null,
      "metadata": {
        "collapsed": false
      },
      "outputs": [],
      "source": [
        "async def example_multi_agent_prompt() -&gt; None:\n    msgs = [\n        Msg(\"system\", \"\u4f60\u662f\u4e00\u4e2a\u540d\u4e3a Bob \u7684\u6709\u7528\u52a9\u624b\u3002\", \"system\"),\n        Msg(\"Alice\", \"\u55e8\uff01\", \"user\"),\n        Msg(\"Bob\", \"\u55e8\uff01\u5f88\u9ad8\u5174\u89c1\u5230\u5927\u5bb6\u3002\", \"assistant\"),\n        Msg(\"Charlie\", \"\u6211\u4e5f\u662f\uff01\u987a\u4fbf\u8bf4\u4e00\u4e0b\uff0c\u6211\u662f Charlie\u3002\", \"assistant\"),\n    ]\n\n    formatter = DashScopeMultiAgentFormatter()\n    prompt = await formatter.format(msgs)\n\n    print(\"\u683c\u5f0f\u5316\u7684\u63d0\u793a\uff1a\")\n    print(json.dumps(prompt, indent=4, ensure_ascii=False))\n\n    # \u6211\u4eec\u5728\u8fd9\u91cc\u6253\u5370\u7ec4\u5408\u7528\u6237\u6d88\u606f\u7684\u5185\u5bb9\u4ee5\u4fbf\u66f4\u597d\u5730\u7406\u89e3\uff1a\n    print(\"-------------\")\n    print(\"\u7ec4\u5408\u6d88\u606f\")\n    print(prompt[1][\"content\"])\n\n\nasyncio.run(example_multi_agent_prompt())"
      ]
    },
    {
      "cell_type": "markdown",
      "metadata": {},
      "source": [
        "### \u6d88\u606f\u5171\u4eab\n\u5728\u591a\u667a\u80fd\u4f53\u5bf9\u8bdd\u4e2d\uff0c\u663e\u5f0f\u4ea4\u6362\u6d88\u606f\u53ef\u80fd\u4e0d\u591f\u9ad8\u6548\u548c\u4fbf\u5229\uff0c\n\u7279\u522b\u662f\u5728\u591a\u4e2a\u667a\u80fd\u4f53\u4e4b\u95f4\u5e7f\u64ad\u6d88\u606f\u65f6\u3002\n\n\u56e0\u6b64\uff0cAgentScope \u63d0\u4f9b\u4e86\u4e00\u4e2a\u540d\u4e3a ``MsgHub`` \u7684\u5f02\u6b65\u4e0a\u4e0b\u6587\u7ba1\u7406\u5668\u6765\u7b80\u5316\u6d88\u606f\u5e7f\u64ad\u3002\n\u5177\u4f53\u800c\u8a00\uff0c\u540c\u4e00\u4e2a ``MsgHub`` \u4e2d\u7684\u667a\u80fd\u4f53\u5c06\u81ea\u52a8\u63a5\u6536\u5176\u5b83\u53c2\u4e0e\u8005\u901a\u8fc7 ``reply`` \u51fd\u6570\u8fd4\u56de\u7684\u6d88\u606f\u3002\n\n\u4e0b\u9762\u6211\u4eec\u6784\u5efa\u4e00\u4e2a\u591a\u4eba\u804a\u5929\u7684\u573a\u666f\uff0c\u591a\u4e2a\u667a\u80fd\u4f53\u626e\u6f14\u4e0d\u540c\u7684\u89d2\u8272\uff1a\n\n\n"
      ]
    },
    {
      "cell_type": "code",
      "execution_count": null,
      "metadata": {
        "collapsed": false
      },
      "outputs": [],
      "source": [
        "model = DashScopeChatModel(\n    model_name=\"qwen-max\",\n    api_key=os.environ[\"DASHSCOPE_API_KEY\"],\n)\nformatter = DashScopeMultiAgentFormatter()\n\nalice = ReActAgent(\n    name=\"Alice\",\n    sys_prompt=\"\u4f60\u662f\u4e00\u4e2a\u540d\u4e3a Alice \u7684\u5b66\u751f\u3002\",\n    model=model,\n    formatter=formatter,\n)\n\nbob = ReActAgent(\n    name=\"Bob\",\n    sys_prompt=\"\u4f60\u662f\u4e00\u4e2a\u540d\u4e3a Bob \u7684\u5b66\u751f\u3002\",\n    model=model,\n    formatter=formatter,\n)\n\ncharlie = ReActAgent(\n    name=\"Charlie\",\n    sys_prompt=\"\u4f60\u662f\u4e00\u4e2a\u540d\u4e3a Charlie \u7684\u5b66\u751f\u3002\",\n    model=model,\n    formatter=formatter,\n)\n\n\nasync def example_msghub() -&gt; None:\n    \"\"\"\u4f7f\u7528 MsgHub \u8fdb\u884c\u591a\u667a\u80fd\u4f53\u5bf9\u8bdd\u7684\u793a\u4f8b\u3002\"\"\"\n    async with MsgHub(\n        [alice, bob, charlie],\n        # \u8fdb\u5165 MsgHub \u65f6\u7684\u516c\u544a\u6d88\u606f\n        announcement=Msg(\n            \"system\",\n            \"\u73b0\u5728\u5927\u5bb6\u4e92\u76f8\u8ba4\u8bc6\u4e00\u4e0b\uff0c\u7b80\u5355\u81ea\u6211\u4ecb\u7ecd\u3002\",\n            \"system\",\n        ),\n    ):\n        await alice()\n        await bob()\n        await charlie()\n\n\nasyncio.run(example_msghub())"
      ]
    },
    {
      "cell_type": "markdown",
      "metadata": {},
      "source": [
        "\u73b0\u5728\u6211\u4eec\u6253\u5370 Alice \u7684\u8bb0\u5fc6\uff0c\u68c0\u67e5\u5979\u7684\u8bb0\u5fc6\u662f\u5426\u6b63\u786e\u66f4\u65b0\u3002\n\n\n"
      ]
    },
    {
      "cell_type": "code",
      "execution_count": null,
      "metadata": {
        "collapsed": false
      },
      "outputs": [],
      "source": [
        "async def example_memory() -&gt; None:\n    \"\"\"\u6253\u5370 Alice \u7684\u8bb0\u5fc6\u3002\"\"\"\n    print(\"Alice \u7684\u8bb0\u5fc6\uff1a\")\n    for msg in await alice.memory.get_memory():\n        print(\n            f\"{msg.name}: {json.dumps(msg.content, indent=4, ensure_ascii=False)}\",\n        )\n\n\nasyncio.run(example_memory())"
      ]
    },
    {
      "cell_type": "markdown",
      "metadata": {},
      "source": [
        "## \u8fdb\u4e00\u6b65\u9605\u8bfb\n\n- `prompt`\n- `pipeline`\n\n\n"
      ]
    }
  ],
  "metadata": {
    "kernelspec": {
      "display_name": "Python 3",
      "language": "python",
      "name": "python3"
    },
    "language_info": {
      "codemirror_mode": {
        "name": "ipython",
        "version": 3
      },
      "file_extension": ".py",
      "mimetype": "text/x-python",
      "name": "python",
      "nbconvert_exporter": "python",
      "pygments_lexer": "ipython3",
      "version": "3.10.18"
    }
  },
  "nbformat": 4,
  "nbformat_minor": 0
}</pre><div class="json-formatter-container"></div>