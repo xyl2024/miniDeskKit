<!-- Title:  -->
<!-- URL: https://doc.agentscope.io/zh_CN/_downloads/dfe7448b311839d65e0e1c6dc9aeb195/task_prompt.ipynb -->
<pre>{
  "cells": [
    {
      "cell_type": "markdown",
      "metadata": {},
      "source": [
        "\n\n# \u63d0\u793a\u8bcd\u683c\u5f0f\u5316\n\nAgentScope \u4e2d\u7684\u683c\u5f0f\u5316\u5668\uff08formatter\uff09\u6a21\u5757\u8d1f\u8d23\n\n- \u5c06 Msg \u5bf9\u8c61\u8f6c\u6362\u4e3a\u4e0d\u540c LLM API \u8981\u6c42\u7684\u683c\u5f0f\uff0c\n- \uff08\u53ef\u9009\uff09\u622a\u65ad\u6d88\u606f\u4ee5\u9002\u5e94 max_token \u7684\u9650\u5236\uff0c\n- \uff08\u53ef\u9009\uff09\u6267\u884c\u63d0\u793a\u5de5\u7a0b\uff0c\u4f8b\u5982\u5bf9\u957f\u5bf9\u8bdd\u8fdb\u884c\u603b\u7ed3\u3002\n\n\u540e\u4e24\u4e2a\u529f\u80fd\u662f\u53ef\u9009\u7684\uff0c\u5f00\u53d1\u8005\u4e5f\u53ef\u4ee5\u9009\u62e9\u5728\u8bb0\u5fc6\uff08memory\uff09\u6216\u667a\u80fd\u4f53\uff08agent\uff09\u5c42\u9762\u8fdb\u884c\u5904\u7406\u548c\u5b9e\u73b0\u3002\n\n\u5728 AgentScope \u4e2d\uff0c\u6709\u4e24\u79cd\u7c7b\u578b\u7684\u683c\u5f0f\u5316\u5668\uff1a\"ChatFormatter\" \u548c \"MultiAgentFormatter\"\uff0c\u5b83\u4eec\u6839\u636e\u8f93\u5165\u6d88\u606f\u4e2d\u7684\u201c\u8eab\u4efd\u5b9e\u4f53\u201d\u8fdb\u884c\u533a\u5206\u3002\n\n- **ChatFormatter**\uff1a\u4e13\u4e3a\u6807\u51c6\u7684\u7528\u6237-\u52a9\u624b\u573a\u666f\uff08\u804a\u5929\u673a\u5668\u4eba\uff09\u8bbe\u8ba1\uff0c\u4f7f\u7528 ``role`` \u5b57\u6bb5\u6765\u8bc6\u522b\u7528\u6237\u548c\u52a9\u624b\u3002\n- **MultiAgentFormatter**\uff1a\u4e13\u4e3a\u591a\u667a\u80fd\u4f53\u573a\u666f\u8bbe\u8ba1\uff0c\u4f7f\u7528 ``name`` \u5b57\u6bb5\u6765\u8bc6\u522b\u4e0d\u540c\u7684\u5b9e\u4f53\uff0c\u5728\u683c\u5f0f\u5316\u7684\u8fc7\u7a0b\u4e2d\u4f1a\u5c06\u591a\u667a\u80fd\u4f53\u7684\u5bf9\u8bdd\u5386\u53f2\u5408\u5e76\u4e3a\u5355\u4e2a\u6d88\u606f\u3002\n\nAgentScope \u5185\u7f6e\u7684\u683c\u5f0f\u5316\u5668\u5982\u4e0b\u6240\u5217\n\n.. list-table:: AgentScope \u4e2d\u7684\u5185\u7f6e\u683c\u5f0f\u5316\u5668\n    :header-rows: 1\n\n    * - API \u63d0\u4f9b\u5546\n      - \u7528\u6237-\u52a9\u624b\u573a\u666f\n      - \u591a\u667a\u80fd\u4f53\u573a\u666f\n    * - OpenAI\n      - ``OpenAIChatFormatter``\n      - ``OpenAIMultiAgentFormatter``\n    * - Anthropic\n      - ``AnthropicChatFormatter``\n      - ``AnthropicMultiAgentFormatter``\n    * - DashScope\n      - ``DashScopeChatFormatter``\n      - ``DashScopeMultiAgentFormatter``\n    * - Gemini\n      - ``GeminiChatFormatter``\n      - ``GeminiChatFormatter``\n    * - Ollama\n      - ``OllamaChatFormatter``\n      - ``OllamaMultiAgentFormatter``\n    * - DeedSeek\n      - ``DeepSeekChatFormatter``\n      - ``DeepSeekMultiAgentFormatter``\n    * - vLLM\n      - ``OpenAIFormatter``\n      - ``OpenAIFormatter``\n\n.. tip:: OpenAI API \u652f\u6301 `name` \u5b57\u6bb5\uff0c\u56e0\u6b64 `OpenAIFormatter` \u4e5f\u53ef\u4ee5\u7528\u4e8e\u591a\u667a\u80fd\u4f53\u573a\u666f\u3002\u4e5f\u53ef\u4ee5\u4f7f\u7528 `OpenAIMultiAgentFormatter` \u4ee3\u66ff\uff0c\u5b83\u4f1a\u5c06\u5bf9\u8bdd\u5386\u53f2\u5408\u5e76\u4e3a\u5355\u4e2a\u7528\u6237\u6d88\u606f\u3002\n\n\u6b64\u5916\uff0c\u5185\u7f6e\u683c\u5f0f\u5316\u5668\u5bf9\u4e8e\u4e0d\u540c\u7684\u6d88\u606f\u5757\uff08message blocks\uff09\u7684\u652f\u6301\u60c5\u51b5\u5982\u4e0b\u8868\u6240\u793a\uff1a\n\n.. list-table:: \u5185\u7f6e\u683c\u5f0f\u5316\u5668\u4e2d\u652f\u6301\u7684\u6d88\u606f\u5757\n    :header-rows: 1\n\n    * - \u683c\u5f0f\u5316\u5668\n      - tool_use/result\n      - image\n      - audio\n      - video\n      - thinking\n    * - ``OpenAIChatFormatter``\n      - \u2705\n      - \u2705\n      - \u2705\n      - \u274c\n      -\n    * - ``DashScopeChatFormatter``\n      - \u2705\n      - \u2705\n      - \u2705\n      - \u274c\n      -\n    * - ``DashScopeMultiAgentFormatter``\n      - \u2705\n      - \u2705\n      - \u2705\n      - \u274c\n      -\n    * - ``AnthropicChatFormatter``\n      - \u2705\n      - \u2705\n      - \u274c\n      - \u274c\n      - \u2705\n    * - ``AnthropicMultiAgentFormatter``\n      - \u2705\n      - \u2705\n      - \u274c\n      - \u274c\n      - \u2705\n    * - ``GeminiChatFormatter``\n      - \u2705\n      - \u2705\n      - \u2705\n      - \u2705\n      -\n    * - ``GeminiMultiAgentFormatter``\n      - \u2705\n      - \u2705\n      - \u2705\n      - \u2705\n      -\n    * - ``OllamaChatFormatter``\n      - \u2705\n      - \u2705\n      - \u274c\n      - \u274c\n      -\n    * - ``OllamaMultiAgentFormatter``\n      - \u2705\n      - \u2705\n      - \u274c\n      - \u274c\n      -\n    * - ``DeepSeekChatFormatter``\n      - \u2705\n      - \u274c\n      - \u274c\n      - \u274c\n      -\n    * - ``DeepSeekMultiAgentFormatter``\n      - \u2705\n      - \u274c\n      - \u274c\n      - \u274c\n      -\n\n&lt;div class=\"alert alert-info\"&gt;&lt;h4&gt;Note&lt;/h4&gt;&lt;p&gt;\u5982 [\u5b98\u65b9\u6587\u6863](https://docs.anthropic.com/en/docs/build-with-claude/extended-thinking#preserving-thinking-blocks) \u6240\u8ff0\uff0c\u53ea\u6709 Anthropic \u5efa\u8bae\u5728\u8f93\u5165\u7684\u63d0\u793a\u8bcd\u4e2d\u4fdd\u7559\u63a8\u7406\u7684\u90e8\u5206\uff08thinking blocks\uff09\u3002\u5bf9\u4e8e\u5176\u5b83\u683c\u5f0f\u5316\u5668\uff0c\u6211\u4eec\u5ffd\u7565\u8f93\u5165\u6d88\u606f\u4e2d\u5305\u542b\u7684 ``ThinkingBlock``\u3002&lt;/p&gt;&lt;/div&gt;\n\n## \u9762\u5411 ReAct \u7684\u683c\u5f0f\u5316\n\u5185\u7f6e\u7684 formatter \u5747\u9762\u5411 ReAct \u667a\u80fd\u4f53\u8fdb\u884c\u8bbe\u8ba1\uff0c\u5176\u4e2d\u8f93\u5165\u6d88\u606f\u7531\u4ea4\u66ff\u7684 **\u5bf9\u8bdd\u5386\u53f2** \u548c **\u5de5\u5177\u8c03\u7528\u5e8f\u5217** \u7ec4\u6210\u3002\n\n\u5728\u7528\u6237-\u52a9\u624b\u573a\u666f\u4e2d\uff0c\u5bf9\u8bdd\u5386\u53f2\u662f\u7528\u6237\u548c\u52a9\u624b\u7684\u6d88\u606f\uff0c\u6211\u4eec\u76f4\u63a5\u5c06\u5b83\u4eec\u8f6c\u6362\u4e3a\u6240\u671f\u671b\u7684\u683c\u5f0f\u3002\n\u7136\u800c\uff0c\u5728\u591a\u667a\u80fd\u4f53\u573a\u666f\u4e2d\uff0c\u5bf9\u8bdd\u5386\u53f2\u662f\u6765\u81ea\u4e0d\u540c\u667a\u80fd\u4f53\u7684\u6d88\u606f\u5217\u8868\uff0c\u5982\u4e0b\u6240\u793a\uff1a\n\n.. figure:: ../../_static/images/multiagent_msgs.png\n    :alt: \u591a\u667a\u80fd\u4f53\u6d88\u606f\u793a\u4f8b\n    :width: 85%\n    :align: center\n\n    *\u591a\u667a\u80fd\u4f53\u6d88\u606f\u793a\u4f8b*\n\n\n\u56e0\u6b64\uff0c\u6211\u4eec\u5fc5\u987b\u5c06\u5bf9\u8bdd\u5386\u53f2\u5408\u5e76\u4e3a\u5e26\u6709\u6807\u7b7e \"&lt;history&gt;\" \u548c \"&lt;/history&gt;\" \u7684\u5355\u4e2a\u7528\u6237\u6d88\u606f\u3002\n\u4ee5 DashScope \u4e3a\u4f8b\uff0c\u683c\u5f0f\u5316\u540e\u7684\u6d88\u606f\u5c06\u5982\u4e0b\u6240\u793a\uff1a\n"
      ]
    },
    {
      "cell_type": "code",
      "execution_count": null,
      "metadata": {
        "collapsed": false
      },
      "outputs": [],
      "source": [
        "from agentscope.token import HuggingFaceTokenCounter\nfrom agentscope.formatter import DashScopeMultiAgentFormatter\nfrom agentscope.message import Msg, ToolResultBlock, ToolUseBlock, TextBlock\nimport asyncio, json\n\n\ninput_msgs = [\n    # \u7cfb\u7edf\u63d0\u793a\n    Msg(\"system\", \"\u4f60\u662f\u4e00\u4e2a\u540d\u4e3a Friday \u7684\u6709\u7528\u52a9\u624b\", \"system\"),\n    # \u5bf9\u8bdd\u5386\u53f2\n    Msg(\"Bob\", \"\u4f60\u597d\uff0cAlice\uff0c\u4f60\u77e5\u9053\u6700\u8fd1\u7684\u56fe\u4e66\u9986\u5728\u54ea\u91cc\u5417\uff1f\", \"assistant\"),\n    Msg(\n        \"Alice\",\n        \"\u62b1\u6b49\uff0c\u6211\u4e0d\u77e5\u9053\u3002Charlie\uff0c\u4f60\u6709\u4ec0\u4e48\u60f3\u6cd5\u5417\uff1f\",\n        \"assistant\",\n    ),\n    Msg(\n        \"Charlie\",\n        \"\u6ca1\u6709\uff0c\u6211\u4eec\u95ee\u95ee Friday \u5427\u3002Friday\uff0c\u5e2e\u6211\u627e\u5230\u6700\u8fd1\u7684\u56fe\u4e66\u9986\u3002\",\n        \"assistant\",\n    ),\n    # \u5de5\u5177\u5e8f\u5217\n    Msg(\n        \"Friday\",\n        [\n            ToolUseBlock(\n                type=\"tool_use\",\n                name=\"get_current_location\",\n                id=\"1\",\n                input={},\n            ),\n        ],\n        \"assistant\",\n    ),\n    Msg(\n        \"system\",\n        [\n            ToolResultBlock(\n                type=\"tool_result\",\n                name=\"get_current_location\",\n                id=\"1\",\n                output=[TextBlock(type=\"text\", text=\"104.48, 36.30\")],\n            ),\n        ],\n        \"system\",\n    ),\n    Msg(\n        \"Friday\",\n        [\n            ToolUseBlock(\n                type=\"tool_use\",\n                name=\"search_around\",\n                id=\"2\",\n                input={\"location\": [104.48, 36.30], \"keyword\": \"library\"},\n            ),\n        ],\n        \"assistant\",\n    ),\n    Msg(\n        \"system\",\n        [\n            ToolResultBlock(\n                type=\"tool_result\",\n                name=\"search_around\",\n                id=\"2\",\n                output=[TextBlock(type=\"text\", text=\"[...]\")],\n            ),\n        ],\n        \"system\",\n    ),\n    # \u5bf9\u8bdd\u5386\u53f2\u7ee7\u7eed\n    Msg(\"Friday\", \"\u6700\u8fd1\u7684\u56fe\u4e66\u9986\u662f...\", \"assistant\"),\n    Msg(\"Bob\", \"\u8c22\u8c22\uff0cFriday\uff01\", \"user\"),\n    Msg(\"Alice\", \"\u6211\u4eec\u4e00\u8d77\u53bb\u5427\u3002\", \"user\"),\n]\n\n\nasync def run_formatter_example() -&gt; list[dict]:\n    \"\"\"\u591a\u667a\u80fd\u4f53\u6d88\u606f\u683c\u5f0f\u5316\u793a\u4f8b\u3002\"\"\"\n    formatter = DashScopeMultiAgentFormatter()\n    formatted_message = await formatter.format(input_msgs)\n    print(\"\u683c\u5f0f\u5316\u540e\u7684\u6d88\u606f\uff1a\")\n    print(json.dumps(formatted_message, indent=4, ensure_ascii=False))\n    return formatted_message\n\n\nformatted_message = asyncio.run(run_formatter_example())"
      ]
    },
    {
      "cell_type": "markdown",
      "metadata": {},
      "source": [
        "\u5177\u4f53\u6765\u8bf4\uff0c\u5bf9\u8bdd\u5386\u53f2\u88ab\u683c\u5f0f\u5316\u4e3a\uff1a\n\n\n"
      ]
    },
    {
      "cell_type": "code",
      "execution_count": null,
      "metadata": {
        "collapsed": false
      },
      "outputs": [],
      "source": [
        "print(\"\u7b2c\u4e00\u6bb5\u5bf9\u8bdd\u5386\u53f2\uff1a\")\nprint(formatted_message[1][\"content\"])\n\nprint(\"\\n\u7b2c\u4e8c\u6bb5\u5bf9\u8bdd\u5386\u53f2\uff1a\")\nprint(formatted_message[-1][\"content\"])"
      ]
    },
    {
      "cell_type": "markdown",
      "metadata": {},
      "source": [
        "## \u57fa\u4e8e\u622a\u65ad\u7684\u683c\u5f0f\u5316\n\u901a\u8fc7 AgentScope \u4e2d\u7684 token \u6a21\u5757\uff0c\u5185\u7f6e\u683c\u5f0f\u5316\u5668\u652f\u6301\u901a\u8fc7 **\u5220\u9664\u6700\u65e7\u7684\u6d88\u606f**\uff08\u9664\u4e86\u7cfb\u7edf\u63d0\u793a\u6d88\u606f\uff09\u5728 token \u8d85\u8fc7\u9650\u5236\u65f6\u622a\u65ad\u8f93\u5165\u6d88\u606f\u3002\n\n\u4ee5 OpenAIFormatter \u4e3a\u4f8b\uff0c\u6211\u4eec\u9996\u5148\u8ba1\u7b97\u8f93\u5165\u6d88\u606f\u7684\u603b token \u6570\u3002\n\n\n"
      ]
    },
    {
      "cell_type": "code",
      "execution_count": null,
      "metadata": {
        "collapsed": false
      },
      "outputs": [],
      "source": [
        "async def run_token_counter() -&gt; int:\n    \"\"\"\u8ba1\u7b97\u8f93\u5165\u6d88\u606f\u7684 token \u6570\u91cf\u3002\"\"\"\n    # \u6211\u4eec\u4f7f\u7528 huggingface token \u8ba1\u6570\u5668\u7528\u4e8e dashscope \u6a21\u578b\u3002\n    token_counter = HuggingFaceTokenCounter(\n        \"Qwen/Qwen2.5-VL-3B-Instruct\",\n        use_mirror=False,\n    )\n\n    return await token_counter.count(formatted_message)\n\n\nn_tokens = asyncio.run(run_token_counter())\nprint(\"\u683c\u5f0f\u5316\u6d88\u606f\u4e2d\u7684 token \u6570\u91cf\u4e3a\uff1a\", n_tokens)"
      ]
    },
    {
      "cell_type": "markdown",
      "metadata": {},
      "source": [
        "\u7136\u540e\u6211\u4eec\u5c06\u6700\u5927 token \u9650\u5236\u8bbe\u7f6e\u4e3a\u6bd4\u603b token \u6570\u5c11 20 \u4e2a\uff0c\u5e76\u8fd0\u884c\u683c\u5f0f\u5316\u5668\u3002\n\n\n"
      ]
    },
    {
      "cell_type": "code",
      "execution_count": null,
      "metadata": {
        "collapsed": false
      },
      "outputs": [],
      "source": [
        "async def run_truncated_formatter() -&gt; None:\n    \"\"\"\u5e26\u622a\u65ad\u7684\u6d88\u606f\u683c\u5f0f\u5316\u793a\u4f8b\u3002\"\"\"\n    token_counter = HuggingFaceTokenCounter(\n        pretrained_model_name_or_path=\"Qwen/Qwen2.5-VL-3B-Instruct\",\n        use_mirror=False,\n    )\n    formatter = DashScopeMultiAgentFormatter(\n        token_counter=token_counter,\n        max_tokens=n_tokens - 20,\n    )\n    truncated_formatted_message = await formatter.format(input_msgs)\n    n_truncated_tokens = await token_counter.count(truncated_formatted_message)\n    print(\"\u622a\u65ad\u540e\u7684 token \u6570\u91cf\uff1a\", n_truncated_tokens)\n\n    print(\"\\n\u622a\u65ad\u540e\u7684\u5bf9\u8bdd\u5386\u53f2\uff1a\")\n    print(truncated_formatted_message[1][\"content\"])\n\n\nasyncio.run(run_truncated_formatter())"
      ]
    },
    {
      "cell_type": "markdown",
      "metadata": {},
      "source": [
        "\u6211\u4eec\u53ef\u4ee5\u770b\u5230\u6765\u81ea Bob \u548c Alice \u7684\u524d\u4e24\u6761\u6d88\u606f\u88ab\u5220\u9664\u4ee5\u9002\u5e94 ``max_tokens`` \u7684\u9650\u5236\u3002\n\n\n## \u81ea\u5b9a\u4e49\u683c\u5f0f\u5316\u5668\nAgentScope \u63d0\u4f9b\u4e86\u4e24\u4e2a\u57fa\u7c7b ``FormatterBase`` \u548c\u5176\u5b50\u7c7b ``TruncatedFormatterBase``\u3002\n\u5176\u4e2d ``TruncatedFormatterBase`` \u7c7b\u63d0\u4f9b\u4e86 FIFO\uff08First In First Out\uff09\u622a\u65ad\u7b56\u7565\uff0c\u6240\u6709\u5185\u7f6e\u683c\u5f0f\u5316\u5668\u90fd\u7ee7\u627f\u81ea\u5b83\u3002\n\n.. list-table:: AgentScope \u4e2d\u683c\u5f0f\u5316\u5668\u7684\u57fa\u7c7b\n  :header-rows: 1\n\n  * - \u7c7b\n    - \u62bd\u8c61\u65b9\u6cd5\n    - \u63cf\u8ff0\n  * - ``FormatterBase``\n    - ``format``\n    - \u5c06\u8f93\u5165\u7684 ``Msg`` \u5bf9\u8c61\u683c\u5f0f\u5316\u4e3a\u76ee\u6807 API \u6240\u671f\u671b\u7684\u683c\u5f0f\n  * - ``TruncatedFormatterBase``\n    - ``_format_agent_message``\n    - \u683c\u5f0f\u5316\u667a\u80fd\u4f53\u6d88\u606f\uff0c\u5728\u591a\u667a\u80fd\u4f53\u573a\u666f\u4e2d\u53ef\u80fd\u5305\u542b\u591a\u4e2a\u8eab\u4efd\n  * -\n    - ``_format_tool_sequence``\n    - \u5c06\u5de5\u5177\u4f7f\u7528\u548c\u7ed3\u679c\u5e8f\u5217\u683c\u5f0f\u5316\u4e3a\u6240\u671f\u671b\u7684\u683c\u5f0f\n  * -\n    - ``_format`` (\u53ef\u9009)\n    - \u5c06\u8f93\u5165\u7684 ``Msg`` \u5bf9\u8c61\u683c\u5f0f\u5316\u4e3a\u76ee\u6807 API \u6240\u671f\u671b\u7684\u683c\u5f0f\n\n.. tip:: ``TruncatedFormatterBase`` \u4e2d\u7684 ``_format`` \u5c06\u8f93\u5165\u6d88\u606f\u5206\u7ec4\u4e3a\u667a\u80fd\u4f53\u6d88\u606f\u548c\u5de5\u5177\u5e8f\u5217\uff0c\u7136\u540e\u5206\u522b\u901a\u8fc7\u8c03\u7528 ``_format_agent_message`` \u548c ``_format_tool_sequence`` \u6765\u683c\u5f0f\u5316\u5b83\u4eec\u3002\u5f00\u53d1\u8005\u53ef\u4ee5\u91cd\u5199\u4e24\u4e2a\u51fd\u6570\u6765\u5b9e\u73b0\u81ea\u5df1\u7684\u683c\u5f0f\u5316\u7b56\u7565\u3002\n\n.. tip:: \u53ef\u9009\u5730\uff0c\u5f00\u53d1\u8005\u53ef\u4ee5\u91cd\u5199 ``TruncatedFormatterBase`` \u4e2d\u7684 ``_truncate`` \u65b9\u6cd5\u6765\u5b9e\u73b0\u81ea\u5df1\u7684\u622a\u65ad\u7b56\u7565\u3002\n\n## \u8fdb\u4e00\u6b65\u9605\u8bfb\n\n- `token`\n- `model`\n\n\n"
      ]
    }
  ],
  "metadata": {
    "kernelspec": {
      "display_name": "Python 3",
      "language": "python",
      "name": "python3"
    },
    "language_info": {
      "codemirror_mode": {
        "name": "ipython",
        "version": 3
      },
      "file_extension": ".py",
      "mimetype": "text/x-python",
      "name": "python",
      "nbconvert_exporter": "python",
      "pygments_lexer": "ipython3",
      "version": "3.10.18"
    }
  },
  "nbformat": 4,
  "nbformat_minor": 0
}</pre><div class="json-formatter-container"></div>