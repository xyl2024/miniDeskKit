<!-- Title:  -->
<!-- URL: https://doc.agentscope.io/zh_CN/_downloads/c97c5fec6c05569e62f14d7f1ea7d164/task_eval.ipynb -->
<pre>{
  "cells": [
    {
      "cell_type": "markdown",
      "metadata": {},
      "source": [
        "\n\n# \u667a\u80fd\u4f53\u8bc4\u6d4b\n\nAgentScope \u63d0\u4f9b\u4e86\u4e00\u4e2a\u5185\u7f6e\u7684\u8bc4\u6d4b\u6846\u67b6\uff0c\u7528\u4e8e\u8bc4\u6d4b\u667a\u80fd\u4f53\u5728\u4e0d\u540c\u4efb\u52a1\u548c\u57fa\u51c6\u6d4b\u8bd5\u4e2d\u7684\u6027\u80fd\uff0c\u4e3b\u8981\u7279\u6027\u5305\u62ec\uff1a\n\n- \u57fa\u4e8e [Ray](https://github.com/ray-project/ray) \u7684\u5e76\u884c\u548c\u5206\u5e03\u5f0f\u8bc4\u4f30\n- \u652f\u6301\u4e2d\u65ad\u540e\u7ee7\u7eed\u8bc4\u4f30\n- [\u5f00\u53d1\u4e2d] \u8bc4\u4f30\u7ed3\u679c\u53ef\u89c6\u5316\n\n&lt;div class=\"alert alert-info\"&gt;&lt;h4&gt;Note&lt;/h4&gt;&lt;p&gt;\u6211\u4eec\u6b63\u5728\u6301\u7eed\u96c6\u6210\u65b0\u7684\u57fa\u51c6\u6d4b\u8bd5\u5230 AgentScope \u4e2d\uff1a&lt;/p&gt;&lt;/div&gt;\n\n - \u2705 [ACEBench](https://github.com/ACEBench/ACEBench)\n - \ud83d\udea7 [GAIA](https://huggingface.co/datasets/gaia-benchmark/GAIA/tree/main) \u57fa\u51c6\u6d4b\u8bd5\n\n\n## \u6982\u8ff0\n\nAgentScope \u8bc4\u4f30\u6846\u67b6\u7531\u51e0\u4e2a\u5173\u952e\u7ec4\u4ef6\u7ec4\u6210\uff1a\n\n- **\u57fa\u51c6\u6d4b\u8bd5 (Benchmark)**: \u7528\u4e8e\u7cfb\u7edf\u6027\u8bc4\u4f30\u7684\u4efb\u52a1\u96c6\u5408\n    - **\u4efb\u52a1 (Task)**: \u5305\u542b\u8f93\u5165\u3001\u6807\u51c6\u7b54\u6848\u548c\u6307\u6807\u7684\u72ec\u7acb\u8bc4\u4f30\u5355\u5143\n        - **\u6307\u6807 (Metric)**: \u8bc4\u4f30\u89e3\u51b3\u65b9\u6848\u8d28\u91cf\u7684\u6d4b\u91cf\u51fd\u6570\n- **\u8bc4\u4f30\u5668 (Evaluator)**: \u8fd0\u884c\u8bc4\u4f30\u7684\u5f15\u64ce\uff0c\u805a\u5408\u7ed3\u679c\u5e76\u5206\u6790\u6027\u80fd\n    - **\u8bc4\u4f30\u5668\u5b58\u50a8 (Evaluator Storage)**: \u7528\u4e8e\u8bb0\u5f55\u548c\u68c0\u7d22\u8bc4\u4f30\u7ed3\u679c\u7684\u6301\u4e45\u5316\u5b58\u50a8\n- **\u89e3\u51b3\u65b9\u6848 (Solution)**: \u7528\u6237\u5b9a\u4e49\u7684\u89e3\u51b3\u65b9\u6848\n\n.. figure:: ../../_static/images/evaluation.png\n    :width: 90%\n    :alt: AgentScope \u8bc4\u4f30\u6846\u67b6\n\n    *AgentScope \u8bc4\u4f30\u6846\u67b6*\n\nAgentScope \u5f53\u524d\u7684\u5b9e\u73b0\u5305\u62ec\uff1a\n\n- \u8bc4\u4f30\u5668\uff1a\n    - ``RayEvaluator``: \u57fa\u4e8e ray \u7684\u8bc4\u4f30\u5668\uff0c\u652f\u6301\u5e76\u884c\u548c\u5206\u5e03\u5f0f\u8bc4\u4f30\u3002\n    - ``GeneralEvaluator``: \u901a\u7528\u8bc4\u4f30\u5668\uff0c\u6309\u987a\u5e8f\u8fd0\u884c\u4efb\u52a1\uff0c\u4fbf\u4e8e\u8c03\u8bd5\u3002\n- \u57fa\u51c6\u6d4b\u8bd5\uff1a\n    - ``ACEBench``: \u7528\u4e8e\u8bc4\u4f30\u667a\u80fd\u4f53\u80fd\u529b\u7684\u57fa\u51c6\u6d4b\u8bd5\u3002\n\n\u6211\u4eec\u5728 [GitHub \u4ed3\u5e93](https://github.com/agentscope-ai/agentscope/tree/main/examples/evaluation/ace_bench) \u4e2d\u63d0\u4f9b\u4e86\u4e00\u4e2a\u4f7f\u7528 ``RayEvaluator`` \u548c ACEBench \u4e2d\u667a\u80fd\u4f53\u591a\u6b65\u9aa4\u4efb\u52a1\u7684\u73a9\u5177\u793a\u4f8b\u3002\n\n## \u6838\u5fc3\u7ec4\u4ef6\n\u6211\u4eec\u5c06\u6784\u5efa\u4e00\u4e2a\u7b80\u5355\u7684\u73a9\u5b66\u95ee\u9898\u57fa\u51c6\u6d4b\u8bd5\u6765\u6f14\u793a\u5982\u4f55\u4f7f\u7528 AgentScope \u8bc4\u4f30\u6a21\u5757\u3002\n"
      ]
    },
    {
      "cell_type": "code",
      "execution_count": null,
      "metadata": {
        "collapsed": false
      },
      "outputs": [],
      "source": [
        "TOY_BENCHMARK = [\n    {\n        \"id\": \"math_problem_1\",\n        \"question\": \"What is 2 + 2?\",\n        \"ground_truth\": 4.0,\n        \"tags\": {\n            \"difficulty\": \"easy\",\n            \"category\": \"math\",\n        },\n    },\n    {\n        \"id\": \"math_problem_2\",\n        \"question\": \"What is 12345 + 54321 + 6789 + 9876?\",\n        \"ground_truth\": 83331,\n        \"tags\": {\n            \"difficulty\": \"medium\",\n            \"category\": \"math\",\n        },\n    },\n]"
      ]
    },
    {
      "cell_type": "markdown",
      "metadata": {},
      "source": [
        "### \u4ece\u4efb\u52a1\u3001\u89e3\u51b3\u65b9\u6848\u548c\u6307\u6807\u5230\u57fa\u51c6\u6d4b\u8bd5\n\n- \u4e00\u4e2a ``SolutionOutput`` (Agent\u89e3\u51b3\u65b9\u6848\u8f93\u51fa) \u5305\u542b\u667a\u80fd\u4f53\u751f\u6210\u7684\u6240\u6709\u4fe1\u606f\uff0c\u5305\u62ec\u8f68\u8ff9\u548c\u6700\u7ec8\u8f93\u51fa\u3002\n- \u4e00\u4e2a ``Metric`` (\u8bc4\u6d4b\u6307\u6807) \u4ee3\u8868\u4e00\u4e2a\u5355\u4e00\u7684\u8bc4\u4f30\u53ef\u8c03\u7528\u5b9e\u4f8b\uff0c\u5b83\u5c06\u751f\u6210\u7684\u89e3\u51b3\u65b9\u6848\uff08\u4f8b\u5982\uff0c\u8f68\u8ff9\u6216\u6700\u7ec8\u8f93\u51fa\uff09\u4e0e\u6807\u51c6\u7b54\u6848\u8fdb\u884c\u6bd4\u8f83\u3002\n\u5728\u8fd9\u4e2a\u793a\u4f8b\u4e2d\uff0c\u6211\u4eec\u5b9a\u4e49\u4e86\u4e00\u4e2a\u6307\u6807\uff0c\u7b80\u5355\u5730\u68c0\u67e5\u89e3\u51b3\u65b9\u6848\u4e2d\u7684 ``output`` \u5b57\u6bb5\u662f\u5426\u4e0e\u6807\u51c6\u7b54\u6848\u5339\u914d\u3002\n\n"
      ]
    },
    {
      "cell_type": "code",
      "execution_count": null,
      "metadata": {
        "collapsed": false
      },
      "outputs": [],
      "source": [
        "from agentscope.evaluate import (\n    SolutionOutput,\n    MetricBase,\n    MetricResult,\n    MetricType,\n)\n\n\nclass CheckEqual(MetricBase):\n    def __init__(\n        self,\n        ground_truth: float,\n    ):\n        super().__init__(\n            name=\"math check number equal\",\n            metric_type=MetricType.NUMERICAL,\n            description=\"Toy metric checking if two numbers are equal\",\n            categories=[],\n        )\n        self.ground_truth = ground_truth\n\n    async def __call__(\n        self,\n        solution: SolutionOutput,\n    ) -&gt; MetricResult:\n        if solution.output == self.ground_truth:\n            return MetricResult(\n                name=self.name,\n                result=1.0,\n                message=\"Correct\",\n            )\n        else:\n            return MetricResult(\n                name=self.name,\n                result=0.0,\n                message=\"Incorrect\",\n            )"
      ]
    },
    {
      "cell_type": "markdown",
      "metadata": {},
      "source": [
        "- \u4e00\u4e2a ``Task`` (\u4efb\u52a1) \u662f\u57fa\u51c6\u6d4b\u8bd5\u4e2d\u7684\u4e00\u4e2a\u5355\u5143\uff0c\u5305\u542b\u667a\u80fd\u4f53\u6267\u884c\u548c\u8bc4\u4f30\u6240\u9700\u7684\u6240\u6709\u4fe1\u606f\uff08\u4f8b\u5982\uff0c\u8f93\u5165/\u67e5\u8be2\u53ca\u5176\u6807\u51c6\u7b54\u6848\uff09\u3002\n- \u4e00\u4e2a ``Benchmark`` (\u57fa\u51c6\u6d4b\u8bd5) \u7ec4\u7ec7\u591a\u4e2a\u4efb\u52a1\u8fdb\u884c\u7cfb\u7edf\u6027\u8bc4\u4f30\u3002\n\n"
      ]
    },
    {
      "cell_type": "code",
      "execution_count": null,
      "metadata": {
        "collapsed": false
      },
      "outputs": [],
      "source": [
        "from typing import Generator\nfrom agentscope.evaluate import (\n    Task,\n    BenchmarkBase,\n)\n\n\nclass ToyBenchmark(BenchmarkBase):\n    def __init__(self):\n        super().__init__(\n            name=\"Toy bench\",\n            description=\"A toy benchmark for demonstrating the evaluation module.\",\n        )\n        self.dataset = self._load_data()\n\n    @staticmethod\n    def _load_data() -&gt; list[Task]:\n        dataset = []\n        for item in TOY_BENCHMARK:\n            dataset.append(\n                Task(\n                    id=item[\"id\"],\n                    input=item[\"question\"],\n                    ground_truth=item[\"ground_truth\"],\n                    tags=item.get(\"tags\", {}),\n                    metrics=[\n                        CheckEqual(item[\"ground_truth\"]),\n                    ],\n                    metadata={},\n                ),\n            )\n        return dataset\n\n    def __iter__(self) -&gt; Generator[Task, None, None]:\n        \"\"\"\u904d\u5386\u57fa\u51c6\u6d4b\u8bd5\u3002\"\"\"\n        for task in self.dataset:\n            yield task\n\n    def __getitem__(self, index: int) -&gt; Task:\n        \"\"\"\u6839\u636e\u7d22\u5f15\u83b7\u53d6\u4efb\u52a1\u3002\"\"\"\n        return self.dataset[index]\n\n    def __len__(self) -&gt; int:\n        \"\"\"\u83b7\u53d6\u57fa\u51c6\u6d4b\u8bd5\u7684\u957f\u5ea6\u3002\"\"\"\n        return len(self.dataset)"
      ]
    },
    {
      "cell_type": "markdown",
      "metadata": {},
      "source": [
        "### \u8bc4\u4f30\u5668\n\n\u8bc4\u4f30\u5668 (Evaluators) \u7ba1\u7406\u8bc4\u4f30\u8fc7\u7a0b\u3002\u5b83\u4eec\u53ef\u4ee5\u81ea\u52a8\u904d\u5386\n\u57fa\u51c6\u6d4b\u8bd5\u4e2d\u7684\u4efb\u52a1\uff0c\u5e76\u5c06\u6bcf\u4e2a\u4efb\u52a1\u8f93\u5165\u5230\u89e3\u51b3\u65b9\u6848\u751f\u6210\u51fd\u6570\u4e2d\uff0c\n\u5f00\u53d1\u8005\u9700\u8981\u5728\u5176\u4e2d\u5b9a\u4e49\u8fd0\u884c\u667a\u80fd\u4f53\u548c\u68c0\u7d22\n\u6267\u884c\u7ed3\u679c\u548c\u8f68\u8ff9\u7684\u903b\u8f91\u3002\u4e0b\u9762\u662f\u4e00\u4e2a\n\u4f7f\u7528\u6211\u4eec\u7684\u73a9\u5177\u57fa\u51c6\u6d4b\u8bd5\u8fd0\u884c ``GeneralEvaluator`` (\u901a\u7528\u8bc4\u4f30\u5668) \u7684\u793a\u4f8b\u3002\u5982\u679c\u6709\u4e00\u4e2a\u5927\u578b\n\u57fa\u51c6\u6d4b\u8bd5\uff0c\u5f00\u53d1\u8005\u5e0c\u671b\u901a\u8fc7\u5e76\u884c\u5316\u66f4\u9ad8\u6548\u5730\u8fdb\u884c\u8bc4\u4f30\uff0c\n``RayEvaluator`` (Ray\u8bc4\u4f30\u5668) \u4e5f\u53ef\u4f5c\u4e3a\u5185\u7f6e\u89e3\u51b3\u65b9\u6848\u4f7f\u7528\u3002\n\n"
      ]
    },
    {
      "cell_type": "code",
      "execution_count": null,
      "metadata": {
        "collapsed": false
      },
      "outputs": [],
      "source": [
        "import os\nimport asyncio\nfrom typing import Callable\nfrom pydantic import BaseModel\n\nfrom agentscope.message import Msg\nfrom agentscope.model import DashScopeChatModel\nfrom agentscope.formatter import DashScopeChatFormatter\nfrom agentscope.agent import ReActAgent\n\nfrom agentscope.evaluate import (\n    GeneralEvaluator,\n    FileEvaluatorStorage,\n)\n\n\nclass ToyBenchAnswerFormat(BaseModel):\n    answer_as_number: float\n\n\nasync def toy_solution_generation(\n    task: Task,\n    pre_hook: Callable,\n) -&gt; SolutionOutput:\n    agent = ReActAgent(\n        name=\"Friday\",\n        sys_prompt=\"You are a helpful assistant named Friday. \"\n        \"Your target is to solve the given task with your tools. \"\n        \"Try to solve the task as best as you can.\",\n        model=DashScopeChatModel(\n            api_key=os.environ.get(\"DASHSCOPE_API_KEY\"),\n            model_name=\"qwen-max\",\n            stream=False,\n        ),\n        formatter=DashScopeChatFormatter(),\n    )\n    agent.register_instance_hook(\n        \"pre_print\",\n        \"save_logging\",\n        pre_hook,\n    )\n    msg_input = Msg(\"user\", task.input, role=\"user\")\n    res = await agent(\n        msg_input,\n        structured_model=ToyBenchAnswerFormat,\n    )\n    return SolutionOutput(\n        success=True,\n        output=res.metadata.get(\"answer_as_number\", None),\n        trajectory=[],\n    )\n\n\nasync def main() -&gt; None:\n    evaluator = GeneralEvaluator(\n        name=\"Toy benchmark evaluation\",\n        benchmark=ToyBenchmark(),\n        # \u91cd\u590d\u591a\u5c11\u6b21\n        n_repeat=1,\n        storage=FileEvaluatorStorage(\n            save_dir=\"./results\",\n        ),\n        # \u4f7f\u7528\u591a\u5c11\u4e2a\u5de5\u4f5c\u8fdb\u7a0b\n        n_workers=1,\n    )\n\n    # \u8fd0\u884c\u8bc4\u4f30\n    await evaluator.run(toy_solution_generation)\n\n\nasyncio.run(main())"
      ]
    }
  ],
  "metadata": {
    "kernelspec": {
      "display_name": "Python 3",
      "language": "python",
      "name": "python3"
    },
    "language_info": {
      "codemirror_mode": {
        "name": "ipython",
        "version": 3
      },
      "file_extension": ".py",
      "mimetype": "text/x-python",
      "name": "python",
      "nbconvert_exporter": "python",
      "pygments_lexer": "ipython3",
      "version": "3.10.18"
    }
  },
  "nbformat": 4,
  "nbformat_minor": 0
}</pre><div class="json-formatter-container"></div>