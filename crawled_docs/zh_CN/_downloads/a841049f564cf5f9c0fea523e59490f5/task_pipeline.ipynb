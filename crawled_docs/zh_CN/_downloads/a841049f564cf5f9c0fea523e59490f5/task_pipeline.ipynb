<!-- Title:  -->
<!-- URL: https://doc.agentscope.io/zh_CN/_downloads/a841049f564cf5f9c0fea523e59490f5/task_pipeline.ipynb -->
<pre>{
  "cells": [
    {
      "cell_type": "markdown",
      "metadata": {},
      "source": [
        "\n\n# \u7ba1\u9053 (Pipeline)\n\n\u5bf9\u4e8e\u591a\u667a\u80fd\u4f53\u7f16\u6392\uff0cAgentScope \u63d0\u4f9b\u4e86 ``agentscope.pipeline`` \u6a21\u5757\n\u4f5c\u4e3a\u5c06\u667a\u80fd\u4f53\u94fe\u63a5\u5728\u4e00\u8d77\u7684\u8bed\u6cd5\u7cd6\uff0c\u5177\u4f53\u5305\u62ec\n\n- **MsgHub**: \u7528\u4e8e\u591a\u4e2a\u667a\u80fd\u4f53\u4e4b\u95f4\u6d88\u606f\u7684\u5e7f\u64ad\n- **sequential_pipeline** \u548c **SequentialPipeline**: \u4ee5\u987a\u5e8f\u65b9\u5f0f\u6267\u884c\u591a\u4e2a\u667a\u80fd\u4f53\u7684\u51fd\u6570\u5f0f\u548c\u7c7b\u5f0f\u5b9e\u73b0\n- **fanout_pipeline** \u548c **FanoutPipeline**: \u5c06\u76f8\u540c\u8f93\u5165\u5206\u53d1\u7ed9\u591a\u4e2a\u667a\u80fd\u4f53\u7684\u51fd\u6570\u5f0f\u548c\u7c7b\u5f0f\u5b9e\u73b0\n- **stream_printing_messages**: \u5c06\u667a\u80fd\u4f53\u5728\u56de\u590d\u8fc7\u7a0b\u4e2d\uff0c\u8c03\u7528 ``self.print`` \u6253\u5370\u7684\u6d88\u606f\u8f6c\u6362\u4e3a\u4e00\u4e2a\u5f02\u6b65\u751f\u6210\u5668\n"
      ]
    },
    {
      "cell_type": "code",
      "execution_count": null,
      "metadata": {
        "collapsed": false
      },
      "outputs": [],
      "source": [
        "import os, asyncio\n\nfrom agentscope.formatter import DashScopeMultiAgentFormatter\nfrom agentscope.message import Msg\nfrom agentscope.model import DashScopeChatModel\nfrom agentscope.agent import ReActAgent\nfrom agentscope.pipeline import MsgHub, stream_printing_messages"
      ]
    },
    {
      "cell_type": "markdown",
      "metadata": {},
      "source": [
        "## \u4f7f\u7528 MsgHub \u8fdb\u884c\u5e7f\u64ad\n\n``MsgHub`` \u7c7b\u662f\u4e00\u4e2a **\u5f02\u6b65\u4e0a\u4e0b\u6587\u7ba1\u7406\u5668**\uff0c\u5b83\u63a5\u6536\u4e00\u4e2a\u667a\u80fd\u4f53\u5217\u8868\u4f5c\u4e3a\u5176\u53c2\u4e0e\u8005\u3002\n\u5f53\u4e00\u4e2a\u53c2\u4e0e\u8005\u751f\u6210\u56de\u590d\u6d88\u606f\u65f6\uff0c\u5c06\u901a\u8fc7\u8c03\u7528\u6240\u6709\u5176\u4ed6\u53c2\u4e0e\u8005\u7684 ``observe`` \u65b9\u6cd5\u5e7f\u64ad\u8be5\u6d88\u606f\u3002\n\u8fd9\u610f\u5473\u7740\u5728 ``MsgHub`` \u4e0a\u4e0b\u6587\u4e2d\uff0c\u5f00\u53d1\u8005\u65e0\u9700\u624b\u52a8\u5c06\u56de\u590d\u6d88\u606f\u4ece\u4e00\u4e2a\u667a\u80fd\u4f53\u53d1\u9001\u5230\u53e6\u4e00\u4e2a\u667a\u80fd\u4f53\u3002\n\n\u8fd9\u91cc\u6211\u4eec\u521b\u5efa\u56db\u4e2a\u667a\u80fd\u4f53\uff1aAlice\u3001Bob\u3001Charlie \u548c David\u3002\n\u7136\u540e\u6211\u4eec\u8ba9 Alice\u3001Bob \u548c Charlie \u901a\u8fc7\u81ea\u6211\u4ecb\u7ecd\u5f00\u59cb\u4e00\u4e2a\u4f1a\u8bae\u3002\u9700\u8981\u6ce8\u610f\u7684\u662f David \u6ca1\u6709\u5305\u542b\u5728\u8fd9\u4e2a\u4f1a\u8bae\u4e2d\u3002\n\n\n"
      ]
    },
    {
      "cell_type": "code",
      "execution_count": null,
      "metadata": {
        "collapsed": false
      },
      "outputs": [],
      "source": [
        "def create_agent(name: str, age: int, career: str) -&gt; ReActAgent:\n    \"\"\"\u6839\u636e\u7ed9\u5b9a\u4fe1\u606f\u521b\u5efa\u667a\u80fd\u4f53\u5bf9\u8c61\u3002\"\"\"\n    return ReActAgent(\n        name=name,\n        sys_prompt=f\"\u4f60\u662f{name}\uff0c\u4e00\u4e2a{age}\u5c81\u7684{career}\",\n        model=DashScopeChatModel(\n            model_name=\"qwen-max\",\n            api_key=os.environ[\"DASHSCOPE_API_KEY\"],\n        ),\n        formatter=DashScopeMultiAgentFormatter(),\n    )\n\n\nalice = create_agent(\"Alice\", 50, \"\u8001\u5e08\")\nbob = create_agent(\"Bob\", 35, \"\u5de5\u7a0b\u5e08\")\ncharlie = create_agent(\"Charlie\", 28, \"\u8bbe\u8ba1\u5e08\")\ndavid = create_agent(\"David\", 30, \"\u5f00\u53d1\u8005\")"
      ]
    },
    {
      "cell_type": "markdown",
      "metadata": {},
      "source": [
        "\u7136\u540e\u6211\u4eec\u521b\u5efa\u4e00\u4e2a ``MsgHub`` \u4e0a\u4e0b\u6587\uff0c\u5e76\u8ba9\u4ed6\u4eec\u81ea\u6211\u4ecb\u7ecd:\n\n.. hint:: ``announcement`` \u4e2d\u7684\u6d88\u606f\u5c06\u5728\u8fdb\u5165 ``MsgHub`` \u4e0a\u4e0b\u6587\u65f6\u5e7f\u64ad\u7ed9\u6240\u6709\u53c2\u4e0e\u8005\u3002\n\n\n"
      ]
    },
    {
      "cell_type": "code",
      "execution_count": null,
      "metadata": {
        "collapsed": false
      },
      "outputs": [],
      "source": [
        "async def example_broadcast_message():\n    \"\"\"\u4f7f\u7528 MsgHub \u5e7f\u64ad\u6d88\u606f\u7684\u793a\u4f8b\u3002\"\"\"\n\n    # \u521b\u5efa\u6d88\u606f\u4e2d\u5fc3\n    async with MsgHub(\n        participants=[alice, bob, charlie],\n        announcement=Msg(\n            \"user\",\n            \"\u73b0\u5728\u8bf7\u7b80\u8981\u4ecb\u7ecd\u4e00\u4e0b\u81ea\u5df1\uff0c\u5305\u62ec\u4f60\u7684\u59d3\u540d\u3001\u5e74\u9f84\u548c\u804c\u4e1a\u3002\",\n            \"user\",\n        ),\n    ) as hub:\n        # \u65e0\u9700\u624b\u52a8\u6d88\u606f\u4f20\u9012\u7684\u7fa4\u804a\n        await alice()\n        await bob()\n        await charlie()\n\n\nasyncio.run(example_broadcast_message())"
      ]
    },
    {
      "cell_type": "markdown",
      "metadata": {},
      "source": [
        "\u73b0\u5728\u8ba9\u6211\u4eec\u68c0\u67e5 Bob\u3001Charlie \u548c David \u662f\u5426\u6536\u5230\u4e86 Alice \u7684\u6d88\u606f\u3002\n\n\n"
      ]
    },
    {
      "cell_type": "code",
      "execution_count": null,
      "metadata": {
        "collapsed": false
      },
      "outputs": [],
      "source": [
        "async def check_broadcast_message():\n    \"\"\"\u68c0\u67e5\u6d88\u606f\u662f\u5426\u6b63\u786e\u5e7f\u64ad\u3002\"\"\"\n    user_msg = Msg(\n        \"user\",\n        \"\u4f60\u77e5\u9053 Alice \u662f\u8c01\u5417\uff0c\u5979\u662f\u505a\u4ec0\u4e48\u7684\uff1f\",\n        \"user\",\n    )\n\n    await bob(user_msg)\n    await charlie(user_msg)\n    await david(user_msg)\n\n\nasyncio.run(check_broadcast_message())"
      ]
    },
    {
      "cell_type": "markdown",
      "metadata": {},
      "source": [
        "\u73b0\u5728\u6211\u4eec\u89c2\u5bdf\u5230 Bob \u548c Charlie \u77e5\u9053 Alice \u548c\u5979\u7684\u804c\u4e1a\uff0c\u800c David \u5bf9\nAlice \u4e00\u65e0\u6240\u77e5\uff0c\u56e0\u4e3a\u4ed6\u6ca1\u6709\u5305\u542b\u5728 ``MsgHub`` \u4e0a\u4e0b\u6587\u4e2d\u3002\n\n\n### \u52a8\u6001\u7ba1\u7406\n\u6b64\u5916\uff0c``MsgHub`` \u652f\u6301\u901a\u8fc7\u4ee5\u4e0b\u65b9\u6cd5\u52a8\u6001\u7ba1\u7406\u53c2\u4e0e\u8005\uff1a\n\n- ``add``: \u6dfb\u52a0\u4e00\u4e2a\u6216\u591a\u4e2a\u667a\u80fd\u4f53\u4f5c\u4e3a\u65b0\u53c2\u4e0e\u8005\n- ``delete``: \u4ece\u53c2\u4e0e\u8005\u4e2d\u79fb\u9664\u4e00\u4e2a\u6216\u591a\u4e2a\u667a\u80fd\u4f53\uff0c\u4ed6\u4eec\u5c06\u4e0d\u518d\u63a5\u6536\u5e7f\u64ad\u6d88\u606f\n- ``broadcast``: \u5411\u6240\u6709\u5f53\u524d\u53c2\u4e0e\u8005\u5e7f\u64ad\u6d88\u606f\n\n&lt;div class=\"alert alert-info\"&gt;&lt;h4&gt;Note&lt;/h4&gt;&lt;p&gt;\u65b0\u6dfb\u52a0\u7684\u53c2\u4e0e\u8005\u4e0d\u4f1a\u63a5\u6536\u5230\u4e4b\u524d\u7684\u6d88\u606f\u3002&lt;/p&gt;&lt;/div&gt;\n\n```python\nasync with MsgHub(participants=[alice]) as hub:\n    # \u6dfb\u52a0\u65b0\u53c2\u4e0e\u8005\n    hub.add(david)\n\n    # \u79fb\u9664\u53c2\u4e0e\u8005\n    hub.delete(alice)\n\n    # \u5411\u6240\u6709\u5f53\u524d\u53c2\u4e0e\u8005\u5e7f\u64ad\n    await hub.broadcast(\n        Msg(\"system\", \"\u73b0\u5728\u6211\u4eec\u5f00\u59cb...\", \"system\"),\n    )\n```\n## \u7ba1\u9053\n\u7ba1\u9053\u662f AgentScope \u4e2d\u591a\u667a\u80fd\u4f53\u7f16\u6392\u7684\u4e00\u79cd\u8bed\u6cd5\u7cd6\u3002\n\n\u76ee\u524d\uff0cAgentScope \u63d0\u4f9b\u4e09\u79cd\u7ba1\u9053\uff0c\u7528\u4e8e\u51cf\u8f7b\u5f00\u53d1\u8005\u7684\u8d1f\u62c5\uff1a\n\n1. **\u987a\u5e8f\u7ba1\u9053 (Sequential Pipeline)**: \u6309\u9884\u5b9a\u4e49\u987a\u5e8f\u9010\u4e2a\u6267\u884c\u667a\u80fd\u4f53\n2. **\u6247\u51fa\u7ba1\u9053 (Fanout Pipeline)**: \u5c06\u76f8\u540c\u8f93\u5165\u5206\u53d1\u7ed9\u591a\u4e2a\u667a\u80fd\u4f53\u5e76\u6536\u96c6\u5b83\u4eec\u7684\u54cd\u5e94\n3. **\u6d41\u5f0f\u83b7\u53d6\u6253\u5370\u6d88\u606f (stream printing messages)**: \u5c06\u667a\u80fd\u4f53\u5728\u56de\u590d\u8fc7\u7a0b\u4e2d\uff0c\u8c03\u7528 ``self.print`` \u6253\u5370\u7684\u6d88\u606f\u8f6c\u6362\u4e3a\u4e00\u4e2a\u5f02\u6b65\u751f\u6210\u5668\n\n### \u987a\u5e8f\u7ba1\u9053\n\u987a\u5e8f\u7ba1\u9053\u9010\u4e2a\u6267\u884c\u667a\u80fd\u4f53\uff0c\u524d\u4e00\u4e2a\u667a\u80fd\u4f53\u7684\u8f93\u51fa\u6210\u4e3a\u4e0b\u4e00\u4e2a\u667a\u80fd\u4f53\u7684\u8f93\u5165\u3002\n\n\u4f8b\u5982\uff0c\u4ee5\u4e0b\u4e24\u4e2a\u4ee3\u7801\u7247\u6bb5\u662f\u7b49\u4ef7\u7684\uff1a\n\n.. code-block:: python\n    :caption: \u4ee3\u7801\u7247\u6bb5 1: \u624b\u52a8\u6d88\u606f\u4f20\u9012\n\n    msg = None\n    msg = await alice(msg)\n    msg = await bob(msg)\n    msg = await charlie(msg)\n    msg = await david(msg)\n\n\n.. code-block:: python\n    :caption: \u4ee3\u7801\u7247\u6bb5 2: \u4f7f\u7528\u987a\u5e8f\u7ba1\u9053\n\n    from agentscope.pipeline import sequential_pipeline\n\n    msg = await sequential_pipeline(\n        # \u6309\u987a\u5e8f\u6267\u884c\u7684\u667a\u80fd\u4f53\u5217\u8868\n        agents=[alice, bob, charlie, david],\n        # \u7b2c\u4e00\u4e2a\u8f93\u5165\u6d88\u606f\uff0c\u53ef\u4ee5\u662f None\n        msg=None\n    )\n\n\n"
      ]
    },
    {
      "cell_type": "markdown",
      "metadata": {},
      "source": [
        "### \u6247\u51fa\u7ba1\u9053\n\u6247\u51fa\u7ba1\u9053\u5c06\u76f8\u540c\u7684\u8f93\u5165\u6d88\u606f\u540c\u65f6\u5206\u53d1\u7ed9\u591a\u4e2a\u667a\u80fd\u4f53\u5e76\u6536\u96c6\u6240\u6709\u54cd\u5e94\u3002\u5f53\u4f60\u60f3\u8981\u6536\u96c6\u5bf9\u540c\u4e00\u8bdd\u9898\u7684\u4e0d\u540c\u89c2\u70b9\u6216\u4e13\u4e1a\u610f\u89c1\u65f6\uff0c\u8fd9\u975e\u5e38\u6709\u7528\u3002\n\n\u4f8b\u5982\uff0c\u4ee5\u4e0b\u4e24\u4e2a\u4ee3\u7801\u7247\u6bb5\u662f\u7b49\u4ef7\u7684\uff1a\n\n.. code-block:: python\n    :caption: \u4ee3\u7801\u7247\u6bb5 3: \u624b\u52a8\u9010\u4e2a\u8c03\u7528\u667a\u80fd\u4f53\n\n    from copy import deepcopy\n\n    msgs = []\n    msg = None\n    for agent in [alice, bob, charlie, david]:\n        msgs.append(await agent(deepcopy(msg)))\n\n\n.. code-block:: python\n    :caption: \u4ee3\u7801\u7247\u6bb5 4: \u4f7f\u7528\u6247\u51fa\u7ba1\u9053\n\n    from agentscope.pipeline import fanout_pipeline\n\n    msgs = await fanout_pipeline(\n        # \u8981\u6267\u884c\u7684\u667a\u80fd\u4f53\u5217\u8868\n        agents=[alice, bob, charlie, david],\n        # \u8f93\u5165\u6d88\u606f\uff0c\u53ef\u4ee5\u662f None\n        msg=None,\n        enable_gather=False,\n    )\n\n&lt;div class=\"alert alert-info\"&gt;&lt;h4&gt;Note&lt;/h4&gt;&lt;p&gt;``enable_gather`` \u53c2\u6570\u63a7\u5236\u6247\u51fa\u7ba1\u9053\u7684\u6267\u884c\u6a21\u5f0f\uff1a\n\n    - ``enable_gather=True`` (\u9ed8\u8ba4): \u4f7f\u7528 ``asyncio.gather()`` **\u5e76\u53d1** \u6267\u884c\u6240\u6709\u667a\u80fd\u4f53\u3002\u8fd9\u4e3a I/O \u5bc6\u96c6\u578b\u64cd\u4f5c\uff08\u5982 API \u8c03\u7528\uff09\u63d0\u4f9b\u66f4\u597d\u7684\u6027\u80fd\uff0c\u56e0\u4e3a\u667a\u80fd\u4f53\u5e76\u884c\u8fd0\u884c\u3002\n    - ``enable_gather=False``: \u9010\u4e2a **\u987a\u5e8f** \u6267\u884c\u667a\u80fd\u4f53\u3002\u5f53\u4f60\u9700\u8981\u786e\u5b9a\u6027\u7684\u6267\u884c\u987a\u5e8f\u6216\u60f3\u8981\u907f\u514d\u5e76\u53d1\u8bf7\u6c42\u538b\u57ae\u5916\u90e8\u670d\u52a1\u65f6\uff0c\u8fd9\u5f88\u6709\u7528\u3002\n\n    \u9009\u62e9\u5e76\u53d1\u6267\u884c\u4ee5\u83b7\u5f97\u66f4\u597d\u7684\u6027\u80fd\uff0c\u6216\u9009\u62e9\u987a\u5e8f\u6267\u884c\u4ee5\u83b7\u5f97\u53ef\u9884\u6d4b\u7684\u987a\u5e8f\u548c\u8d44\u6e90\u63a7\u5236\u3002&lt;/p&gt;&lt;/div&gt;\n\n.. tip::\n    \u901a\u8fc7\u7ed3\u5408 ``MsgHub`` \u548c ``sequential_pipeline`` \u6216 ``fanout_pipeline``\uff0c\u4f60\u53ef\u4ee5\u975e\u5e38\u5bb9\u6613\u5730\u521b\u5efa\u66f4\u590d\u6742\u7684\u5de5\u4f5c\u6d41\u3002\n\n"
      ]
    },
    {
      "cell_type": "markdown",
      "metadata": {},
      "source": [
        "### \u6d41\u5f0f\u83b7\u53d6\u6253\u5370\u6d88\u606f\n``stream_printing_messages`` \u51fd\u6570\u5c06\u667a\u80fd\u4f53\u5728\u56de\u590d\u8fc7\u7a0b\u4e2d\u8c03\u7528 ``self.print`` \u6253\u5370\u7684\u6d88\u606f\u8f6c\u6362\u4e3a\u4e00\u4e2a\u5f02\u6b65\u751f\u6210\u5668\u3002\n\u53ef\u4ee5\u5e2e\u52a9\u5f00\u53d1\u8005\u5feb\u901f\u4ee5\u6d41\u5f0f\u65b9\u5f0f\u83b7\u53d6\u667a\u80fd\u4f53\u7684\u4e2d\u95f4\u6d88\u606f\u3002\n\n\u8be5\u51fd\u6570\u63a5\u53d7\u4e00\u4e2a\u6216\u591a\u4e2a\u667a\u80fd\u4f53\u548c\u4e00\u4e2a\u534f\u7a0b\u4efb\u52a1\u4f5c\u4e3a\u8f93\u5165\uff0c\u5e76\u8fd4\u56de\u4e00\u4e2a\u5f02\u6b65\u751f\u6210\u5668\u3002\n\u8be5\u5f02\u6b65\u751f\u6210\u5668\u8fd4\u56de\u4e00\u4e2a\u4e8c\u5143\u7ec4\uff0c\u5305\u542b\u6267\u884c\u534f\u7a0b\u4efb\u52a1\u8fc7\u7a0b\u4e2d\u901a\u8fc7 ``await self.print(...)`` \u6253\u5370\u7684\u6d88\u606f\uff0c\u4ee5\u53ca\u4e00\u4e2a\u5e03\u5c14\u503c\uff0c\u8868\u793a\u8be5\u6d88\u606f\u662f\u5426\u4e3a\u4e00\u7ec4\u6d41\u5f0f\u6d88\u606f\u4e2d\u7684\u6700\u540e\u4e00\u4e2a\u3002\n\n\u9700\u8981\u6ce8\u610f\u7684\u662f\uff0c\u751f\u6210\u5668\u8fd4\u56de\u7684\u5143\u7ec4\u4e2d\uff0c\u5e03\u5c14\u503c\u8868\u793a\u8be5\u6d88\u606f\u662f\u5426\u4e3a\u4e00\u7ec4\u6d41\u5f0f\u6d88\u606f\u4e2d\u7684\u6700\u540e\u4e00\u4e2a\uff0c\u800c\u975e\u6b64\u6b21\u667a\u80fd\u4f53\u8c03\u7528\u7684\u6700\u540e\u4e00\u6761\u6d88\u606f\u3002\n\n"
      ]
    },
    {
      "cell_type": "code",
      "execution_count": null,
      "metadata": {
        "collapsed": false
      },
      "outputs": [],
      "source": [
        "async def run_example_pipeline() -&gt; None:\n    \"\"\"\u8fd0\u884c\u6d41\u5f0f\u6253\u5370\u6d88\u606f\u7684\u793a\u4f8b\u3002\"\"\"\n    agent = create_agent(\"Alice\", 20, \"student\")\n\n    # \u6211\u4eec\u5173\u95edagent\u7684\u7ec8\u7aef\u6253\u5370\u4ee5\u907f\u514d\u8f93\u51fa\u6df7\u4e71\n    agent.set_console_output_enabled(False)\n\n    async for msg, last in stream_printing_messages(\n        agents=[agent],\n        coroutine_task=agent(\n            Msg(\"user\", \"\u4f60\u597d\uff0c\u4f60\u662f\u8c01\uff1f\", \"user\"),\n        ),\n    ):\n        print(msg, last)\n        if last:\n            print()\n\n\nasyncio.run(run_example_pipeline())"
      ]
    },
    {
      "cell_type": "markdown",
      "metadata": {},
      "source": [
        "## \u9ad8\u7ea7\u7ba1\u9053\u7279\u6027\n\n\u6b64\u5916\uff0c\u4e3a\u4e86\u53ef\u91cd\u7528\u6027\uff0c\u6211\u4eec\u8fd8\u63d0\u4f9b\u4e86\u57fa\u4e8e\u7c7b\u7684\u5b9e\u73b0\uff1a\n\n.. code-block:: python\n   :caption: \u4f7f\u7528 SequentialPipeline \u7c7b\n\n    from agentscope.pipeline import SequentialPipeline\n\n    # \u521b\u5efa\u7ba1\u9053\u5bf9\u8c61\n    pipeline = SequentialPipeline(agents=[alice, bob, charlie, david])\n\n    # \u8c03\u7528\u7ba1\u9053\n    msg = await pipeline(msg=None)\n\n    # \u4f7f\u7528\u4e0d\u540c\u8f93\u5165\u590d\u7528\u7ba1\u9053\n    msg = await pipeline(msg=Msg(\"user\", \"\u4f60\u597d\uff01\", \"user\"))\n\n\n.. code-block:: python\n    :caption: \u4f7f\u7528 FanoutPipeline \u7c7b\n\n    from agentscope.pipeline import FanoutPipeline\n\n    # \u521b\u5efa\u7ba1\u9053\u5bf9\u8c61\n    pipeline = FanoutPipeline(agents=[alice, bob, charlie, david])\n\n    # \u8c03\u7528\u7ba1\u9053\n    msgs = await pipeline(msg=None)\n\n    # \u4f7f\u7528\u4e0d\u540c\u8f93\u5165\u590d\u7528\u7ba1\u9053\n    msgs = await pipeline(msg=Msg(\"user\", \"\u4f60\u597d\uff01\", \"user\"))\n\n\n"
      ]
    }
  ],
  "metadata": {
    "kernelspec": {
      "display_name": "Python 3",
      "language": "python",
      "name": "python3"
    },
    "language_info": {
      "codemirror_mode": {
        "name": "ipython",
        "version": 3
      },
      "file_extension": ".py",
      "mimetype": "text/x-python",
      "name": "python",
      "nbconvert_exporter": "python",
      "pygments_lexer": "ipython3",
      "version": "3.10.18"
    }
  },
  "nbformat": 4,
  "nbformat_minor": 0
}</pre><div class="json-formatter-container"></div>