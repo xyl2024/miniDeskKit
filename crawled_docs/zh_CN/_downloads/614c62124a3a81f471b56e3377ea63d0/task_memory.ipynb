<!-- Title:  -->
<!-- URL: https://doc.agentscope.io/zh_CN/_downloads/614c62124a3a81f471b56e3377ea63d0/task_memory.ipynb -->
<pre>{
  "cells": [
    {
      "cell_type": "markdown",
      "metadata": {},
      "source": [
        "\n\n# \u8bb0\u5fc6\n\n\u5728 AgentScope \u4e2d\uff0c\u8bb0\u5fc6\uff08memory\uff09\u7528\u4e8e\u5b58\u50a8\u667a\u80fd\u4f53\u7684\u4e0a\u4e0b\u6587\uff0c\u5e76\u5728\u9700\u8981\u65f6\u68c0\u7d22\u5b83\u3002\n\u5177\u4f53\u800c\u8a00\uff0cAgentScope \u5728 ``agentscope.memory`` \u6a21\u5757\u4e0b\u63d0\u4f9b\u4e86\u8bb0\u5fc6\u57fa\u7c7b ``MemoryBase`` \u548c\u4e00\u4e2a\u53ef\u76f4\u63a5\u4f7f\u7528\u7684\u57fa\u4e8e\u5185\u5b58\u5b9e\u73b0 ``InMemoryMemory``\u3002\n\n## \u81ea\u5b9a\u4e49\u8bb0\u5fc6\n\n\u8981\u81ea\u5b9a\u4e49\u60a8\u81ea\u5df1\u7684\u8bb0\u5fc6\uff0c\u53ea\u9700\u7ee7\u627f ``MemoryBase`` \u5e76\u5b9e\u73b0\u4ee5\u4e0b\u65b9\u6cd5\uff1a\n\n.. list-table::\n    :header-rows: 1\n\n    * - \u65b9\u6cd5\n      - \u63cf\u8ff0\n    * - ``add``\n      - \u5411\u8bb0\u5fc6\u4e2d\u6dfb\u52a0 ``Msg`` \u5bf9\u8c61\n    * - ``delete``\n      - \u4ece\u8bb0\u5fc6\u4e2d\u5220\u9664\u9879\u76ee\n    * - ``size``\n      - \u8bb0\u5fc6\u7684\u5927\u5c0f\n    * - ``clear``\n      - \u6e05\u7a7a\u8bb0\u5fc6\u5185\u5bb9\n    * - ``get_memory``\n      - \u4ee5 ``Msg`` \u5bf9\u8c61\u5217\u8868\u7684\u5f62\u5f0f\u83b7\u53d6\u8bb0\u5fc6\u5185\u5bb9\n    * - ``state_dict``\n      - \u83b7\u53d6\u8bb0\u5fc6\u7684\u72b6\u6001\u5b57\u5178\n    * - ``load_state_dict``\n      - \u52a0\u8f7d\u8bb0\u5fc6\u7684\u72b6\u6001\u5b57\u5178\n\n## \u8fdb\u4e00\u6b65\u9605\u8bfb\n\n- `long-term-memory`\n"
      ]
    }
  ],
  "metadata": {
    "kernelspec": {
      "display_name": "Python 3",
      "language": "python",
      "name": "python3"
    },
    "language_info": {
      "codemirror_mode": {
        "name": "ipython",
        "version": 3
      },
      "file_extension": ".py",
      "mimetype": "text/x-python",
      "name": "python",
      "nbconvert_exporter": "python",
      "pygments_lexer": "ipython3",
      "version": "3.10.18"
    }
  },
  "nbformat": 4,
  "nbformat_minor": 0
}</pre><div class="json-formatter-container"></div>